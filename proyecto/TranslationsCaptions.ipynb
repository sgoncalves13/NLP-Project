{
  "nbformat": 4,
  "nbformat_minor": 0,
  "metadata": {
    "colab": {
      "provenance": []
    },
    "kernelspec": {
      "name": "python3",
      "display_name": "Python 3"
    },
    "language_info": {
      "name": "python"
    }
  },
  "cells": [
    {
      "cell_type": "code",
      "source": [
        "!pip install googletrans==4.0.0-rc1"
      ],
      "metadata": {
        "colab": {
          "base_uri": "https://localhost:8080/"
        },
        "id": "r5o0cf4bOCan",
        "outputId": "cc3c4dc8-c4f8-432d-b434-8958a3fc1d40"
      },
      "execution_count": null,
      "outputs": [
        {
          "output_type": "stream",
          "name": "stdout",
          "text": [
            "Collecting googletrans==4.0.0-rc1\n",
            "  Downloading googletrans-4.0.0rc1.tar.gz (20 kB)\n",
            "  Preparing metadata (setup.py) ... \u001b[?25l\u001b[?25hdone\n",
            "Collecting httpx==0.13.3 (from googletrans==4.0.0-rc1)\n",
            "  Downloading httpx-0.13.3-py3-none-any.whl.metadata (25 kB)\n",
            "Requirement already satisfied: certifi in /usr/local/lib/python3.10/dist-packages (from httpx==0.13.3->googletrans==4.0.0-rc1) (2024.8.30)\n",
            "Collecting hstspreload (from httpx==0.13.3->googletrans==4.0.0-rc1)\n",
            "  Downloading hstspreload-2024.11.1-py3-none-any.whl.metadata (2.1 kB)\n",
            "Requirement already satisfied: sniffio in /usr/local/lib/python3.10/dist-packages (from httpx==0.13.3->googletrans==4.0.0-rc1) (1.3.1)\n",
            "Collecting chardet==3.* (from httpx==0.13.3->googletrans==4.0.0-rc1)\n",
            "  Downloading chardet-3.0.4-py2.py3-none-any.whl.metadata (3.2 kB)\n",
            "Collecting idna==2.* (from httpx==0.13.3->googletrans==4.0.0-rc1)\n",
            "  Downloading idna-2.10-py2.py3-none-any.whl.metadata (9.1 kB)\n",
            "Collecting rfc3986<2,>=1.3 (from httpx==0.13.3->googletrans==4.0.0-rc1)\n",
            "  Downloading rfc3986-1.5.0-py2.py3-none-any.whl.metadata (6.5 kB)\n",
            "Collecting httpcore==0.9.* (from httpx==0.13.3->googletrans==4.0.0-rc1)\n",
            "  Downloading httpcore-0.9.1-py3-none-any.whl.metadata (4.6 kB)\n",
            "Collecting h11<0.10,>=0.8 (from httpcore==0.9.*->httpx==0.13.3->googletrans==4.0.0-rc1)\n",
            "  Downloading h11-0.9.0-py2.py3-none-any.whl.metadata (8.1 kB)\n",
            "Collecting h2==3.* (from httpcore==0.9.*->httpx==0.13.3->googletrans==4.0.0-rc1)\n",
            "  Downloading h2-3.2.0-py2.py3-none-any.whl.metadata (32 kB)\n",
            "Collecting hyperframe<6,>=5.2.0 (from h2==3.*->httpcore==0.9.*->httpx==0.13.3->googletrans==4.0.0-rc1)\n",
            "  Downloading hyperframe-5.2.0-py2.py3-none-any.whl.metadata (7.2 kB)\n",
            "Collecting hpack<4,>=3.0 (from h2==3.*->httpcore==0.9.*->httpx==0.13.3->googletrans==4.0.0-rc1)\n",
            "  Downloading hpack-3.0.0-py2.py3-none-any.whl.metadata (7.0 kB)\n",
            "Downloading httpx-0.13.3-py3-none-any.whl (55 kB)\n",
            "\u001b[2K   \u001b[90m━━━━━━━━━━━━━━━━━━━━━━━━━━━━━━━━━━━━━━━━\u001b[0m \u001b[32m55.1/55.1 kB\u001b[0m \u001b[31m3.9 MB/s\u001b[0m eta \u001b[36m0:00:00\u001b[0m\n",
            "\u001b[?25hDownloading chardet-3.0.4-py2.py3-none-any.whl (133 kB)\n",
            "\u001b[2K   \u001b[90m━━━━━━━━━━━━━━━━━━━━━━━━━━━━━━━━━━━━━━━━\u001b[0m \u001b[32m133.4/133.4 kB\u001b[0m \u001b[31m7.1 MB/s\u001b[0m eta \u001b[36m0:00:00\u001b[0m\n",
            "\u001b[?25hDownloading httpcore-0.9.1-py3-none-any.whl (42 kB)\n",
            "\u001b[2K   \u001b[90m━━━━━━━━━━━━━━━━━━━━━━━━━━━━━━━━━━━━━━━━\u001b[0m \u001b[32m42.6/42.6 kB\u001b[0m \u001b[31m2.9 MB/s\u001b[0m eta \u001b[36m0:00:00\u001b[0m\n",
            "\u001b[?25hDownloading idna-2.10-py2.py3-none-any.whl (58 kB)\n",
            "\u001b[2K   \u001b[90m━━━━━━━━━━━━━━━━━━━━━━━━━━━━━━━━━━━━━━━━\u001b[0m \u001b[32m58.8/58.8 kB\u001b[0m \u001b[31m4.1 MB/s\u001b[0m eta \u001b[36m0:00:00\u001b[0m\n",
            "\u001b[?25hDownloading h2-3.2.0-py2.py3-none-any.whl (65 kB)\n",
            "\u001b[2K   \u001b[90m━━━━━━━━━━━━━━━━━━━━━━━━━━━━━━━━━━━━━━━━\u001b[0m \u001b[32m65.0/65.0 kB\u001b[0m \u001b[31m4.2 MB/s\u001b[0m eta \u001b[36m0:00:00\u001b[0m\n",
            "\u001b[?25hDownloading rfc3986-1.5.0-py2.py3-none-any.whl (31 kB)\n",
            "Downloading hstspreload-2024.11.1-py3-none-any.whl (1.2 MB)\n",
            "\u001b[2K   \u001b[90m━━━━━━━━━━━━━━━━━━━━━━━━━━━━━━━━━━━━━━━━\u001b[0m \u001b[32m1.2/1.2 MB\u001b[0m \u001b[31m30.9 MB/s\u001b[0m eta \u001b[36m0:00:00\u001b[0m\n",
            "\u001b[?25hDownloading h11-0.9.0-py2.py3-none-any.whl (53 kB)\n",
            "\u001b[2K   \u001b[90m━━━━━━━━━━━━━━━━━━━━━━━━━━━━━━━━━━━━━━━━\u001b[0m \u001b[32m53.6/53.6 kB\u001b[0m \u001b[31m4.2 MB/s\u001b[0m eta \u001b[36m0:00:00\u001b[0m\n",
            "\u001b[?25hDownloading hpack-3.0.0-py2.py3-none-any.whl (38 kB)\n",
            "Downloading hyperframe-5.2.0-py2.py3-none-any.whl (12 kB)\n",
            "Building wheels for collected packages: googletrans\n",
            "  Building wheel for googletrans (setup.py) ... \u001b[?25l\u001b[?25hdone\n",
            "  Created wheel for googletrans: filename=googletrans-4.0.0rc1-py3-none-any.whl size=17397 sha256=3679e93e72374c9ffada2c14a9ed6ef47d496c2c3e2e36a9353ccc0767159c47\n",
            "  Stored in directory: /root/.cache/pip/wheels/c0/59/9f/7372f0cf70160fe61b528532e1a7c8498c4becd6bcffb022de\n",
            "Successfully built googletrans\n",
            "Installing collected packages: rfc3986, hyperframe, hpack, h11, chardet, idna, hstspreload, h2, httpcore, httpx, googletrans\n",
            "  Attempting uninstall: h11\n",
            "    Found existing installation: h11 0.14.0\n",
            "    Uninstalling h11-0.14.0:\n",
            "      Successfully uninstalled h11-0.14.0\n",
            "  Attempting uninstall: chardet\n",
            "    Found existing installation: chardet 5.2.0\n",
            "    Uninstalling chardet-5.2.0:\n",
            "      Successfully uninstalled chardet-5.2.0\n",
            "  Attempting uninstall: idna\n",
            "    Found existing installation: idna 3.10\n",
            "    Uninstalling idna-3.10:\n",
            "      Successfully uninstalled idna-3.10\n",
            "  Attempting uninstall: httpcore\n",
            "    Found existing installation: httpcore 1.0.6\n",
            "    Uninstalling httpcore-1.0.6:\n",
            "      Successfully uninstalled httpcore-1.0.6\n",
            "  Attempting uninstall: httpx\n",
            "    Found existing installation: httpx 0.27.2\n",
            "    Uninstalling httpx-0.27.2:\n",
            "      Successfully uninstalled httpx-0.27.2\n",
            "\u001b[31mERROR: pip's dependency resolver does not currently take into account all the packages that are installed. This behaviour is the source of the following dependency conflicts.\n",
            "langsmith 0.1.137 requires httpx<1,>=0.23.0, but you have httpx 0.13.3 which is incompatible.\n",
            "openai 1.52.2 requires httpx<1,>=0.23.0, but you have httpx 0.13.3 which is incompatible.\u001b[0m\u001b[31m\n",
            "\u001b[0mSuccessfully installed chardet-3.0.4 googletrans-4.0.0rc1 h11-0.9.0 h2-3.2.0 hpack-3.0.0 hstspreload-2024.11.1 httpcore-0.9.1 httpx-0.13.3 hyperframe-5.2.0 idna-2.10 rfc3986-1.5.0\n"
          ]
        }
      ]
    },
    {
      "cell_type": "code",
      "execution_count": null,
      "metadata": {
        "colab": {
          "base_uri": "https://localhost:8080/"
        },
        "id": "Brv9SBzmN2jr",
        "outputId": "e7a08ba4-67be-4377-dd7f-42b83e280763"
      },
      "outputs": [
        {
          "output_type": "stream",
          "name": "stdout",
          "text": [
            "Error al traducir la línea: yucn9s_Marchas Fifí XD.jpg: a poster with the faces of the actors\n",
            "\n",
            "Error: 'NoneType' object is not iterable\n",
            "Error al traducir la línea: la7ae9_Choose your fighter.jpg: a col of the actors of the movie\n",
            "\n",
            "Error: 'NoneType' object is not iterable\n",
            "Error al traducir la línea: mxqvkt_solo en mexico jajajaja.jpg: a col col of a child with a bird in a bag\n",
            "\n",
            "Error: 'NoneType' object is not iterable\n",
            "Error al traducir la línea: 132sugt_No les a pasado.jpg: a hamy is standing in front of a bus\n",
            "\n",
            "Error: 'NoneType' object is not iterable\n",
            "Error al traducir la línea: wzxaf8_..jpg: a rugby player is running with the ball\n",
            "\n",
            "Error: 'NoneType' object is not iterable\n",
            "Error al traducir la línea: y24yap_Este halloween me disfrazaré de uno de los persona.jpg: a col col of a dog dressed as a polar bear\n",
            "\n",
            "Error: 'NoneType' object is not iterable\n",
            "Error al traducir la línea: xf77an_No mms kbzón.jpg: a poster with the words, ` ` mexicans ' and a dog\n",
            "\n",
            "Error: 'NoneType' object is not iterable\n",
            "Error al traducir la línea: zo76kn_yo_ctm.jpg: a text message with a picture of a baby\n",
            "\n",
            "Error: 'NoneType' object is not iterable\n",
            "Error al traducir la línea: kzar8q_Santiagueños be like.jpg: a baby in a sheep costume and a sheep in a sheep costume\n",
            "\n",
            "Error: 'NoneType' object is not iterable\n",
            "Error al traducir la línea: jwj1ro_fumigado.jpg: a wrestler laying on the ground with his head down\n",
            "\n",
            "Error: 'NoneType' object is not iterable\n",
            "Error al traducir la línea: th5jyi_🐶.jpg: a dog with a capt that says it is a dog\n",
            "\n",
            "Error: 'NoneType' object is not iterable\n",
            "Error al traducir la línea: jqzy64_yo_ctm.jpg: a child is standing in front of a crowd\n",
            "\n",
            "Error: 'NoneType' object is not iterable\n",
            "Error al traducir la línea: 1bim65g_yo_ctm.jpg: a screenshot of a baby in a hospital\n",
            "\n",
            "Error: 'NoneType' object is not iterable\n",
            "Error al traducir la línea: 128ykjw_Placa_ctm.jpg: the motherboard of the msx990\n",
            "\n",
            "Error: 'NoneType' object is not iterable\n",
            "Error al traducir la línea: x93yv5_Mexicanos.jpg: a poster with the words mexican and spanish\n",
            "\n",
            "Error: 'NoneType' object is not iterable\n",
            "Error al traducir la línea: 112805g_Ya huele.jpg: a col of a yoo yo yoo yoo yoo yoo yoo yoo\n",
            "\n",
            "Error: 'NoneType' object is not iterable\n",
            "Traducción completa. Archivo guardado en image_captions_translated.txt\n"
          ]
        }
      ],
      "source": [
        "from googletrans import Translator\n",
        "\n",
        "translator = Translator()\n",
        "\n",
        "input_file = 'image_captions.txt'\n",
        "output_file = 'image_captions_translated.txt'\n",
        "\n",
        "with open(input_file, 'r', encoding='utf-8') as infile, open(output_file, 'w', encoding='utf-8') as outfile:\n",
        "    for line in infile:\n",
        "        parts = line.split(\":\", 1)\n",
        "        if len(parts) == 2:\n",
        "            original_text = parts[0] + \":\"\n",
        "            description = parts[1].strip()\n",
        "            try:\n",
        "                if description:\n",
        "                    result = translator.translate(description, src='en', dest='es').text\n",
        "                else:\n",
        "                    result = description\n",
        "                translated_line = f\"{original_text} {result}\"\n",
        "            except Exception as e:\n",
        "                print(f\"Error al traducir la línea: {line}\\nError: {e}\")\n",
        "                translated_line = line.strip()\n",
        "        else:\n",
        "            translated_line = line.strip()\n",
        "        outfile.write(translated_line + \"\\n\")\n",
        "\n",
        "print(\"Traducción completa. Archivo guardado en\", output_file)\n"
      ]
    }
  ]
}