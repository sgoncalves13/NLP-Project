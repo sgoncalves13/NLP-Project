{
  "cells": [
    {
      "cell_type": "markdown",
      "source": [
        "# **PROYECTO HUMOR** Modelo Binario con LSTM\n",
        "\n",
        "**Autores:**\n",
        "\n",
        "* Juan Camilo Acosta Rojas - 202324893\n",
        "* Samuel Goncalves Vergara - 202122595\n",
        "* Jefferson Hernández - 202120242\n",
        "* Juan Andrés Mendez - 201815808"
      ],
      "metadata": {
        "id": "Ux7cYDPqyo2A"
      },
      "id": "Ux7cYDPqyo2A"
    },
    {
      "cell_type": "code",
      "execution_count": 1,
      "id": "627bdfa9-df15-449e-805d-3064a47f0316",
      "metadata": {
        "id": "627bdfa9-df15-449e-805d-3064a47f0316",
        "colab": {
          "base_uri": "https://localhost:8080/"
        },
        "outputId": "c6f901ea-8a30-4078-cff0-54ab7520f0dc"
      },
      "outputs": [
        {
          "output_type": "stream",
          "name": "stdout",
          "text": [
            "Mounted at /content/drive\n"
          ]
        }
      ],
      "source": [
        "# Importación de librerias de python\n",
        "import matplotlib.pyplot as plt\n",
        "import seaborn as sns\n",
        "import pandas as pd\n",
        "import numpy as np\n",
        "import re\n",
        "\n",
        "# Scikit-learn: División de datos y otras utilidades para machine learning\n",
        "from sklearn.model_selection import train_test_split\n",
        "from sklearn.metrics import confusion_matrix, ConfusionMatrixDisplay, precision_score, recall_score, f1_score\n",
        "\n",
        "# TensorFlow / Keras: Construcción y entrenamiento de redes neuronales\n",
        "import tensorflow as tf\n",
        "from tensorflow.keras import utils\n",
        "from tensorflow.keras.preprocessing.text import Tokenizer\n",
        "from tensorflow.keras.preprocessing.sequence import pad_sequences\n",
        "from tensorflow.keras.layers import Embedding, Flatten, LSTM, Dense, Dropout, Bidirectional\n",
        "from tensorflow.keras.models import Sequential, load_model\n",
        "\n",
        "# Conexión con drive para obtener el dataset\n",
        "from google.colab import drive\n",
        "drive.mount('/content/drive')"
      ]
    },
    {
      "cell_type": "markdown",
      "source": [
        "## **1. Carga de los datos**"
      ],
      "metadata": {
        "id": "3a5E_deUzkMl"
      },
      "id": "3a5E_deUzkMl"
    },
    {
      "cell_type": "markdown",
      "source": [
        "Primero, se extraen los 10000 datos chistosos y los otros 10000 datos no chistosos. En total son 20000 registros."
      ],
      "metadata": {
        "id": "Cw5v9v-LzvME"
      },
      "id": "Cw5v9v-LzvME"
    },
    {
      "cell_type": "code",
      "execution_count": 2,
      "id": "53e7f23b-b87c-4dd5-9680-9a9797dd0590",
      "metadata": {
        "id": "53e7f23b-b87c-4dd5-9680-9a9797dd0590",
        "colab": {
          "base_uri": "https://localhost:8080/",
          "height": 267
        },
        "outputId": "e947bda5-70e6-4cf4-9977-9cdbf2f7db3c"
      },
      "outputs": [
        {
          "output_type": "stream",
          "name": "stdout",
          "text": [
            "(20000, 20)\n"
          ]
        },
        {
          "output_type": "execute_result",
          "data": {
            "text/plain": [
              "              id                                               text Fuente  \\\n",
              "9355  tweet14163                             sete  #JFCJustinBieber    NaN   \n",
              "7959  tweet11984                            Buenos días Terremoters    NaN   \n",
              "9587  tweet14497  Todo lo que necesito en esta vida es que tu me...    NaN   \n",
              "\n",
              "      es_gracioso_p1  es_gracioso_p2  es_gracioso_p3  Es_gracioso  \\\n",
              "9355             NaN             NaN             NaN          0.0   \n",
              "7959             NaN             NaN             NaN          0.0   \n",
              "9587             NaN             NaN             NaN          0.0   \n",
              "\n",
              "      nivel_gracia_p1  nivel_gracia_p2  nivel_gracia_p3  is_humor  votes_no  \\\n",
              "9355              NaN              NaN              NaN       0.0       3.0   \n",
              "7959              NaN              NaN              NaN       0.0       3.0   \n",
              "9587              NaN              NaN              NaN       0.0       3.0   \n",
              "\n",
              "      votes_1  votes_2  votes_3  votes_4  votes_5  humor_rating  \\\n",
              "9355      0.0      0.0      0.0      0.0      0.0           NaN   \n",
              "7959      0.0      0.0      0.0      0.0      0.0           NaN   \n",
              "9587      0.0      0.0      0.0      0.0      0.0           NaN   \n",
              "\n",
              "      humor_mechanism  humor_target  \n",
              "9355              NaN           NaN  \n",
              "7959              NaN           NaN  \n",
              "9587              NaN           NaN  "
            ],
            "text/html": [
              "\n",
              "  <div id=\"df-d3df221d-28e3-4e22-bfc8-386b612086be\" class=\"colab-df-container\">\n",
              "    <div>\n",
              "<style scoped>\n",
              "    .dataframe tbody tr th:only-of-type {\n",
              "        vertical-align: middle;\n",
              "    }\n",
              "\n",
              "    .dataframe tbody tr th {\n",
              "        vertical-align: top;\n",
              "    }\n",
              "\n",
              "    .dataframe thead th {\n",
              "        text-align: right;\n",
              "    }\n",
              "</style>\n",
              "<table border=\"1\" class=\"dataframe\">\n",
              "  <thead>\n",
              "    <tr style=\"text-align: right;\">\n",
              "      <th></th>\n",
              "      <th>id</th>\n",
              "      <th>text</th>\n",
              "      <th>Fuente</th>\n",
              "      <th>es_gracioso_p1</th>\n",
              "      <th>es_gracioso_p2</th>\n",
              "      <th>es_gracioso_p3</th>\n",
              "      <th>Es_gracioso</th>\n",
              "      <th>nivel_gracia_p1</th>\n",
              "      <th>nivel_gracia_p2</th>\n",
              "      <th>nivel_gracia_p3</th>\n",
              "      <th>is_humor</th>\n",
              "      <th>votes_no</th>\n",
              "      <th>votes_1</th>\n",
              "      <th>votes_2</th>\n",
              "      <th>votes_3</th>\n",
              "      <th>votes_4</th>\n",
              "      <th>votes_5</th>\n",
              "      <th>humor_rating</th>\n",
              "      <th>humor_mechanism</th>\n",
              "      <th>humor_target</th>\n",
              "    </tr>\n",
              "  </thead>\n",
              "  <tbody>\n",
              "    <tr>\n",
              "      <th>9355</th>\n",
              "      <td>tweet14163</td>\n",
              "      <td>sete  #JFCJustinBieber</td>\n",
              "      <td>NaN</td>\n",
              "      <td>NaN</td>\n",
              "      <td>NaN</td>\n",
              "      <td>NaN</td>\n",
              "      <td>0.0</td>\n",
              "      <td>NaN</td>\n",
              "      <td>NaN</td>\n",
              "      <td>NaN</td>\n",
              "      <td>0.0</td>\n",
              "      <td>3.0</td>\n",
              "      <td>0.0</td>\n",
              "      <td>0.0</td>\n",
              "      <td>0.0</td>\n",
              "      <td>0.0</td>\n",
              "      <td>0.0</td>\n",
              "      <td>NaN</td>\n",
              "      <td>NaN</td>\n",
              "      <td>NaN</td>\n",
              "    </tr>\n",
              "    <tr>\n",
              "      <th>7959</th>\n",
              "      <td>tweet11984</td>\n",
              "      <td>Buenos días Terremoters</td>\n",
              "      <td>NaN</td>\n",
              "      <td>NaN</td>\n",
              "      <td>NaN</td>\n",
              "      <td>NaN</td>\n",
              "      <td>0.0</td>\n",
              "      <td>NaN</td>\n",
              "      <td>NaN</td>\n",
              "      <td>NaN</td>\n",
              "      <td>0.0</td>\n",
              "      <td>3.0</td>\n",
              "      <td>0.0</td>\n",
              "      <td>0.0</td>\n",
              "      <td>0.0</td>\n",
              "      <td>0.0</td>\n",
              "      <td>0.0</td>\n",
              "      <td>NaN</td>\n",
              "      <td>NaN</td>\n",
              "      <td>NaN</td>\n",
              "    </tr>\n",
              "    <tr>\n",
              "      <th>9587</th>\n",
              "      <td>tweet14497</td>\n",
              "      <td>Todo lo que necesito en esta vida es que tu me...</td>\n",
              "      <td>NaN</td>\n",
              "      <td>NaN</td>\n",
              "      <td>NaN</td>\n",
              "      <td>NaN</td>\n",
              "      <td>0.0</td>\n",
              "      <td>NaN</td>\n",
              "      <td>NaN</td>\n",
              "      <td>NaN</td>\n",
              "      <td>0.0</td>\n",
              "      <td>3.0</td>\n",
              "      <td>0.0</td>\n",
              "      <td>0.0</td>\n",
              "      <td>0.0</td>\n",
              "      <td>0.0</td>\n",
              "      <td>0.0</td>\n",
              "      <td>NaN</td>\n",
              "      <td>NaN</td>\n",
              "      <td>NaN</td>\n",
              "    </tr>\n",
              "  </tbody>\n",
              "</table>\n",
              "</div>\n",
              "    <div class=\"colab-df-buttons\">\n",
              "\n",
              "  <div class=\"colab-df-container\">\n",
              "    <button class=\"colab-df-convert\" onclick=\"convertToInteractive('df-d3df221d-28e3-4e22-bfc8-386b612086be')\"\n",
              "            title=\"Convert this dataframe to an interactive table.\"\n",
              "            style=\"display:none;\">\n",
              "\n",
              "  <svg xmlns=\"http://www.w3.org/2000/svg\" height=\"24px\" viewBox=\"0 -960 960 960\">\n",
              "    <path d=\"M120-120v-720h720v720H120Zm60-500h600v-160H180v160Zm220 220h160v-160H400v160Zm0 220h160v-160H400v160ZM180-400h160v-160H180v160Zm440 0h160v-160H620v160ZM180-180h160v-160H180v160Zm440 0h160v-160H620v160Z\"/>\n",
              "  </svg>\n",
              "    </button>\n",
              "\n",
              "  <style>\n",
              "    .colab-df-container {\n",
              "      display:flex;\n",
              "      gap: 12px;\n",
              "    }\n",
              "\n",
              "    .colab-df-convert {\n",
              "      background-color: #E8F0FE;\n",
              "      border: none;\n",
              "      border-radius: 50%;\n",
              "      cursor: pointer;\n",
              "      display: none;\n",
              "      fill: #1967D2;\n",
              "      height: 32px;\n",
              "      padding: 0 0 0 0;\n",
              "      width: 32px;\n",
              "    }\n",
              "\n",
              "    .colab-df-convert:hover {\n",
              "      background-color: #E2EBFA;\n",
              "      box-shadow: 0px 1px 2px rgba(60, 64, 67, 0.3), 0px 1px 3px 1px rgba(60, 64, 67, 0.15);\n",
              "      fill: #174EA6;\n",
              "    }\n",
              "\n",
              "    .colab-df-buttons div {\n",
              "      margin-bottom: 4px;\n",
              "    }\n",
              "\n",
              "    [theme=dark] .colab-df-convert {\n",
              "      background-color: #3B4455;\n",
              "      fill: #D2E3FC;\n",
              "    }\n",
              "\n",
              "    [theme=dark] .colab-df-convert:hover {\n",
              "      background-color: #434B5C;\n",
              "      box-shadow: 0px 1px 3px 1px rgba(0, 0, 0, 0.15);\n",
              "      filter: drop-shadow(0px 1px 2px rgba(0, 0, 0, 0.3));\n",
              "      fill: #FFFFFF;\n",
              "    }\n",
              "  </style>\n",
              "\n",
              "    <script>\n",
              "      const buttonEl =\n",
              "        document.querySelector('#df-d3df221d-28e3-4e22-bfc8-386b612086be button.colab-df-convert');\n",
              "      buttonEl.style.display =\n",
              "        google.colab.kernel.accessAllowed ? 'block' : 'none';\n",
              "\n",
              "      async function convertToInteractive(key) {\n",
              "        const element = document.querySelector('#df-d3df221d-28e3-4e22-bfc8-386b612086be');\n",
              "        const dataTable =\n",
              "          await google.colab.kernel.invokeFunction('convertToInteractive',\n",
              "                                                    [key], {});\n",
              "        if (!dataTable) return;\n",
              "\n",
              "        const docLinkHtml = 'Like what you see? Visit the ' +\n",
              "          '<a target=\"_blank\" href=https://colab.research.google.com/notebooks/data_table.ipynb>data table notebook</a>'\n",
              "          + ' to learn more about interactive tables.';\n",
              "        element.innerHTML = '';\n",
              "        dataTable['output_type'] = 'display_data';\n",
              "        await google.colab.output.renderOutput(dataTable, element);\n",
              "        const docLink = document.createElement('div');\n",
              "        docLink.innerHTML = docLinkHtml;\n",
              "        element.appendChild(docLink);\n",
              "      }\n",
              "    </script>\n",
              "  </div>\n",
              "\n",
              "\n",
              "<div id=\"df-b15c4f11-6163-4e15-8e42-2f3b787d78bd\">\n",
              "  <button class=\"colab-df-quickchart\" onclick=\"quickchart('df-b15c4f11-6163-4e15-8e42-2f3b787d78bd')\"\n",
              "            title=\"Suggest charts\"\n",
              "            style=\"display:none;\">\n",
              "\n",
              "<svg xmlns=\"http://www.w3.org/2000/svg\" height=\"24px\"viewBox=\"0 0 24 24\"\n",
              "     width=\"24px\">\n",
              "    <g>\n",
              "        <path d=\"M19 3H5c-1.1 0-2 .9-2 2v14c0 1.1.9 2 2 2h14c1.1 0 2-.9 2-2V5c0-1.1-.9-2-2-2zM9 17H7v-7h2v7zm4 0h-2V7h2v10zm4 0h-2v-4h2v4z\"/>\n",
              "    </g>\n",
              "</svg>\n",
              "  </button>\n",
              "\n",
              "<style>\n",
              "  .colab-df-quickchart {\n",
              "      --bg-color: #E8F0FE;\n",
              "      --fill-color: #1967D2;\n",
              "      --hover-bg-color: #E2EBFA;\n",
              "      --hover-fill-color: #174EA6;\n",
              "      --disabled-fill-color: #AAA;\n",
              "      --disabled-bg-color: #DDD;\n",
              "  }\n",
              "\n",
              "  [theme=dark] .colab-df-quickchart {\n",
              "      --bg-color: #3B4455;\n",
              "      --fill-color: #D2E3FC;\n",
              "      --hover-bg-color: #434B5C;\n",
              "      --hover-fill-color: #FFFFFF;\n",
              "      --disabled-bg-color: #3B4455;\n",
              "      --disabled-fill-color: #666;\n",
              "  }\n",
              "\n",
              "  .colab-df-quickchart {\n",
              "    background-color: var(--bg-color);\n",
              "    border: none;\n",
              "    border-radius: 50%;\n",
              "    cursor: pointer;\n",
              "    display: none;\n",
              "    fill: var(--fill-color);\n",
              "    height: 32px;\n",
              "    padding: 0;\n",
              "    width: 32px;\n",
              "  }\n",
              "\n",
              "  .colab-df-quickchart:hover {\n",
              "    background-color: var(--hover-bg-color);\n",
              "    box-shadow: 0 1px 2px rgba(60, 64, 67, 0.3), 0 1px 3px 1px rgba(60, 64, 67, 0.15);\n",
              "    fill: var(--button-hover-fill-color);\n",
              "  }\n",
              "\n",
              "  .colab-df-quickchart-complete:disabled,\n",
              "  .colab-df-quickchart-complete:disabled:hover {\n",
              "    background-color: var(--disabled-bg-color);\n",
              "    fill: var(--disabled-fill-color);\n",
              "    box-shadow: none;\n",
              "  }\n",
              "\n",
              "  .colab-df-spinner {\n",
              "    border: 2px solid var(--fill-color);\n",
              "    border-color: transparent;\n",
              "    border-bottom-color: var(--fill-color);\n",
              "    animation:\n",
              "      spin 1s steps(1) infinite;\n",
              "  }\n",
              "\n",
              "  @keyframes spin {\n",
              "    0% {\n",
              "      border-color: transparent;\n",
              "      border-bottom-color: var(--fill-color);\n",
              "      border-left-color: var(--fill-color);\n",
              "    }\n",
              "    20% {\n",
              "      border-color: transparent;\n",
              "      border-left-color: var(--fill-color);\n",
              "      border-top-color: var(--fill-color);\n",
              "    }\n",
              "    30% {\n",
              "      border-color: transparent;\n",
              "      border-left-color: var(--fill-color);\n",
              "      border-top-color: var(--fill-color);\n",
              "      border-right-color: var(--fill-color);\n",
              "    }\n",
              "    40% {\n",
              "      border-color: transparent;\n",
              "      border-right-color: var(--fill-color);\n",
              "      border-top-color: var(--fill-color);\n",
              "    }\n",
              "    60% {\n",
              "      border-color: transparent;\n",
              "      border-right-color: var(--fill-color);\n",
              "    }\n",
              "    80% {\n",
              "      border-color: transparent;\n",
              "      border-right-color: var(--fill-color);\n",
              "      border-bottom-color: var(--fill-color);\n",
              "    }\n",
              "    90% {\n",
              "      border-color: transparent;\n",
              "      border-bottom-color: var(--fill-color);\n",
              "    }\n",
              "  }\n",
              "</style>\n",
              "\n",
              "  <script>\n",
              "    async function quickchart(key) {\n",
              "      const quickchartButtonEl =\n",
              "        document.querySelector('#' + key + ' button');\n",
              "      quickchartButtonEl.disabled = true;  // To prevent multiple clicks.\n",
              "      quickchartButtonEl.classList.add('colab-df-spinner');\n",
              "      try {\n",
              "        const charts = await google.colab.kernel.invokeFunction(\n",
              "            'suggestCharts', [key], {});\n",
              "      } catch (error) {\n",
              "        console.error('Error during call to suggestCharts:', error);\n",
              "      }\n",
              "      quickchartButtonEl.classList.remove('colab-df-spinner');\n",
              "      quickchartButtonEl.classList.add('colab-df-quickchart-complete');\n",
              "    }\n",
              "    (() => {\n",
              "      let quickchartButtonEl =\n",
              "        document.querySelector('#df-b15c4f11-6163-4e15-8e42-2f3b787d78bd button');\n",
              "      quickchartButtonEl.style.display =\n",
              "        google.colab.kernel.accessAllowed ? 'block' : 'none';\n",
              "    })();\n",
              "  </script>\n",
              "</div>\n",
              "\n",
              "    </div>\n",
              "  </div>\n"
            ],
            "application/vnd.google.colaboratory.intrinsic+json": {
              "type": "dataframe",
              "repr_error": "0"
            }
          },
          "metadata": {},
          "execution_count": 2
        }
      ],
      "source": [
        "url_graceful_dataset = \"/content/drive/MyDrive/proyecto NLP/humor_dataset.csv\"\n",
        "url_non_graceful_dataset = \"/content/drive/MyDrive/proyecto NLP/datosNochistosos.csv\"\n",
        "\n",
        "df_graceful = pd.read_csv(url_graceful_dataset)\n",
        "df_non_graceful = pd.read_csv(url_non_graceful_dataset)\n",
        "\n",
        "dataset = pd.concat([df_graceful, df_non_graceful])\n",
        "dataset['Es_gracioso'] = dataset['Es_gracioso'].fillna(0)\n",
        "\n",
        "# Se muestra 5 ejemplos aleatorios del dataset donde la columna \"Es_gracioso\" indica si es chistoso o no.\n",
        "print(dataset.shape)\n",
        "dataset.sample(n=3)"
      ]
    },
    {
      "cell_type": "markdown",
      "id": "0b9b6f04-5759-4a63-9a51-00ed427a7760",
      "metadata": {
        "id": "0b9b6f04-5759-4a63-9a51-00ed427a7760"
      },
      "source": [
        "## **2. Preprocesamiento de los datos**"
      ]
    },
    {
      "cell_type": "markdown",
      "source": [
        "Segundo, para el preprocesamiento usamos varios pasos. Primero se reemplazan URLs, menciones de usuarios, hashtags y emojis por tokens genéricos (<URL'>, <USUARIO'>, <HASH_TAG'>, <EMOJI'>), lo que reduce la dimensionalidad del texto sin perder contexto. Además, se convierte todo a minúsculas para uniformidad, se eliminan signos de puntuación y nombres de archivos irrelevantes."
      ],
      "metadata": {
        "id": "X-0nzk9w1Y3Q"
      },
      "id": "X-0nzk9w1Y3Q"
    },
    {
      "cell_type": "code",
      "execution_count": 3,
      "id": "0ef992a6-cc02-4cdf-804e-2055d1d4dcac",
      "metadata": {
        "id": "0ef992a6-cc02-4cdf-804e-2055d1d4dcac",
        "colab": {
          "base_uri": "https://localhost:8080/",
          "height": 143
        },
        "outputId": "31a65601-cb48-4a21-f13b-bcbb353688d2"
      },
      "outputs": [
        {
          "output_type": "execute_result",
          "data": {
            "text/plain": [
              "                                                   text  Es_gracioso\n",
              "9649  a qué hora informan el acontecer nacional y no...          0.0\n",
              "1386  ahora más lacra y menos hippie porque entendí ...          0.0\n",
              "5565  las series de moda siempre llegan con recomend...          1.0"
            ],
            "text/html": [
              "\n",
              "  <div id=\"df-4c41ea66-5780-4d92-a81e-b067499265a5\" class=\"colab-df-container\">\n",
              "    <div>\n",
              "<style scoped>\n",
              "    .dataframe tbody tr th:only-of-type {\n",
              "        vertical-align: middle;\n",
              "    }\n",
              "\n",
              "    .dataframe tbody tr th {\n",
              "        vertical-align: top;\n",
              "    }\n",
              "\n",
              "    .dataframe thead th {\n",
              "        text-align: right;\n",
              "    }\n",
              "</style>\n",
              "<table border=\"1\" class=\"dataframe\">\n",
              "  <thead>\n",
              "    <tr style=\"text-align: right;\">\n",
              "      <th></th>\n",
              "      <th>text</th>\n",
              "      <th>Es_gracioso</th>\n",
              "    </tr>\n",
              "  </thead>\n",
              "  <tbody>\n",
              "    <tr>\n",
              "      <th>9649</th>\n",
              "      <td>a qué hora informan el acontecer nacional y no...</td>\n",
              "      <td>0.0</td>\n",
              "    </tr>\n",
              "    <tr>\n",
              "      <th>1386</th>\n",
              "      <td>ahora más lacra y menos hippie porque entendí ...</td>\n",
              "      <td>0.0</td>\n",
              "    </tr>\n",
              "    <tr>\n",
              "      <th>5565</th>\n",
              "      <td>las series de moda siempre llegan con recomend...</td>\n",
              "      <td>1.0</td>\n",
              "    </tr>\n",
              "  </tbody>\n",
              "</table>\n",
              "</div>\n",
              "    <div class=\"colab-df-buttons\">\n",
              "\n",
              "  <div class=\"colab-df-container\">\n",
              "    <button class=\"colab-df-convert\" onclick=\"convertToInteractive('df-4c41ea66-5780-4d92-a81e-b067499265a5')\"\n",
              "            title=\"Convert this dataframe to an interactive table.\"\n",
              "            style=\"display:none;\">\n",
              "\n",
              "  <svg xmlns=\"http://www.w3.org/2000/svg\" height=\"24px\" viewBox=\"0 -960 960 960\">\n",
              "    <path d=\"M120-120v-720h720v720H120Zm60-500h600v-160H180v160Zm220 220h160v-160H400v160Zm0 220h160v-160H400v160ZM180-400h160v-160H180v160Zm440 0h160v-160H620v160ZM180-180h160v-160H180v160Zm440 0h160v-160H620v160Z\"/>\n",
              "  </svg>\n",
              "    </button>\n",
              "\n",
              "  <style>\n",
              "    .colab-df-container {\n",
              "      display:flex;\n",
              "      gap: 12px;\n",
              "    }\n",
              "\n",
              "    .colab-df-convert {\n",
              "      background-color: #E8F0FE;\n",
              "      border: none;\n",
              "      border-radius: 50%;\n",
              "      cursor: pointer;\n",
              "      display: none;\n",
              "      fill: #1967D2;\n",
              "      height: 32px;\n",
              "      padding: 0 0 0 0;\n",
              "      width: 32px;\n",
              "    }\n",
              "\n",
              "    .colab-df-convert:hover {\n",
              "      background-color: #E2EBFA;\n",
              "      box-shadow: 0px 1px 2px rgba(60, 64, 67, 0.3), 0px 1px 3px 1px rgba(60, 64, 67, 0.15);\n",
              "      fill: #174EA6;\n",
              "    }\n",
              "\n",
              "    .colab-df-buttons div {\n",
              "      margin-bottom: 4px;\n",
              "    }\n",
              "\n",
              "    [theme=dark] .colab-df-convert {\n",
              "      background-color: #3B4455;\n",
              "      fill: #D2E3FC;\n",
              "    }\n",
              "\n",
              "    [theme=dark] .colab-df-convert:hover {\n",
              "      background-color: #434B5C;\n",
              "      box-shadow: 0px 1px 3px 1px rgba(0, 0, 0, 0.15);\n",
              "      filter: drop-shadow(0px 1px 2px rgba(0, 0, 0, 0.3));\n",
              "      fill: #FFFFFF;\n",
              "    }\n",
              "  </style>\n",
              "\n",
              "    <script>\n",
              "      const buttonEl =\n",
              "        document.querySelector('#df-4c41ea66-5780-4d92-a81e-b067499265a5 button.colab-df-convert');\n",
              "      buttonEl.style.display =\n",
              "        google.colab.kernel.accessAllowed ? 'block' : 'none';\n",
              "\n",
              "      async function convertToInteractive(key) {\n",
              "        const element = document.querySelector('#df-4c41ea66-5780-4d92-a81e-b067499265a5');\n",
              "        const dataTable =\n",
              "          await google.colab.kernel.invokeFunction('convertToInteractive',\n",
              "                                                    [key], {});\n",
              "        if (!dataTable) return;\n",
              "\n",
              "        const docLinkHtml = 'Like what you see? Visit the ' +\n",
              "          '<a target=\"_blank\" href=https://colab.research.google.com/notebooks/data_table.ipynb>data table notebook</a>'\n",
              "          + ' to learn more about interactive tables.';\n",
              "        element.innerHTML = '';\n",
              "        dataTable['output_type'] = 'display_data';\n",
              "        await google.colab.output.renderOutput(dataTable, element);\n",
              "        const docLink = document.createElement('div');\n",
              "        docLink.innerHTML = docLinkHtml;\n",
              "        element.appendChild(docLink);\n",
              "      }\n",
              "    </script>\n",
              "  </div>\n",
              "\n",
              "\n",
              "<div id=\"df-46c7850c-4788-4699-b182-067dc83a310b\">\n",
              "  <button class=\"colab-df-quickchart\" onclick=\"quickchart('df-46c7850c-4788-4699-b182-067dc83a310b')\"\n",
              "            title=\"Suggest charts\"\n",
              "            style=\"display:none;\">\n",
              "\n",
              "<svg xmlns=\"http://www.w3.org/2000/svg\" height=\"24px\"viewBox=\"0 0 24 24\"\n",
              "     width=\"24px\">\n",
              "    <g>\n",
              "        <path d=\"M19 3H5c-1.1 0-2 .9-2 2v14c0 1.1.9 2 2 2h14c1.1 0 2-.9 2-2V5c0-1.1-.9-2-2-2zM9 17H7v-7h2v7zm4 0h-2V7h2v10zm4 0h-2v-4h2v4z\"/>\n",
              "    </g>\n",
              "</svg>\n",
              "  </button>\n",
              "\n",
              "<style>\n",
              "  .colab-df-quickchart {\n",
              "      --bg-color: #E8F0FE;\n",
              "      --fill-color: #1967D2;\n",
              "      --hover-bg-color: #E2EBFA;\n",
              "      --hover-fill-color: #174EA6;\n",
              "      --disabled-fill-color: #AAA;\n",
              "      --disabled-bg-color: #DDD;\n",
              "  }\n",
              "\n",
              "  [theme=dark] .colab-df-quickchart {\n",
              "      --bg-color: #3B4455;\n",
              "      --fill-color: #D2E3FC;\n",
              "      --hover-bg-color: #434B5C;\n",
              "      --hover-fill-color: #FFFFFF;\n",
              "      --disabled-bg-color: #3B4455;\n",
              "      --disabled-fill-color: #666;\n",
              "  }\n",
              "\n",
              "  .colab-df-quickchart {\n",
              "    background-color: var(--bg-color);\n",
              "    border: none;\n",
              "    border-radius: 50%;\n",
              "    cursor: pointer;\n",
              "    display: none;\n",
              "    fill: var(--fill-color);\n",
              "    height: 32px;\n",
              "    padding: 0;\n",
              "    width: 32px;\n",
              "  }\n",
              "\n",
              "  .colab-df-quickchart:hover {\n",
              "    background-color: var(--hover-bg-color);\n",
              "    box-shadow: 0 1px 2px rgba(60, 64, 67, 0.3), 0 1px 3px 1px rgba(60, 64, 67, 0.15);\n",
              "    fill: var(--button-hover-fill-color);\n",
              "  }\n",
              "\n",
              "  .colab-df-quickchart-complete:disabled,\n",
              "  .colab-df-quickchart-complete:disabled:hover {\n",
              "    background-color: var(--disabled-bg-color);\n",
              "    fill: var(--disabled-fill-color);\n",
              "    box-shadow: none;\n",
              "  }\n",
              "\n",
              "  .colab-df-spinner {\n",
              "    border: 2px solid var(--fill-color);\n",
              "    border-color: transparent;\n",
              "    border-bottom-color: var(--fill-color);\n",
              "    animation:\n",
              "      spin 1s steps(1) infinite;\n",
              "  }\n",
              "\n",
              "  @keyframes spin {\n",
              "    0% {\n",
              "      border-color: transparent;\n",
              "      border-bottom-color: var(--fill-color);\n",
              "      border-left-color: var(--fill-color);\n",
              "    }\n",
              "    20% {\n",
              "      border-color: transparent;\n",
              "      border-left-color: var(--fill-color);\n",
              "      border-top-color: var(--fill-color);\n",
              "    }\n",
              "    30% {\n",
              "      border-color: transparent;\n",
              "      border-left-color: var(--fill-color);\n",
              "      border-top-color: var(--fill-color);\n",
              "      border-right-color: var(--fill-color);\n",
              "    }\n",
              "    40% {\n",
              "      border-color: transparent;\n",
              "      border-right-color: var(--fill-color);\n",
              "      border-top-color: var(--fill-color);\n",
              "    }\n",
              "    60% {\n",
              "      border-color: transparent;\n",
              "      border-right-color: var(--fill-color);\n",
              "    }\n",
              "    80% {\n",
              "      border-color: transparent;\n",
              "      border-right-color: var(--fill-color);\n",
              "      border-bottom-color: var(--fill-color);\n",
              "    }\n",
              "    90% {\n",
              "      border-color: transparent;\n",
              "      border-bottom-color: var(--fill-color);\n",
              "    }\n",
              "  }\n",
              "</style>\n",
              "\n",
              "  <script>\n",
              "    async function quickchart(key) {\n",
              "      const quickchartButtonEl =\n",
              "        document.querySelector('#' + key + ' button');\n",
              "      quickchartButtonEl.disabled = true;  // To prevent multiple clicks.\n",
              "      quickchartButtonEl.classList.add('colab-df-spinner');\n",
              "      try {\n",
              "        const charts = await google.colab.kernel.invokeFunction(\n",
              "            'suggestCharts', [key], {});\n",
              "      } catch (error) {\n",
              "        console.error('Error during call to suggestCharts:', error);\n",
              "      }\n",
              "      quickchartButtonEl.classList.remove('colab-df-spinner');\n",
              "      quickchartButtonEl.classList.add('colab-df-quickchart-complete');\n",
              "    }\n",
              "    (() => {\n",
              "      let quickchartButtonEl =\n",
              "        document.querySelector('#df-46c7850c-4788-4699-b182-067dc83a310b button');\n",
              "      quickchartButtonEl.style.display =\n",
              "        google.colab.kernel.accessAllowed ? 'block' : 'none';\n",
              "    })();\n",
              "  </script>\n",
              "</div>\n",
              "\n",
              "    </div>\n",
              "  </div>\n"
            ],
            "application/vnd.google.colaboratory.intrinsic+json": {
              "type": "dataframe",
              "summary": "{\n  \"name\": \"dataset\",\n  \"rows\": 3,\n  \"fields\": [\n    {\n      \"column\": \"text\",\n      \"properties\": {\n        \"dtype\": \"string\",\n        \"num_unique_values\": 3,\n        \"samples\": [\n          \"a qu\\u00e9 hora informan el acontecer nacional y no festival\\nHASH_TAG HASH_TAG HASH_TAG HASH_TAG HASH_TAG\",\n          \"ahora m\\u00e1s lacra y menos hippie porque entend\\u00ed que el billete mata el hambre y paga el creepy\",\n          \"las series de moda siempre llegan con recomendaciones de todos empiezas una y cuando te das cuenta tienes una lista interminable de episodios pendientes\"\n        ],\n        \"semantic_type\": \"\",\n        \"description\": \"\"\n      }\n    },\n    {\n      \"column\": \"Es_gracioso\",\n      \"properties\": {\n        \"dtype\": \"number\",\n        \"std\": 0.5773502691896258,\n        \"min\": 0.0,\n        \"max\": 1.0,\n        \"num_unique_values\": 2,\n        \"samples\": [\n          1.0,\n          0.0\n        ],\n        \"semantic_type\": \"\",\n        \"description\": \"\"\n      }\n    }\n  ]\n}"
            }
          },
          "metadata": {},
          "execution_count": 3
        }
      ],
      "source": [
        "\"\"\"\n",
        "Función para limpiar un texto (chiste) que entra por parámetro\n",
        "\"\"\"\n",
        "def preprocess_text(text):\n",
        "    # Transformación de las URLs a su token <URL>\n",
        "    text = re.sub(r'http\\S+', '<URL>', text)\n",
        "\n",
        "    # Transformación de las menciones de usaurio a su token <USUARIO>\n",
        "    text = re.sub(r'@\\w+', '<USUARIO>', text)\n",
        "\n",
        "    # Dejar en miniscula el texto\n",
        "    text = text.lower()\n",
        "\n",
        "    # Eliminar emojis\n",
        "    text = re.sub(r'[\\U0001F600-\\U0001F64F\\U0001F300-\\U0001F5FF\\U0001F680-\\U0001F6FF\\U0001F700-\\U0001F77F\\U0001F780-\\U0001F7FF\\U0001F800-\\U0001F8FF\\U0001F900-\\U0001F9FF\\U0001FA00-\\U0001FA6F\\U0001FA70-\\U0001FAFF\\U00002702-\\U000027B0\\U000024C2-\\U0001F251]+', '', text)\n",
        "    text = re.sub(r':\\)|;\\)|:-\\)|:-\\(|:-\\(|:-\\*|:-\\)|:P|:D|:<|:-P', '<EMOJI>', text)\n",
        "\n",
        "    # Transformación de los hashtags a su token <HASH_TAG>\n",
        "    text = re.sub(r'#\\w+', '<HASH_TAG>', text)\n",
        "\n",
        "    # Eliminar puntuación\n",
        "    text = re.sub(r'[^\\w\\s]', '', text)\n",
        "\n",
        "    # Transformación de las imagenes a su token <IMAGE>\n",
        "    result = re.sub(r\"[\\w-]+\\.(jpg|jpeg|png|gif):\", \"<IMAGE>\", text)\n",
        "\n",
        "    return text\n",
        "\n",
        "dataset['text'] = dataset['text'].apply(preprocess_text)\n",
        "dataset = dataset[['text', 'Es_gracioso']]\n",
        "dataset.sample(n=3)"
      ]
    },
    {
      "cell_type": "markdown",
      "id": "edfb36d6-bd4b-48aa-99e8-21c2067c8f46",
      "metadata": {
        "id": "edfb36d6-bd4b-48aa-99e8-21c2067c8f46"
      },
      "source": [
        "## **3. Partición de los datos**"
      ]
    },
    {
      "cell_type": "markdown",
      "source": [
        "Tercero, se realiza una revisión de la distribución de los datos para verificar un correcto balanceo de las clases."
      ],
      "metadata": {
        "id": "WFwAelspRWlD"
      },
      "id": "WFwAelspRWlD"
    },
    {
      "cell_type": "code",
      "source": [
        "\"\"\"\n",
        "Función para graficar la distribución de los datos\n",
        "\"\"\"\n",
        "def graficar_distribucion(class_counts):\n",
        "    plt.figure(figsize=(6, 4))\n",
        "    ax = sns.barplot(x=class_counts.index, y=class_counts.values, palette=\"Blues_d\", hue=class_counts.index)\n",
        "\n",
        "    # Añadir los números sobre las barras\n",
        "    for p in ax.patches:\n",
        "        ax.annotate(f'{p.get_height():.0f}',\n",
        "                    (p.get_x() + p.get_width() / 2., p.get_height()),\n",
        "                    ha='center', va='center',\n",
        "                    fontsize=12, color='black',\n",
        "                    xytext=(0, 5), textcoords='offset points')\n",
        "\n",
        "    plt.title(\"Distribución de Clases en el Conjunto de Datos\")\n",
        "    plt.xlabel(\"Clase\")\n",
        "    plt.ylabel(\"Número de Muestras\")\n",
        "    plt.xticks(rotation=0)\n",
        "    plt.legend([], [], frameon=False)\n",
        "    plt.show()"
      ],
      "metadata": {
        "id": "J5L5fqc4RgO1"
      },
      "id": "J5L5fqc4RgO1",
      "execution_count": 4,
      "outputs": []
    },
    {
      "cell_type": "code",
      "source": [
        "# Distribución de los datos de cada clase\n",
        "graficar_distribucion(dataset['Es_gracioso'].value_counts())"
      ],
      "metadata": {
        "colab": {
          "base_uri": "https://localhost:8080/",
          "height": 411
        },
        "id": "GHjHQXl3RpdF",
        "outputId": "c6fbc260-858e-4e2d-d9db-645d18139bf9"
      },
      "id": "GHjHQXl3RpdF",
      "execution_count": 5,
      "outputs": [
        {
          "output_type": "display_data",
          "data": {
            "text/plain": [
              "<Figure size 600x400 with 1 Axes>"
            ],
            "image/png": "[encoded data removed]"
          },
          "metadata": {}
        }
      ]
    },
    {
      "cell_type": "markdown",
      "source": [
        "Una vez verificado el correcto balanceo de las clase, se hace la partición de los datos dejando un 70% de los datos para entrenamiento, un 15% de los datos para validación y un 15% de los datos para prueba."
      ],
      "metadata": {
        "id": "R7e2dLvd4Uf-"
      },
      "id": "R7e2dLvd4Uf-"
    },
    {
      "cell_type": "code",
      "source": [
        "# Divide el dataset original en un cojunto entrenamiento y un conjunto auxliar\n",
        "X_train, X_aux, y_train, y_aux = train_test_split(\n",
        "    dataset['text'],\n",
        "    dataset['Es_gracioso'],\n",
        "    random_state=2024,\n",
        "    test_size=0.3,\n",
        "    stratify=dataset['Es_gracioso']\n",
        ")\n",
        "\n",
        "# Divide el conjunto auxiliar en un cojunto de prueba y un cojunto de validación\n",
        "X_val, X_test, y_val, y_test = train_test_split(\n",
        "    X_aux,\n",
        "    y_aux,\n",
        "    random_state=2024,\n",
        "    test_size=0.5,\n",
        "    stratify=y_aux\n",
        ")"
      ],
      "metadata": {
        "id": "OwRubrd439r5"
      },
      "id": "OwRubrd439r5",
      "execution_count": 6,
      "outputs": []
    },
    {
      "cell_type": "markdown",
      "source": [
        "Una vez que los datos han sido particionados en conjuntos de entrenamiento, validación y prueba, se procede a realizar la tokenización del texto. Durante esta etapa, cada chiste se convierte en una secuencia de índices numéricos, donde cada número representa una palabra o token específico del vocabulario construido a partir del conjunto de entrenamiento.\n",
        "\n",
        "Para garantizar que todas las secuencias tengan la misma longitud y puedan ser procesadas por el modelo LSTM, se aplica un paso adicional llamado padding, que rellena las secuencias más cortas con ceros hasta alcanzar una longitud fija (determinada por la longitud máxima en los datos de entrenamiento). Esto asegura que el modelo pueda procesar los datos de manera uniforme y eficiente."
      ],
      "metadata": {
        "id": "6mDp7vu56OUL"
      },
      "id": "6mDp7vu56OUL"
    },
    {
      "cell_type": "code",
      "source": [
        "\"\"\"\n",
        "Función para generar el padding para cada conjunto de datos\n",
        "\"\"\"\n",
        "def tokenize_texts(tokenizer, texts, maxlen):\n",
        "    # Convertir textos a secuencias de índices\n",
        "    sequences = tokenizer.texts_to_sequences(texts)\n",
        "\n",
        "    # Padding para asegurar longitud uniforme\n",
        "    padded_sequences = pad_sequences(sequences, maxlen=maxlen)\n",
        "\n",
        "    return padded_sequences\n",
        "\n",
        "# Crear y entrenar el tokenizador en el conjunto de entrenamiento\n",
        "tokenizer = Tokenizer()\n",
        "tokenizer.fit_on_texts(X_train)\n",
        "vocab_size = len(tokenizer.word_index) + 1\n",
        "print(\"Tamaño del vocabulario:\", vocab_size)\n",
        "\n",
        "# Define una longitud máxima, basada en las secuencias de entrenamiento\n",
        "MAX_LEN = max(len(seq) for seq in tokenizer.texts_to_sequences(X_train))\n",
        "\n",
        "# Tokenizar y aplicar padding\n",
        "X_train_seq = tokenize_texts(tokenizer, X_train, maxlen=MAX_LEN)\n",
        "X_val_seq = tokenize_texts(tokenizer, X_val, maxlen=MAX_LEN)\n",
        "X_test_seq = tokenize_texts(tokenizer, X_test, maxlen=MAX_LEN)"
      ],
      "metadata": {
        "colab": {
          "base_uri": "https://localhost:8080/"
        },
        "id": "I8ZJXupGBG6C",
        "outputId": "39109f09-662c-409c-b130-7d1ff343d768"
      },
      "id": "I8ZJXupGBG6C",
      "execution_count": 7,
      "outputs": [
        {
          "output_type": "stream",
          "name": "stdout",
          "text": [
            "Tamaño del vocabulario: 23790\n"
          ]
        }
      ]
    },
    {
      "cell_type": "markdown",
      "id": "c8536e78-0f2b-4a85-bd22-c8ad8e89eca3",
      "metadata": {
        "id": "c8536e78-0f2b-4a85-bd22-c8ad8e89eca3"
      },
      "source": [
        "## **4. Construcción y entrenamiento del modelo**"
      ]
    },
    {
      "cell_type": "markdown",
      "source": [
        "Cuarto, se realiza la definición del modelo secuencial en Keras compuesto por cuatro capas principales:\n",
        "\n",
        "* **Capa de entrada (Input):** Acepta secuencias de longitud 20 como entrada, representadas como enteros.\n",
        "\n",
        "* **Capa de embedding (Embedding):** Convierte los índices de palabras (hasta un vocabulario de 23790 palabras) en vectores de 50 dimensiones, proporcionando una representación densa de las palabras.\n",
        "\n",
        "* **Capa LSTM:** Una red recurrente con 100 unidades, capaz de capturar relaciones y patrones secuenciales en los datos.\n",
        "\n",
        "* **Capa de salida (Dense):** Produce una salida escalar con activación sigmoide, ideal para tareas de clasificación binaria."
      ],
      "metadata": {
        "id": "yJwQQ-JuCnY-"
      },
      "id": "yJwQQ-JuCnY-"
    },
    {
      "cell_type": "code",
      "execution_count": 8,
      "id": "762e9faf-fb61-4302-9650-83315489fffe",
      "metadata": {
        "id": "762e9faf-fb61-4302-9650-83315489fffe"
      },
      "outputs": [],
      "source": [
        "model = Sequential([\n",
        "    # Capa de entrada\n",
        "    tf.keras.Input(shape=(20,), dtype=\"int64\"),\n",
        "\n",
        "    # Capa de embedding\n",
        "    Embedding(input_dim=vocab_size, output_dim=50),\n",
        "\n",
        "    # Capa LSTM\n",
        "    LSTM(100),\n",
        "\n",
        "    # Capa salida\n",
        "    Dense(1, activation='sigmoid')\n",
        "])"
      ]
    },
    {
      "cell_type": "markdown",
      "source": [
        "El modelo se compila con el optimizador Adam, la función de pérdida binary_crossentropy (adecuada para clasificación binaria) y la métrica accuracy para evaluar el rendimiento."
      ],
      "metadata": {
        "id": "ZaoGEOQGDk2o"
      },
      "id": "ZaoGEOQGDk2o"
    },
    {
      "cell_type": "code",
      "execution_count": 9,
      "id": "99acc81a-95b5-4d9f-aac1-5bc799004f8a",
      "metadata": {
        "colab": {
          "base_uri": "https://localhost:8080/",
          "height": 225
        },
        "id": "99acc81a-95b5-4d9f-aac1-5bc799004f8a",
        "outputId": "aa1e1b77-af26-44eb-e0ee-cc3f3263f5a5"
      },
      "outputs": [
        {
          "output_type": "display_data",
          "data": {
            "text/plain": [
              "\u001b[1mModel: \"sequential\"\u001b[0m\n"
            ],
            "text/html": [
              "<pre style=\"white-space:pre;overflow-x:auto;line-height:normal;font-family:Menlo,'DejaVu Sans Mono',consolas,'Courier New',monospace\"><span style=\"font-weight: bold\">Model: \"sequential\"</span>\n",
              "</pre>\n"
            ]
          },
          "metadata": {}
        },
        {
          "output_type": "display_data",
          "data": {
            "text/plain": [
              "┏━━━━━━━━━━━━━━━━━━━━━━━━━━━━━━━━━━━━━━┳━━━━━━━━━━━━━━━━━━━━━━━━━━━━━┳━━━━━━━━━━━━━━━━━┓\n",
              "┃\u001b[1m \u001b[0m\u001b[1mLayer (type)                        \u001b[0m\u001b[1m \u001b[0m┃\u001b[1m \u001b[0m\u001b[1mOutput Shape               \u001b[0m\u001b[1m \u001b[0m┃\u001b[1m \u001b[0m\u001b[1m        Param #\u001b[0m\u001b[1m \u001b[0m┃\n",
              "┡━━━━━━━━━━━━━━━━━━━━━━━━━━━━━━━━━━━━━━╇━━━━━━━━━━━━━━━━━━━━━━━━━━━━━╇━━━━━━━━━━━━━━━━━┩\n",
              "│ embedding (\u001b[38;5;33mEmbedding\u001b[0m)                │ (\u001b[38;5;45mNone\u001b[0m, \u001b[38;5;34m20\u001b[0m, \u001b[38;5;34m50\u001b[0m)              │       \u001b[38;5;34m1,189,500\u001b[0m │\n",
              "├──────────────────────────────────────┼─────────────────────────────┼─────────────────┤\n",
              "│ lstm (\u001b[38;5;33mLSTM\u001b[0m)                          │ (\u001b[38;5;45mNone\u001b[0m, \u001b[38;5;34m100\u001b[0m)                 │          \u001b[38;5;34m60,400\u001b[0m │\n",
              "├──────────────────────────────────────┼─────────────────────────────┼─────────────────┤\n",
              "│ dense (\u001b[38;5;33mDense\u001b[0m)                        │ (\u001b[38;5;45mNone\u001b[0m, \u001b[38;5;34m1\u001b[0m)                   │             \u001b[38;5;34m101\u001b[0m │\n",
              "└──────────────────────────────────────┴─────────────────────────────┴─────────────────┘\n"
            ],
            "text/html": [
              "<pre style=\"white-space:pre;overflow-x:auto;line-height:normal;font-family:Menlo,'DejaVu Sans Mono',consolas,'Courier New',monospace\">┏━━━━━━━━━━━━━━━━━━━━━━━━━━━━━━━━━━━━━━┳━━━━━━━━━━━━━━━━━━━━━━━━━━━━━┳━━━━━━━━━━━━━━━━━┓\n",
              "┃<span style=\"font-weight: bold\"> Layer (type)                         </span>┃<span style=\"font-weight: bold\"> Output Shape                </span>┃<span style=\"font-weight: bold\">         Param # </span>┃\n",
              "┡━━━━━━━━━━━━━━━━━━━━━━━━━━━━━━━━━━━━━━╇━━━━━━━━━━━━━━━━━━━━━━━━━━━━━╇━━━━━━━━━━━━━━━━━┩\n",
              "│ embedding (<span style=\"color: #0087ff; text-decoration-color: #0087ff\">Embedding</span>)                │ (<span style=\"color: #00d7ff; text-decoration-color: #00d7ff\">None</span>, <span style=\"color: #00af00; text-decoration-color: #00af00\">20</span>, <span style=\"color: #00af00; text-decoration-color: #00af00\">50</span>)              │       <span style=\"color: #00af00; text-decoration-color: #00af00\">1,189,500</span> │\n",
              "├──────────────────────────────────────┼─────────────────────────────┼─────────────────┤\n",
              "│ lstm (<span style=\"color: #0087ff; text-decoration-color: #0087ff\">LSTM</span>)                          │ (<span style=\"color: #00d7ff; text-decoration-color: #00d7ff\">None</span>, <span style=\"color: #00af00; text-decoration-color: #00af00\">100</span>)                 │          <span style=\"color: #00af00; text-decoration-color: #00af00\">60,400</span> │\n",
              "├──────────────────────────────────────┼─────────────────────────────┼─────────────────┤\n",
              "│ dense (<span style=\"color: #0087ff; text-decoration-color: #0087ff\">Dense</span>)                        │ (<span style=\"color: #00d7ff; text-decoration-color: #00d7ff\">None</span>, <span style=\"color: #00af00; text-decoration-color: #00af00\">1</span>)                   │             <span style=\"color: #00af00; text-decoration-color: #00af00\">101</span> │\n",
              "└──────────────────────────────────────┴─────────────────────────────┴─────────────────┘\n",
              "</pre>\n"
            ]
          },
          "metadata": {}
        },
        {
          "output_type": "display_data",
          "data": {
            "text/plain": [
              "\u001b[1m Total params: \u001b[0m\u001b[38;5;34m1,250,001\u001b[0m (4.77 MB)\n"
            ],
            "text/html": [
              "<pre style=\"white-space:pre;overflow-x:auto;line-height:normal;font-family:Menlo,'DejaVu Sans Mono',consolas,'Courier New',monospace\"><span style=\"font-weight: bold\"> Total params: </span><span style=\"color: #00af00; text-decoration-color: #00af00\">1,250,001</span> (4.77 MB)\n",
              "</pre>\n"
            ]
          },
          "metadata": {}
        },
        {
          "output_type": "display_data",
          "data": {
            "text/plain": [
              "\u001b[1m Trainable params: \u001b[0m\u001b[38;5;34m1,250,001\u001b[0m (4.77 MB)\n"
            ],
            "text/html": [
              "<pre style=\"white-space:pre;overflow-x:auto;line-height:normal;font-family:Menlo,'DejaVu Sans Mono',consolas,'Courier New',monospace\"><span style=\"font-weight: bold\"> Trainable params: </span><span style=\"color: #00af00; text-decoration-color: #00af00\">1,250,001</span> (4.77 MB)\n",
              "</pre>\n"
            ]
          },
          "metadata": {}
        },
        {
          "output_type": "display_data",
          "data": {
            "text/plain": [
              "\u001b[1m Non-trainable params: \u001b[0m\u001b[38;5;34m0\u001b[0m (0.00 B)\n"
            ],
            "text/html": [
              "<pre style=\"white-space:pre;overflow-x:auto;line-height:normal;font-family:Menlo,'DejaVu Sans Mono',consolas,'Courier New',monospace\"><span style=\"font-weight: bold\"> Non-trainable params: </span><span style=\"color: #00af00; text-decoration-color: #00af00\">0</span> (0.00 B)\n",
              "</pre>\n"
            ]
          },
          "metadata": {}
        }
      ],
      "source": [
        "model.compile(optimizer=\"adam\", loss=\"binary_crossentropy\", metrics=[\"accuracy\"])\n",
        "model.summary()"
      ]
    },
    {
      "cell_type": "markdown",
      "source": [
        "Se definen los siguiente callbacks para el proceso de entrenamiento:\n",
        "\n",
        "* **EarlyStopping:** Detiene el entrenamiento si la pérdida en validación (val_loss) no mejora después de 10 épocas.\n",
        "\n",
        "* **ModelCheckpoint:** Guarda el mejor modelo basado en la pérdida mínima en validación (val_loss) en un archivo con el nombre especificado."
      ],
      "metadata": {
        "id": "-AEeSyGID2hy"
      },
      "id": "-AEeSyGID2hy"
    },
    {
      "cell_type": "code",
      "source": [
        "\"\"\"\n",
        "Función para definir dos callbacks para el entranmiento (EarlyStopping y ModelCheckpoint)\n",
        "\"\"\"\n",
        "def callbacks_model():\n",
        "  my_callbacks = [\n",
        "      tf.keras.callbacks.EarlyStopping(patience=10, monitor=\"val_loss\"),\n",
        "      tf.keras.callbacks.ModelCheckpoint(\"model.keras\", monitor=\"val_loss\", mode=\"min\", save_best_only=True, verbose=1)\n",
        "  ]\n",
        "\n",
        "  return my_callbacks"
      ],
      "metadata": {
        "id": "UmcrLYuRrXp8"
      },
      "id": "UmcrLYuRrXp8",
      "execution_count": 10,
      "outputs": []
    },
    {
      "cell_type": "markdown",
      "source": [
        "Una vez definido el modelo, se hace el proceso de entramiento con 20 epocas y un batch_size de 64."
      ],
      "metadata": {
        "id": "8fYi3joQEvEI"
      },
      "id": "8fYi3joQEvEI"
    },
    {
      "cell_type": "code",
      "execution_count": 11,
      "id": "047d58a1-75fb-4495-b784-ed08d50a2e84",
      "metadata": {
        "colab": {
          "base_uri": "https://localhost:8080/"
        },
        "id": "047d58a1-75fb-4495-b784-ed08d50a2e84",
        "outputId": "f52d93a2-2fdc-4432-fb65-3b6921672a1a"
      },
      "outputs": [
        {
          "output_type": "stream",
          "name": "stdout",
          "text": [
            "Epoch 1/20\n",
            "\u001b[1m219/219\u001b[0m \u001b[32m━━━━━━━━━━━━━━━━━━━━\u001b[0m\u001b[37m\u001b[0m \u001b[1m0s\u001b[0m 97ms/step - accuracy: 0.7095 - loss: 0.5282\n",
            "Epoch 1: val_loss improved from inf to 0.35249, saving model to model.keras\n",
            "\u001b[1m219/219\u001b[0m \u001b[32m━━━━━━━━━━━━━━━━━━━━\u001b[0m\u001b[37m\u001b[0m \u001b[1m26s\u001b[0m 104ms/step - accuracy: 0.7098 - loss: 0.5278 - val_accuracy: 0.8467 - val_loss: 0.3525\n",
            "Epoch 2/20\n",
            "\u001b[1m219/219\u001b[0m \u001b[32m━━━━━━━━━━━━━━━━━━━━\u001b[0m\u001b[37m\u001b[0m \u001b[1m0s\u001b[0m 101ms/step - accuracy: 0.8906 - loss: 0.2613\n",
            "Epoch 2: val_loss did not improve from 0.35249\n",
            "\u001b[1m219/219\u001b[0m \u001b[32m━━━━━━━━━━━━━━━━━━━━\u001b[0m\u001b[37m\u001b[0m \u001b[1m23s\u001b[0m 106ms/step - accuracy: 0.8906 - loss: 0.2613 - val_accuracy: 0.8533 - val_loss: 0.3587\n",
            "Epoch 3/20\n",
            "\u001b[1m219/219\u001b[0m \u001b[32m━━━━━━━━━━━━━━━━━━━━\u001b[0m\u001b[37m\u001b[0m \u001b[1m0s\u001b[0m 94ms/step - accuracy: 0.9589 - loss: 0.1235\n",
            "Epoch 3: val_loss did not improve from 0.35249\n",
            "\u001b[1m219/219\u001b[0m \u001b[32m━━━━━━━━━━━━━━━━━━━━\u001b[0m\u001b[37m\u001b[0m \u001b[1m41s\u001b[0m 105ms/step - accuracy: 0.9589 - loss: 0.1235 - val_accuracy: 0.8340 - val_loss: 0.4624\n",
            "Epoch 4/20\n",
            "\u001b[1m219/219\u001b[0m \u001b[32m━━━━━━━━━━━━━━━━━━━━\u001b[0m\u001b[37m\u001b[0m \u001b[1m0s\u001b[0m 90ms/step - accuracy: 0.9806 - loss: 0.0593\n",
            "Epoch 4: val_loss did not improve from 0.35249\n",
            "\u001b[1m219/219\u001b[0m \u001b[32m━━━━━━━━━━━━━━━━━━━━\u001b[0m\u001b[37m\u001b[0m \u001b[1m39s\u001b[0m 98ms/step - accuracy: 0.9806 - loss: 0.0594 - val_accuracy: 0.8387 - val_loss: 0.5488\n",
            "Epoch 5/20\n",
            "\u001b[1m219/219\u001b[0m \u001b[32m━━━━━━━━━━━━━━━━━━━━\u001b[0m\u001b[37m\u001b[0m \u001b[1m0s\u001b[0m 91ms/step - accuracy: 0.9905 - loss: 0.0358\n",
            "Epoch 5: val_loss did not improve from 0.35249\n",
            "\u001b[1m219/219\u001b[0m \u001b[32m━━━━━━━━━━━━━━━━━━━━\u001b[0m\u001b[37m\u001b[0m \u001b[1m41s\u001b[0m 98ms/step - accuracy: 0.9905 - loss: 0.0357 - val_accuracy: 0.8240 - val_loss: 0.6402\n",
            "Epoch 6/20\n",
            "\u001b[1m219/219\u001b[0m \u001b[32m━━━━━━━━━━━━━━━━━━━━\u001b[0m\u001b[37m\u001b[0m \u001b[1m0s\u001b[0m 93ms/step - accuracy: 0.9942 - loss: 0.0219\n",
            "Epoch 6: val_loss did not improve from 0.35249\n",
            "\u001b[1m219/219\u001b[0m \u001b[32m━━━━━━━━━━━━━━━━━━━━\u001b[0m\u001b[37m\u001b[0m \u001b[1m43s\u001b[0m 105ms/step - accuracy: 0.9942 - loss: 0.0219 - val_accuracy: 0.8213 - val_loss: 0.7076\n",
            "Epoch 7/20\n",
            "\u001b[1m219/219\u001b[0m \u001b[32m━━━━━━━━━━━━━━━━━━━━\u001b[0m\u001b[37m\u001b[0m \u001b[1m0s\u001b[0m 91ms/step - accuracy: 0.9947 - loss: 0.0192\n",
            "Epoch 7: val_loss did not improve from 0.35249\n",
            "\u001b[1m219/219\u001b[0m \u001b[32m━━━━━━━━━━━━━━━━━━━━\u001b[0m\u001b[37m\u001b[0m \u001b[1m39s\u001b[0m 97ms/step - accuracy: 0.9947 - loss: 0.0192 - val_accuracy: 0.8203 - val_loss: 0.8146\n",
            "Epoch 8/20\n",
            "\u001b[1m219/219\u001b[0m \u001b[32m━━━━━━━━━━━━━━━━━━━━\u001b[0m\u001b[37m\u001b[0m \u001b[1m0s\u001b[0m 91ms/step - accuracy: 0.9961 - loss: 0.0179\n",
            "Epoch 8: val_loss did not improve from 0.35249\n",
            "\u001b[1m219/219\u001b[0m \u001b[32m━━━━━━━━━━━━━━━━━━━━\u001b[0m\u001b[37m\u001b[0m \u001b[1m41s\u001b[0m 96ms/step - accuracy: 0.9961 - loss: 0.0179 - val_accuracy: 0.8200 - val_loss: 0.8479\n",
            "Epoch 9/20\n",
            "\u001b[1m219/219\u001b[0m \u001b[32m━━━━━━━━━━━━━━━━━━━━\u001b[0m\u001b[37m\u001b[0m \u001b[1m0s\u001b[0m 100ms/step - accuracy: 0.9976 - loss: 0.0123\n",
            "Epoch 9: val_loss did not improve from 0.35249\n",
            "\u001b[1m219/219\u001b[0m \u001b[32m━━━━━━━━━━━━━━━━━━━━\u001b[0m\u001b[37m\u001b[0m \u001b[1m23s\u001b[0m 106ms/step - accuracy: 0.9976 - loss: 0.0123 - val_accuracy: 0.8113 - val_loss: 0.9241\n",
            "Epoch 10/20\n",
            "\u001b[1m219/219\u001b[0m \u001b[32m━━━━━━━━━━━━━━━━━━━━\u001b[0m\u001b[37m\u001b[0m \u001b[1m0s\u001b[0m 108ms/step - accuracy: 0.9962 - loss: 0.0143\n",
            "Epoch 10: val_loss did not improve from 0.35249\n",
            "\u001b[1m219/219\u001b[0m \u001b[32m━━━━━━━━━━━━━━━━━━━━\u001b[0m\u001b[37m\u001b[0m \u001b[1m44s\u001b[0m 118ms/step - accuracy: 0.9962 - loss: 0.0143 - val_accuracy: 0.8200 - val_loss: 0.9303\n",
            "Epoch 11/20\n",
            "\u001b[1m219/219\u001b[0m \u001b[32m━━━━━━━━━━━━━━━━━━━━\u001b[0m\u001b[37m\u001b[0m \u001b[1m0s\u001b[0m 91ms/step - accuracy: 0.9982 - loss: 0.0064\n",
            "Epoch 11: val_loss did not improve from 0.35249\n",
            "\u001b[1m219/219\u001b[0m \u001b[32m━━━━━━━━━━━━━━━━━━━━\u001b[0m\u001b[37m\u001b[0m \u001b[1m21s\u001b[0m 96ms/step - accuracy: 0.9982 - loss: 0.0064 - val_accuracy: 0.8123 - val_loss: 1.0837\n"
          ]
        }
      ],
      "source": [
        "history = model.fit(\n",
        "    X_train_seq, np.array(y_train),\n",
        "    validation_data=(X_val_seq, y_val),\n",
        "    epochs=20,\n",
        "    batch_size=64,\n",
        "    callbacks=callbacks_model()\n",
        ")"
      ]
    },
    {
      "cell_type": "code",
      "source": [
        "\"\"\"\n",
        "Función para graficar los resultados del entramiento\n",
        "\"\"\"\n",
        "def plot_accuracy_and_loss(history):\n",
        "\n",
        "    # Extraer datos de la historia de entrenamiento\n",
        "    acc = history.history['accuracy']\n",
        "    val_acc = history.history['val_accuracy']\n",
        "    loss = history.history['loss']\n",
        "    val_loss = history.history['val_loss']\n",
        "\n",
        "    # Número de épocas\n",
        "    epochs = range(1, len(acc) + 1)\n",
        "\n",
        "    # Gráfica de accuracy\n",
        "    plt.figure(figsize=(12, 5))\n",
        "\n",
        "    plt.subplot(1, 2, 1)\n",
        "    plt.plot(epochs, acc, 'b', label='Training accuracy')\n",
        "    plt.plot(epochs, val_acc, 'r', label='Validation accuracy')\n",
        "    plt.title('Training and validation accuracy')\n",
        "    plt.xlabel('Epochs')\n",
        "    plt.ylabel('Accuracy')\n",
        "    plt.legend()\n",
        "\n",
        "    # Gráfica de loss\n",
        "    plt.subplot(1, 2, 2)\n",
        "    plt.plot(epochs, loss, 'b', label='Training loss')\n",
        "    plt.plot(epochs, val_loss, 'r', label='Validation loss')\n",
        "    plt.title('Training and validation loss')\n",
        "    plt.xlabel('Epochs')\n",
        "    plt.ylabel('Loss')\n",
        "    plt.legend()\n",
        "\n",
        "    plt.show()\n",
        "\n",
        "plot_accuracy_and_loss(history)"
      ],
      "metadata": {
        "id": "ifa2ayBTs9Tp",
        "colab": {
          "base_uri": "https://localhost:8080/",
          "height": 487
        },
        "outputId": "2e3c0b5d-3438-4e9e-bd46-1db32ded63e9"
      },
      "id": "ifa2ayBTs9Tp",
      "execution_count": 12,
      "outputs": [
        {
          "output_type": "display_data",
          "data": {
            "text/plain": [
              "<Figure size 1200x500 with 2 Axes>"
            ],
            "image/png": "[encoded data removed]"
          },
          "metadata": {}
        }
      ]
    },
    {
      "cell_type": "markdown",
      "source": [
        "Una vez terminado el entrenamiento se carga el mejor modelo guardado por el callback de ModelCheckpoint."
      ],
      "metadata": {
        "id": "NFPLkkv0YCza"
      },
      "id": "NFPLkkv0YCza"
    },
    {
      "cell_type": "code",
      "source": [
        "# Carga del mejor modelo\n",
        "model = load_model('model.keras')"
      ],
      "metadata": {
        "id": "GpLYhuzYYPe_"
      },
      "id": "GpLYhuzYYPe_",
      "execution_count": 13,
      "outputs": []
    },
    {
      "cell_type": "markdown",
      "source": [
        "## **5. Resultados del modelo**"
      ],
      "metadata": {
        "id": "4qyUvqhIFwwZ"
      },
      "id": "4qyUvqhIFwwZ"
    },
    {
      "cell_type": "markdown",
      "source": [
        "Quinto, se procede a calcular la  matriz de confusión que arroja del modelo con respecto al conjunto de prueba. A partir de esta matriz, se derivan tres métricas importantes: precisión, recall y F1."
      ],
      "metadata": {
        "id": "1gOXRbAYF3dj"
      },
      "id": "1gOXRbAYF3dj"
    },
    {
      "cell_type": "code",
      "source": [
        "# Predecir etiquetas para el conjunto de prueba\n",
        "y_pred = (model.predict(X_test_seq) > 0.5).astype(\"int32\")\n",
        "\n",
        "# Calcular la matriz de confusión\n",
        "cm = confusion_matrix(y_test, y_pred)\n",
        "\n",
        "# Mostrar la matriz de confusión\n",
        "disp = ConfusionMatrixDisplay(confusion_matrix=cm, display_labels=[\"Clase 0\", \"Clase 1\"])\n",
        "disp.plot(cmap=\"Blues\")\n",
        "\n",
        "# Calcular métricas adicionales basadas en la matriz de confusión\n",
        "precision = precision_score(y_test, y_pred)\n",
        "recall = recall_score(y_test, y_pred)\n",
        "f1 = f1_score(y_test, y_pred)\n",
        "\n",
        "# Mostrar las métricas de la matriz de confusión\n",
        "print(\"\\nMétricas derivadas de la matriz de confusión:\")\n",
        "print(f\" - Precisión: {precision:.4f}\")\n",
        "print(f\" - Recall: {recall:.4f}\")\n",
        "print(f\" - F1: {f1:.4f}\")"
      ],
      "metadata": {
        "colab": {
          "base_uri": "https://localhost:8080/",
          "height": 553
        },
        "id": "g30Z9DYZF9im",
        "outputId": "71a0feb1-253c-4f1e-d9c1-2c1c6fa8b9d3"
      },
      "id": "g30Z9DYZF9im",
      "execution_count": 14,
      "outputs": [
        {
          "output_type": "stream",
          "name": "stdout",
          "text": [
            "\u001b[1m94/94\u001b[0m \u001b[32m━━━━━━━━━━━━━━━━━━━━\u001b[0m\u001b[37m\u001b[0m \u001b[1m2s\u001b[0m 16ms/step\n",
            "\n",
            "Métricas derivadas de la matriz de confusión:\n",
            " - Precisión: 0.8562\n",
            " - Recall: 0.8180\n",
            " - F1: 0.8367\n"
          ]
        },
        {
          "output_type": "display_data",
          "data": {
            "text/plain": [
              "<Figure size 640x480 with 2 Axes>"
            ],
            "image/png": "[encoded data removed]"
          },
          "metadata": {}
        }
      ]
    },
    {
      "cell_type": "markdown",
      "source": [
        "Los resultados muestran una precisión de 0.8562, lo que indica que el 85.62% de las predicciones positivas fueron correctas. Un recall de 0.8180 sugiere que el modelo identificó correctamente el 81.80% de las instancias positivas. Finalmente, el F1 de 0.8367 refleja un buen equilibrio entre precisión y recall. Estos valores indican que el modelo tiene un rendimiento sólido, con un buen compromiso entre identificar correctamente los positivos y no cometer demasiados falsos positivos."
      ],
      "metadata": {
        "id": "sJ6ghwewNNTv"
      },
      "id": "sJ6ghwewNNTv"
    }
  ],
  "metadata": {
    "kernelspec": {
      "display_name": "Python 3",
      "name": "python3"
    },
    "language_info": {
      "codemirror_mode": {
        "name": "ipython",
        "version": 3
      },
      "file_extension": ".py",
      "mimetype": "text/x-python",
      "name": "python",
      "nbconvert_exporter": "python",
      "pygments_lexer": "ipython3",
      "version": "3.10.12"
    },
    "colab": {
      "provenance": [],
      "gpuType": "T4"
    },
    "accelerator": "GPU"
  },
  "nbformat": 4,
  "nbformat_minor": 5
}