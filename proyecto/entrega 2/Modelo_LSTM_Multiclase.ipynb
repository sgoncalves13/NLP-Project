{
 "cells": [
  {
   "cell_type": "markdown",
   "metadata": {
    "id": "3hPcElx4LBBf"
   },
   "source": [
    "# **PROYECTO HUMOR** Modelo Mutliclase con LSTM\n",
    "\n",
    "**Autores:**\n",
    "\n",
    "* Juan Camilo Acosta Rojas - 202324893\n",
    "* Samuel Goncalves Vergara - 202122595\n",
    "* Jefferson Hernández - 202120242\n",
    "* Juan Andrés Mendez - 201815808"
   ]
  },
  {
   "cell_type": "code",
   "execution_count": 70,
   "metadata": {
    "colab": {
     "base_uri": "https://localhost:8080/"
    },
    "id": "6GWwUQ-aIyRB",
    "outputId": "b7cbe293-98a7-4c88-b360-91306dfc2b5c"
   },
   "outputs": [
    {
     "name": "stdout",
     "output_type": "stream",
     "text": [
      "Drive already mounted at /content/drive; to attempt to forcibly remount, call drive.mount(\"/content/drive\", force_remount=True).\n"
     ]
    }
   ],
   "source": [
    "# Importación de librerias de python\n",
    "import matplotlib.pyplot as plt\n",
    "import seaborn as sns\n",
    "import pandas as pd\n",
    "import numpy as np\n",
    "import math\n",
    "import re\n",
    "\n",
    "# Scikit-learn: División de datos y otras utilidades para machine learning\n",
    "from sklearn.utils import resample\n",
    "from sklearn.model_selection import train_test_split\n",
    "from sklearn.metrics import confusion_matrix, ConfusionMatrixDisplay, precision_score, recall_score, f1_score\n",
    "\n",
    "# TensorFlow / Keras: Construcción y entrenamiento de redes neuronales\n",
    "import tensorflow as tf\n",
    "from tensorflow.keras import utils\n",
    "from tensorflow.keras.utils import to_categorical\n",
    "from tensorflow.keras.preprocessing.text import Tokenizer\n",
    "from tensorflow.keras.preprocessing.sequence import pad_sequences\n",
    "from tensorflow.keras.layers import Embedding, Flatten, LSTM, Dense, Dropout, Bidirectional\n",
    "from tensorflow.keras.models import Sequential, load_model\n",
    "\n",
    "# Conexión con drive para obtener el dataset\n",
    "from google.colab import drive\n",
    "drive.mount('/content/drive')"
   ]
  },
  {
   "cell_type": "markdown",
   "metadata": {
    "id": "yHHuZq_vMNFI"
   },
   "source": [
    "## **1. Carga de los datos**"
   ]
  },
  {
   "cell_type": "markdown",
   "metadata": {
    "id": "sfZ9H_aRMR94"
   },
   "source": [
    "Primero, se extraen los 10000 datos chistosos y los otros 10000 datos no chistosos. En total son 20000 registros."
   ]
  },
  {
   "cell_type": "code",
   "execution_count": 71,
   "metadata": {
    "colab": {
     "base_uri": "https://localhost:8080/",
     "height": 435
    },
    "id": "ILHkcqgLLTcF",
    "outputId": "45f8196c-91c7-4135-ff43-4a2e1c44c355"
   },
   "outputs": [
    {
     "name": "stdout",
     "output_type": "stream",
     "text": [
      "(20000, 21)\n"
     ]
    },
    {
     "data": {
      "application/vnd.google.colaboratory.intrinsic+json": {
       "type": "dataframe"
      },
      "text/html": [
       "\n",
       "  <div id=\"df-e158931a-c2bb-4599-a1e6-1e2366b28591\" class=\"colab-df-container\">\n",
       "    <div>\n",
       "<style scoped>\n",
       "    .dataframe tbody tr th:only-of-type {\n",
       "        vertical-align: middle;\n",
       "    }\n",
       "\n",
       "    .dataframe tbody tr th {\n",
       "        vertical-align: top;\n",
       "    }\n",
       "\n",
       "    .dataframe thead th {\n",
       "        text-align: right;\n",
       "    }\n",
       "</style>\n",
       "<table border=\"1\" class=\"dataframe\">\n",
       "  <thead>\n",
       "    <tr style=\"text-align: right;\">\n",
       "      <th></th>\n",
       "      <th>id</th>\n",
       "      <th>text</th>\n",
       "      <th>Fuente</th>\n",
       "      <th>es_gracioso_p1</th>\n",
       "      <th>es_gracioso_p2</th>\n",
       "      <th>es_gracioso_p3</th>\n",
       "      <th>Es_gracioso</th>\n",
       "      <th>nivel_gracia_p1</th>\n",
       "      <th>nivel_gracia_p2</th>\n",
       "      <th>nivel_gracia_p3</th>\n",
       "      <th>...</th>\n",
       "      <th>votes_no</th>\n",
       "      <th>votes_1</th>\n",
       "      <th>votes_2</th>\n",
       "      <th>votes_3</th>\n",
       "      <th>votes_4</th>\n",
       "      <th>votes_5</th>\n",
       "      <th>humor_rating</th>\n",
       "      <th>humor_mechanism</th>\n",
       "      <th>humor_target</th>\n",
       "      <th>promedio_gracioso</th>\n",
       "    </tr>\n",
       "  </thead>\n",
       "  <tbody>\n",
       "    <tr>\n",
       "      <th>6914</th>\n",
       "      <td>6915</td>\n",
       "      <td>Un hombre que va de compras con su pareja es c...</td>\n",
       "      <td>Internet/Twitter</td>\n",
       "      <td>1.0</td>\n",
       "      <td>1.0</td>\n",
       "      <td>1.0</td>\n",
       "      <td>1.0</td>\n",
       "      <td>4.0</td>\n",
       "      <td>3.0</td>\n",
       "      <td>2.0</td>\n",
       "      <td>...</td>\n",
       "      <td>NaN</td>\n",
       "      <td>NaN</td>\n",
       "      <td>NaN</td>\n",
       "      <td>NaN</td>\n",
       "      <td>NaN</td>\n",
       "      <td>NaN</td>\n",
       "      <td>NaN</td>\n",
       "      <td>NaN</td>\n",
       "      <td>NaN</td>\n",
       "      <td>3</td>\n",
       "    </tr>\n",
       "    <tr>\n",
       "      <th>9597</th>\n",
       "      <td>9598</td>\n",
       "      <td>zi3qtm_Nací con privilegios ilimitados hagan s...</td>\n",
       "      <td>Imágenes/Internet</td>\n",
       "      <td>1.0</td>\n",
       "      <td>1.0</td>\n",
       "      <td>0.0</td>\n",
       "      <td>1.0</td>\n",
       "      <td>3.0</td>\n",
       "      <td>3.0</td>\n",
       "      <td>0.0</td>\n",
       "      <td>...</td>\n",
       "      <td>NaN</td>\n",
       "      <td>NaN</td>\n",
       "      <td>NaN</td>\n",
       "      <td>NaN</td>\n",
       "      <td>NaN</td>\n",
       "      <td>NaN</td>\n",
       "      <td>NaN</td>\n",
       "      <td>NaN</td>\n",
       "      <td>NaN</td>\n",
       "      <td>2</td>\n",
       "    </tr>\n",
       "    <tr>\n",
       "      <th>4956</th>\n",
       "      <td>4957</td>\n",
       "      <td>Las fotos familiares siempre tienen al menos u...</td>\n",
       "      <td>LLMs</td>\n",
       "      <td>1.0</td>\n",
       "      <td>1.0</td>\n",
       "      <td>0.0</td>\n",
       "      <td>1.0</td>\n",
       "      <td>2.0</td>\n",
       "      <td>2.0</td>\n",
       "      <td>0.0</td>\n",
       "      <td>...</td>\n",
       "      <td>NaN</td>\n",
       "      <td>NaN</td>\n",
       "      <td>NaN</td>\n",
       "      <td>NaN</td>\n",
       "      <td>NaN</td>\n",
       "      <td>NaN</td>\n",
       "      <td>NaN</td>\n",
       "      <td>NaN</td>\n",
       "      <td>NaN</td>\n",
       "      <td>1</td>\n",
       "    </tr>\n",
       "  </tbody>\n",
       "</table>\n",
       "<p>3 rows × 21 columns</p>\n",
       "</div>\n",
       "    <div class=\"colab-df-buttons\">\n",
       "\n",
       "  <div class=\"colab-df-container\">\n",
       "    <button class=\"colab-df-convert\" onclick=\"convertToInteractive('df-e158931a-c2bb-4599-a1e6-1e2366b28591')\"\n",
       "            title=\"Convert this dataframe to an interactive table.\"\n",
       "            style=\"display:none;\">\n",
       "\n",
       "  <svg xmlns=\"http://www.w3.org/2000/svg\" height=\"24px\" viewBox=\"0 -960 960 960\">\n",
       "    <path d=\"M120-120v-720h720v720H120Zm60-500h600v-160H180v160Zm220 220h160v-160H400v160Zm0 220h160v-160H400v160ZM180-400h160v-160H180v160Zm440 0h160v-160H620v160ZM180-180h160v-160H180v160Zm440 0h160v-160H620v160Z\"/>\n",
       "  </svg>\n",
       "    </button>\n",
       "\n",
       "  <style>\n",
       "    .colab-df-container {\n",
       "      display:flex;\n",
       "      gap: 12px;\n",
       "    }\n",
       "\n",
       "    .colab-df-convert {\n",
       "      background-color: #E8F0FE;\n",
       "      border: none;\n",
       "      border-radius: 50%;\n",
       "      cursor: pointer;\n",
       "      display: none;\n",
       "      fill: #1967D2;\n",
       "      height: 32px;\n",
       "      padding: 0 0 0 0;\n",
       "      width: 32px;\n",
       "    }\n",
       "\n",
       "    .colab-df-convert:hover {\n",
       "      background-color: #E2EBFA;\n",
       "      box-shadow: 0px 1px 2px rgba(60, 64, 67, 0.3), 0px 1px 3px 1px rgba(60, 64, 67, 0.15);\n",
       "      fill: #174EA6;\n",
       "    }\n",
       "\n",
       "    .colab-df-buttons div {\n",
       "      margin-bottom: 4px;\n",
       "    }\n",
       "\n",
       "    [theme=dark] .colab-df-convert {\n",
       "      background-color: #3B4455;\n",
       "      fill: #D2E3FC;\n",
       "    }\n",
       "\n",
       "    [theme=dark] .colab-df-convert:hover {\n",
       "      background-color: #434B5C;\n",
       "      box-shadow: 0px 1px 3px 1px rgba(0, 0, 0, 0.15);\n",
       "      filter: drop-shadow(0px 1px 2px rgba(0, 0, 0, 0.3));\n",
       "      fill: #FFFFFF;\n",
       "    }\n",
       "  </style>\n",
       "\n",
       "    <script>\n",
       "      const buttonEl =\n",
       "        document.querySelector('#df-e158931a-c2bb-4599-a1e6-1e2366b28591 button.colab-df-convert');\n",
       "      buttonEl.style.display =\n",
       "        google.colab.kernel.accessAllowed ? 'block' : 'none';\n",
       "\n",
       "      async function convertToInteractive(key) {\n",
       "        const element = document.querySelector('#df-e158931a-c2bb-4599-a1e6-1e2366b28591');\n",
       "        const dataTable =\n",
       "          await google.colab.kernel.invokeFunction('convertToInteractive',\n",
       "                                                    [key], {});\n",
       "        if (!dataTable) return;\n",
       "\n",
       "        const docLinkHtml = 'Like what you see? Visit the ' +\n",
       "          '<a target=\"_blank\" href=https://colab.research.google.com/notebooks/data_table.ipynb>data table notebook</a>'\n",
       "          + ' to learn more about interactive tables.';\n",
       "        element.innerHTML = '';\n",
       "        dataTable['output_type'] = 'display_data';\n",
       "        await google.colab.output.renderOutput(dataTable, element);\n",
       "        const docLink = document.createElement('div');\n",
       "        docLink.innerHTML = docLinkHtml;\n",
       "        element.appendChild(docLink);\n",
       "      }\n",
       "    </script>\n",
       "  </div>\n",
       "\n",
       "\n",
       "<div id=\"df-bbbcecff-0a15-4cc9-b5e3-8dc5240c8c24\">\n",
       "  <button class=\"colab-df-quickchart\" onclick=\"quickchart('df-bbbcecff-0a15-4cc9-b5e3-8dc5240c8c24')\"\n",
       "            title=\"Suggest charts\"\n",
       "            style=\"display:none;\">\n",
       "\n",
       "<svg xmlns=\"http://www.w3.org/2000/svg\" height=\"24px\"viewBox=\"0 0 24 24\"\n",
       "     width=\"24px\">\n",
       "    <g>\n",
       "        <path d=\"M19 3H5c-1.1 0-2 .9-2 2v14c0 1.1.9 2 2 2h14c1.1 0 2-.9 2-2V5c0-1.1-.9-2-2-2zM9 17H7v-7h2v7zm4 0h-2V7h2v10zm4 0h-2v-4h2v4z\"/>\n",
       "    </g>\n",
       "</svg>\n",
       "  </button>\n",
       "\n",
       "<style>\n",
       "  .colab-df-quickchart {\n",
       "      --bg-color: #E8F0FE;\n",
       "      --fill-color: #1967D2;\n",
       "      --hover-bg-color: #E2EBFA;\n",
       "      --hover-fill-color: #174EA6;\n",
       "      --disabled-fill-color: #AAA;\n",
       "      --disabled-bg-color: #DDD;\n",
       "  }\n",
       "\n",
       "  [theme=dark] .colab-df-quickchart {\n",
       "      --bg-color: #3B4455;\n",
       "      --fill-color: #D2E3FC;\n",
       "      --hover-bg-color: #434B5C;\n",
       "      --hover-fill-color: #FFFFFF;\n",
       "      --disabled-bg-color: #3B4455;\n",
       "      --disabled-fill-color: #666;\n",
       "  }\n",
       "\n",
       "  .colab-df-quickchart {\n",
       "    background-color: var(--bg-color);\n",
       "    border: none;\n",
       "    border-radius: 50%;\n",
       "    cursor: pointer;\n",
       "    display: none;\n",
       "    fill: var(--fill-color);\n",
       "    height: 32px;\n",
       "    padding: 0;\n",
       "    width: 32px;\n",
       "  }\n",
       "\n",
       "  .colab-df-quickchart:hover {\n",
       "    background-color: var(--hover-bg-color);\n",
       "    box-shadow: 0 1px 2px rgba(60, 64, 67, 0.3), 0 1px 3px 1px rgba(60, 64, 67, 0.15);\n",
       "    fill: var(--button-hover-fill-color);\n",
       "  }\n",
       "\n",
       "  .colab-df-quickchart-complete:disabled,\n",
       "  .colab-df-quickchart-complete:disabled:hover {\n",
       "    background-color: var(--disabled-bg-color);\n",
       "    fill: var(--disabled-fill-color);\n",
       "    box-shadow: none;\n",
       "  }\n",
       "\n",
       "  .colab-df-spinner {\n",
       "    border: 2px solid var(--fill-color);\n",
       "    border-color: transparent;\n",
       "    border-bottom-color: var(--fill-color);\n",
       "    animation:\n",
       "      spin 1s steps(1) infinite;\n",
       "  }\n",
       "\n",
       "  @keyframes spin {\n",
       "    0% {\n",
       "      border-color: transparent;\n",
       "      border-bottom-color: var(--fill-color);\n",
       "      border-left-color: var(--fill-color);\n",
       "    }\n",
       "    20% {\n",
       "      border-color: transparent;\n",
       "      border-left-color: var(--fill-color);\n",
       "      border-top-color: var(--fill-color);\n",
       "    }\n",
       "    30% {\n",
       "      border-color: transparent;\n",
       "      border-left-color: var(--fill-color);\n",
       "      border-top-color: var(--fill-color);\n",
       "      border-right-color: var(--fill-color);\n",
       "    }\n",
       "    40% {\n",
       "      border-color: transparent;\n",
       "      border-right-color: var(--fill-color);\n",
       "      border-top-color: var(--fill-color);\n",
       "    }\n",
       "    60% {\n",
       "      border-color: transparent;\n",
       "      border-right-color: var(--fill-color);\n",
       "    }\n",
       "    80% {\n",
       "      border-color: transparent;\n",
       "      border-right-color: var(--fill-color);\n",
       "      border-bottom-color: var(--fill-color);\n",
       "    }\n",
       "    90% {\n",
       "      border-color: transparent;\n",
       "      border-bottom-color: var(--fill-color);\n",
       "    }\n",
       "  }\n",
       "</style>\n",
       "\n",
       "  <script>\n",
       "    async function quickchart(key) {\n",
       "      const quickchartButtonEl =\n",
       "        document.querySelector('#' + key + ' button');\n",
       "      quickchartButtonEl.disabled = true;  // To prevent multiple clicks.\n",
       "      quickchartButtonEl.classList.add('colab-df-spinner');\n",
       "      try {\n",
       "        const charts = await google.colab.kernel.invokeFunction(\n",
       "            'suggestCharts', [key], {});\n",
       "      } catch (error) {\n",
       "        console.error('Error during call to suggestCharts:', error);\n",
       "      }\n",
       "      quickchartButtonEl.classList.remove('colab-df-spinner');\n",
       "      quickchartButtonEl.classList.add('colab-df-quickchart-complete');\n",
       "    }\n",
       "    (() => {\n",
       "      let quickchartButtonEl =\n",
       "        document.querySelector('#df-bbbcecff-0a15-4cc9-b5e3-8dc5240c8c24 button');\n",
       "      quickchartButtonEl.style.display =\n",
       "        google.colab.kernel.accessAllowed ? 'block' : 'none';\n",
       "    })();\n",
       "  </script>\n",
       "</div>\n",
       "\n",
       "    </div>\n",
       "  </div>\n"
      ],
      "text/plain": [
       "        id                                               text  \\\n",
       "6914  6915  Un hombre que va de compras con su pareja es c...   \n",
       "9597  9598  zi3qtm_Nací con privilegios ilimitados hagan s...   \n",
       "4956  4957  Las fotos familiares siempre tienen al menos u...   \n",
       "\n",
       "                 Fuente  es_gracioso_p1  es_gracioso_p2  es_gracioso_p3  \\\n",
       "6914   Internet/Twitter             1.0             1.0             1.0   \n",
       "9597  Imágenes/Internet             1.0             1.0             0.0   \n",
       "4956               LLMs             1.0             1.0             0.0   \n",
       "\n",
       "      Es_gracioso  nivel_gracia_p1  nivel_gracia_p2  nivel_gracia_p3  ...  \\\n",
       "6914          1.0              4.0              3.0              2.0  ...   \n",
       "9597          1.0              3.0              3.0              0.0  ...   \n",
       "4956          1.0              2.0              2.0              0.0  ...   \n",
       "\n",
       "      votes_no  votes_1  votes_2  votes_3  votes_4  votes_5  humor_rating  \\\n",
       "6914       NaN      NaN      NaN      NaN      NaN      NaN           NaN   \n",
       "9597       NaN      NaN      NaN      NaN      NaN      NaN           NaN   \n",
       "4956       NaN      NaN      NaN      NaN      NaN      NaN           NaN   \n",
       "\n",
       "      humor_mechanism  humor_target  promedio_gracioso  \n",
       "6914              NaN           NaN                  3  \n",
       "9597              NaN           NaN                  2  \n",
       "4956              NaN           NaN                  1  \n",
       "\n",
       "[3 rows x 21 columns]"
      ]
     },
     "execution_count": 71,
     "metadata": {},
     "output_type": "execute_result"
    }
   ],
   "source": [
    "url_graceful_dataset = \"/content/drive/MyDrive/proyecto NLP/humor_dataset.csv\"\n",
    "url_non_graceful_dataset = \"/content/drive/MyDrive/proyecto NLP/datosNochistosos.csv\"\n",
    "\n",
    "df_graceful = pd.read_csv(url_graceful_dataset)\n",
    "df_non_graceful = pd.read_csv(url_non_graceful_dataset)\n",
    "\n",
    "dataset = pd.concat([df_graceful, df_non_graceful])\n",
    "dataset['promedio_gracioso'] = dataset[['nivel_gracia_p1', 'nivel_gracia_p2', 'nivel_gracia_p3']].mean(axis=1).fillna(0).astype(int)\n",
    "dataset['Es_gracioso'] = dataset['Es_gracioso'].fillna(0)\n",
    "\n",
    "# Se muestra 5 ejemplos aleatorios del dataset donde la columna \"promedio_gracioso\" indica el nivel de chiste\n",
    "print(dataset.shape)\n",
    "dataset.sample(n=3)"
   ]
  },
  {
   "cell_type": "markdown",
   "metadata": {
    "id": "lWcr5hmRMXiD"
   },
   "source": [
    "## **2. Preprocesamiento de los datos**"
   ]
  },
  {
   "cell_type": "markdown",
   "metadata": {
    "id": "YE_7EZIMMYJI"
   },
   "source": [
    "Segundo, para el preprocesamiento usamos varios pasos. Primero se reemplazan URLs, menciones de usuarios, hashtags y emojis por tokens genéricos (<URL'>, <USUARIO'>, <HASH_TAG'>, <EMOJI'>), lo que reduce la dimensionalidad del texto sin perder contexto. Además, se convierte todo a minúsculas para uniformidad, se eliminan signos de puntuación y nombres de archivos irrelevantes."
   ]
  },
  {
   "cell_type": "code",
   "execution_count": 72,
   "metadata": {
    "colab": {
     "base_uri": "https://localhost:8080/",
     "height": 143
    },
    "id": "yzizkzkzLdjN",
    "outputId": "083066f7-e872-4a4e-95cc-2e9dd847bf67"
   },
   "outputs": [
    {
     "data": {
      "application/vnd.google.colaboratory.intrinsic+json": {
       "summary": "{\n  \"name\": \"dataset\",\n  \"rows\": 3,\n  \"fields\": [\n    {\n      \"column\": \"text\",\n      \"properties\": {\n        \"dtype\": \"string\",\n        \"num_unique_values\": 3,\n        \"samples\": [\n          \"ven cuando quieras pero aseg\\u00farate de llamar antes para no sorprenderlos\",\n          \"bien ah\\u00ed q tengo unas amigas de fierro que est\\u00e1n siempre\",\n          \"cuando te dicen vamos juntos pero t\\u00fa terminas esperando media hora a que lleguen\"\n        ],\n        \"semantic_type\": \"\",\n        \"description\": \"\"\n      }\n    },\n    {\n      \"column\": \"Es_gracioso\",\n      \"properties\": {\n        \"dtype\": \"number\",\n        \"std\": 0.5773502691896258,\n        \"min\": 0.0,\n        \"max\": 1.0,\n        \"num_unique_values\": 2,\n        \"samples\": [\n          0.0,\n          1.0\n        ],\n        \"semantic_type\": \"\",\n        \"description\": \"\"\n      }\n    },\n    {\n      \"column\": \"promedio_gracioso\",\n      \"properties\": {\n        \"dtype\": \"number\",\n        \"std\": 1,\n        \"min\": 0,\n        \"max\": 2,\n        \"num_unique_values\": 2,\n        \"samples\": [\n          0,\n          2\n        ],\n        \"semantic_type\": \"\",\n        \"description\": \"\"\n      }\n    }\n  ]\n}",
       "type": "dataframe"
      },
      "text/html": [
       "\n",
       "  <div id=\"df-abf73cbd-84bb-4ec2-b4d7-6a75a0d85c98\" class=\"colab-df-container\">\n",
       "    <div>\n",
       "<style scoped>\n",
       "    .dataframe tbody tr th:only-of-type {\n",
       "        vertical-align: middle;\n",
       "    }\n",
       "\n",
       "    .dataframe tbody tr th {\n",
       "        vertical-align: top;\n",
       "    }\n",
       "\n",
       "    .dataframe thead th {\n",
       "        text-align: right;\n",
       "    }\n",
       "</style>\n",
       "<table border=\"1\" class=\"dataframe\">\n",
       "  <thead>\n",
       "    <tr style=\"text-align: right;\">\n",
       "      <th></th>\n",
       "      <th>text</th>\n",
       "      <th>Es_gracioso</th>\n",
       "      <th>promedio_gracioso</th>\n",
       "    </tr>\n",
       "  </thead>\n",
       "  <tbody>\n",
       "    <tr>\n",
       "      <th>4362</th>\n",
       "      <td>ven cuando quieras pero asegúrate de llamar an...</td>\n",
       "      <td>1.0</td>\n",
       "      <td>2</td>\n",
       "    </tr>\n",
       "    <tr>\n",
       "      <th>9360</th>\n",
       "      <td>bien ahí q tengo unas amigas de fierro que est...</td>\n",
       "      <td>0.0</td>\n",
       "      <td>0</td>\n",
       "    </tr>\n",
       "    <tr>\n",
       "      <th>4188</th>\n",
       "      <td>cuando te dicen vamos juntos pero tú terminas ...</td>\n",
       "      <td>1.0</td>\n",
       "      <td>2</td>\n",
       "    </tr>\n",
       "  </tbody>\n",
       "</table>\n",
       "</div>\n",
       "    <div class=\"colab-df-buttons\">\n",
       "\n",
       "  <div class=\"colab-df-container\">\n",
       "    <button class=\"colab-df-convert\" onclick=\"convertToInteractive('df-abf73cbd-84bb-4ec2-b4d7-6a75a0d85c98')\"\n",
       "            title=\"Convert this dataframe to an interactive table.\"\n",
       "            style=\"display:none;\">\n",
       "\n",
       "  <svg xmlns=\"http://www.w3.org/2000/svg\" height=\"24px\" viewBox=\"0 -960 960 960\">\n",
       "    <path d=\"M120-120v-720h720v720H120Zm60-500h600v-160H180v160Zm220 220h160v-160H400v160Zm0 220h160v-160H400v160ZM180-400h160v-160H180v160Zm440 0h160v-160H620v160ZM180-180h160v-160H180v160Zm440 0h160v-160H620v160Z\"/>\n",
       "  </svg>\n",
       "    </button>\n",
       "\n",
       "  <style>\n",
       "    .colab-df-container {\n",
       "      display:flex;\n",
       "      gap: 12px;\n",
       "    }\n",
       "\n",
       "    .colab-df-convert {\n",
       "      background-color: #E8F0FE;\n",
       "      border: none;\n",
       "      border-radius: 50%;\n",
       "      cursor: pointer;\n",
       "      display: none;\n",
       "      fill: #1967D2;\n",
       "      height: 32px;\n",
       "      padding: 0 0 0 0;\n",
       "      width: 32px;\n",
       "    }\n",
       "\n",
       "    .colab-df-convert:hover {\n",
       "      background-color: #E2EBFA;\n",
       "      box-shadow: 0px 1px 2px rgba(60, 64, 67, 0.3), 0px 1px 3px 1px rgba(60, 64, 67, 0.15);\n",
       "      fill: #174EA6;\n",
       "    }\n",
       "\n",
       "    .colab-df-buttons div {\n",
       "      margin-bottom: 4px;\n",
       "    }\n",
       "\n",
       "    [theme=dark] .colab-df-convert {\n",
       "      background-color: #3B4455;\n",
       "      fill: #D2E3FC;\n",
       "    }\n",
       "\n",
       "    [theme=dark] .colab-df-convert:hover {\n",
       "      background-color: #434B5C;\n",
       "      box-shadow: 0px 1px 3px 1px rgba(0, 0, 0, 0.15);\n",
       "      filter: drop-shadow(0px 1px 2px rgba(0, 0, 0, 0.3));\n",
       "      fill: #FFFFFF;\n",
       "    }\n",
       "  </style>\n",
       "\n",
       "    <script>\n",
       "      const buttonEl =\n",
       "        document.querySelector('#df-abf73cbd-84bb-4ec2-b4d7-6a75a0d85c98 button.colab-df-convert');\n",
       "      buttonEl.style.display =\n",
       "        google.colab.kernel.accessAllowed ? 'block' : 'none';\n",
       "\n",
       "      async function convertToInteractive(key) {\n",
       "        const element = document.querySelector('#df-abf73cbd-84bb-4ec2-b4d7-6a75a0d85c98');\n",
       "        const dataTable =\n",
       "          await google.colab.kernel.invokeFunction('convertToInteractive',\n",
       "                                                    [key], {});\n",
       "        if (!dataTable) return;\n",
       "\n",
       "        const docLinkHtml = 'Like what you see? Visit the ' +\n",
       "          '<a target=\"_blank\" href=https://colab.research.google.com/notebooks/data_table.ipynb>data table notebook</a>'\n",
       "          + ' to learn more about interactive tables.';\n",
       "        element.innerHTML = '';\n",
       "        dataTable['output_type'] = 'display_data';\n",
       "        await google.colab.output.renderOutput(dataTable, element);\n",
       "        const docLink = document.createElement('div');\n",
       "        docLink.innerHTML = docLinkHtml;\n",
       "        element.appendChild(docLink);\n",
       "      }\n",
       "    </script>\n",
       "  </div>\n",
       "\n",
       "\n",
       "<div id=\"df-2bc9e2c2-d61e-45af-a4c2-3452ff86c366\">\n",
       "  <button class=\"colab-df-quickchart\" onclick=\"quickchart('df-2bc9e2c2-d61e-45af-a4c2-3452ff86c366')\"\n",
       "            title=\"Suggest charts\"\n",
       "            style=\"display:none;\">\n",
       "\n",
       "<svg xmlns=\"http://www.w3.org/2000/svg\" height=\"24px\"viewBox=\"0 0 24 24\"\n",
       "     width=\"24px\">\n",
       "    <g>\n",
       "        <path d=\"M19 3H5c-1.1 0-2 .9-2 2v14c0 1.1.9 2 2 2h14c1.1 0 2-.9 2-2V5c0-1.1-.9-2-2-2zM9 17H7v-7h2v7zm4 0h-2V7h2v10zm4 0h-2v-4h2v4z\"/>\n",
       "    </g>\n",
       "</svg>\n",
       "  </button>\n",
       "\n",
       "<style>\n",
       "  .colab-df-quickchart {\n",
       "      --bg-color: #E8F0FE;\n",
       "      --fill-color: #1967D2;\n",
       "      --hover-bg-color: #E2EBFA;\n",
       "      --hover-fill-color: #174EA6;\n",
       "      --disabled-fill-color: #AAA;\n",
       "      --disabled-bg-color: #DDD;\n",
       "  }\n",
       "\n",
       "  [theme=dark] .colab-df-quickchart {\n",
       "      --bg-color: #3B4455;\n",
       "      --fill-color: #D2E3FC;\n",
       "      --hover-bg-color: #434B5C;\n",
       "      --hover-fill-color: #FFFFFF;\n",
       "      --disabled-bg-color: #3B4455;\n",
       "      --disabled-fill-color: #666;\n",
       "  }\n",
       "\n",
       "  .colab-df-quickchart {\n",
       "    background-color: var(--bg-color);\n",
       "    border: none;\n",
       "    border-radius: 50%;\n",
       "    cursor: pointer;\n",
       "    display: none;\n",
       "    fill: var(--fill-color);\n",
       "    height: 32px;\n",
       "    padding: 0;\n",
       "    width: 32px;\n",
       "  }\n",
       "\n",
       "  .colab-df-quickchart:hover {\n",
       "    background-color: var(--hover-bg-color);\n",
       "    box-shadow: 0 1px 2px rgba(60, 64, 67, 0.3), 0 1px 3px 1px rgba(60, 64, 67, 0.15);\n",
       "    fill: var(--button-hover-fill-color);\n",
       "  }\n",
       "\n",
       "  .colab-df-quickchart-complete:disabled,\n",
       "  .colab-df-quickchart-complete:disabled:hover {\n",
       "    background-color: var(--disabled-bg-color);\n",
       "    fill: var(--disabled-fill-color);\n",
       "    box-shadow: none;\n",
       "  }\n",
       "\n",
       "  .colab-df-spinner {\n",
       "    border: 2px solid var(--fill-color);\n",
       "    border-color: transparent;\n",
       "    border-bottom-color: var(--fill-color);\n",
       "    animation:\n",
       "      spin 1s steps(1) infinite;\n",
       "  }\n",
       "\n",
       "  @keyframes spin {\n",
       "    0% {\n",
       "      border-color: transparent;\n",
       "      border-bottom-color: var(--fill-color);\n",
       "      border-left-color: var(--fill-color);\n",
       "    }\n",
       "    20% {\n",
       "      border-color: transparent;\n",
       "      border-left-color: var(--fill-color);\n",
       "      border-top-color: var(--fill-color);\n",
       "    }\n",
       "    30% {\n",
       "      border-color: transparent;\n",
       "      border-left-color: var(--fill-color);\n",
       "      border-top-color: var(--fill-color);\n",
       "      border-right-color: var(--fill-color);\n",
       "    }\n",
       "    40% {\n",
       "      border-color: transparent;\n",
       "      border-right-color: var(--fill-color);\n",
       "      border-top-color: var(--fill-color);\n",
       "    }\n",
       "    60% {\n",
       "      border-color: transparent;\n",
       "      border-right-color: var(--fill-color);\n",
       "    }\n",
       "    80% {\n",
       "      border-color: transparent;\n",
       "      border-right-color: var(--fill-color);\n",
       "      border-bottom-color: var(--fill-color);\n",
       "    }\n",
       "    90% {\n",
       "      border-color: transparent;\n",
       "      border-bottom-color: var(--fill-color);\n",
       "    }\n",
       "  }\n",
       "</style>\n",
       "\n",
       "  <script>\n",
       "    async function quickchart(key) {\n",
       "      const quickchartButtonEl =\n",
       "        document.querySelector('#' + key + ' button');\n",
       "      quickchartButtonEl.disabled = true;  // To prevent multiple clicks.\n",
       "      quickchartButtonEl.classList.add('colab-df-spinner');\n",
       "      try {\n",
       "        const charts = await google.colab.kernel.invokeFunction(\n",
       "            'suggestCharts', [key], {});\n",
       "      } catch (error) {\n",
       "        console.error('Error during call to suggestCharts:', error);\n",
       "      }\n",
       "      quickchartButtonEl.classList.remove('colab-df-spinner');\n",
       "      quickchartButtonEl.classList.add('colab-df-quickchart-complete');\n",
       "    }\n",
       "    (() => {\n",
       "      let quickchartButtonEl =\n",
       "        document.querySelector('#df-2bc9e2c2-d61e-45af-a4c2-3452ff86c366 button');\n",
       "      quickchartButtonEl.style.display =\n",
       "        google.colab.kernel.accessAllowed ? 'block' : 'none';\n",
       "    })();\n",
       "  </script>\n",
       "</div>\n",
       "\n",
       "    </div>\n",
       "  </div>\n"
      ],
      "text/plain": [
       "                                                   text  Es_gracioso  \\\n",
       "4362  ven cuando quieras pero asegúrate de llamar an...          1.0   \n",
       "9360  bien ahí q tengo unas amigas de fierro que est...          0.0   \n",
       "4188  cuando te dicen vamos juntos pero tú terminas ...          1.0   \n",
       "\n",
       "      promedio_gracioso  \n",
       "4362                  2  \n",
       "9360                  0  \n",
       "4188                  2  "
      ]
     },
     "execution_count": 72,
     "metadata": {},
     "output_type": "execute_result"
    }
   ],
   "source": [
    "\"\"\"\n",
    "Función para limpiar un texto (chiste) que entra por parámetro\n",
    "\"\"\"\n",
    "def preprocess_text(text):\n",
    "    # Transformación de las URLs a su token <URL>\n",
    "    text = re.sub(r'http\\S+', '<URL>', text)\n",
    "\n",
    "    # Transformación de las menciones de usaurio a su token <USUARIO>\n",
    "    text = re.sub(r'@\\w+', '<USUARIO>', text)\n",
    "\n",
    "    # Dejar en miniscula el texto\n",
    "    text = text.lower()\n",
    "\n",
    "    # Eliminar emojis\n",
    "    text = re.sub(r'[\\U0001F600-\\U0001F64F\\U0001F300-\\U0001F5FF\\U0001F680-\\U0001F6FF\\U0001F700-\\U0001F77F\\U0001F780-\\U0001F7FF\\U0001F800-\\U0001F8FF\\U0001F900-\\U0001F9FF\\U0001FA00-\\U0001FA6F\\U0001FA70-\\U0001FAFF\\U00002702-\\U000027B0\\U000024C2-\\U0001F251]+', '', text)\n",
    "    text = re.sub(r':\\)|;\\)|:-\\)|:-\\(|:-\\(|:-\\*|:-\\)|:P|:D|:<|:-P', '<EMOJI>', text)\n",
    "\n",
    "    # Transformación de los hashtags a su token <HASH_TAG>\n",
    "    text = re.sub(r'#\\w+', '<HASH_TAG>', text)\n",
    "\n",
    "    # Eliminar puntuación\n",
    "    text = re.sub(r'[^\\w\\s]', '', text)\n",
    "\n",
    "    # Transformación de las imagenes a su token <IMAGE>\n",
    "    result = re.sub(r\"[\\w-]+\\.(jpg|jpeg|png|gif):\", \"<IMAGE>\", text)\n",
    "\n",
    "    return text\n",
    "\n",
    "dataset['text'] = dataset['text'].apply(preprocess_text)\n",
    "dataset = dataset[['text', 'Es_gracioso', 'promedio_gracioso']]\n",
    "dataset.sample(n=3)"
   ]
  },
  {
   "cell_type": "markdown",
   "metadata": {
    "id": "GMbASsI8N1d8"
   },
   "source": [
    "## **3. Partición de los datos**"
   ]
  },
  {
   "cell_type": "markdown",
   "metadata": {
    "id": "hx3pR3CQR72E"
   },
   "source": [
    "Tercero, se realiza una revisión de la distribuión de los datos para verificar un correcto balanceo de las clases."
   ]
  },
  {
   "cell_type": "code",
   "execution_count": 73,
   "metadata": {
    "id": "Rp1xYa2CQ4ws"
   },
   "outputs": [],
   "source": [
    "\"\"\"\n",
    "Función para graficar la distribución de los datos\n",
    "\"\"\"\n",
    "def graficar_distribucion(class_counts):\n",
    "    plt.figure(figsize=(6, 4))\n",
    "    ax = sns.barplot(x=class_counts.index, y=class_counts.values, palette=\"Blues_d\", hue=class_counts.index)\n",
    "\n",
    "    # Añadir los números sobre las barras\n",
    "    for p in ax.patches:\n",
    "        ax.annotate(f'{p.get_height():.0f}',\n",
    "                    (p.get_x() + p.get_width() / 2., p.get_height()),\n",
    "                    ha='center', va='center',\n",
    "                    fontsize=12, color='black',\n",
    "                    xytext=(0, 5), textcoords='offset points')\n",
    "\n",
    "    plt.title(\"Distribución de Clases en el Conjunto de Datos\")\n",
    "    plt.xlabel(\"Clase\")\n",
    "    plt.ylabel(\"Número de Muestras\")\n",
    "    plt.xticks(rotation=0)\n",
    "    plt.legend([], [], frameon=False)\n",
    "    plt.show()"
   ]
  },
  {
   "cell_type": "code",
   "execution_count": 74,
   "metadata": {
    "colab": {
     "base_uri": "https://localhost:8080/",
     "height": 411
    },
    "id": "ASZFhr_sQrAD",
    "outputId": "358dbdae-3fc1-45fc-b226-d38d8e04b330"
   },
   "outputs": [
    {
     "data": {
      "image/png": "[encoded data removed]",
      "text/plain": [
       "<Figure size 600x400 with 1 Axes>"
      ]
     },
     "metadata": {},
     "output_type": "display_data"
    }
   ],
   "source": [
    "# Distribución inicial de los datos de cada clase\n",
    "graficar_distribucion(dataset['promedio_gracioso'].value_counts())"
   ]
  },
  {
   "cell_type": "markdown",
   "metadata": {
    "id": "3gL9GFNbR9WJ"
   },
   "source": [
    "Se puede observar que hay un gran desbalanceo en las clases, para evitar este desbalanceo, se decidió limitar todas las clases a 2000 datos. Por otro lado, al tener la clase 4 y 5 pocos datos también se decidió por unificarlo con la clase 3, por ende, la clase 3, 4 y 5 corresponden a la misma clase."
   ]
  },
  {
   "cell_type": "code",
   "execution_count": 75,
   "metadata": {
    "colab": {
     "base_uri": "https://localhost:8080/",
     "height": 411
    },
    "id": "fYLBPEAYrazM",
    "outputId": "2a3d353b-f04b-4ceb-c251-4d2d3897e250"
   },
   "outputs": [
    {
     "data": {
      "image/png": "[encoded data removed]",
      "text/plain": [
       "<Figure size 600x400 with 1 Axes>"
      ]
     },
     "metadata": {},
     "output_type": "display_data"
    }
   ],
   "source": [
    "# Variable para definir el número máximo de datos en cada clase\n",
    "max_samples_per_class = 2000\n",
    "\n",
    "# Combinar las clases 4 y 5 en la clase 3\n",
    "dataset['promedio_gracioso'] = dataset['promedio_gracioso'].replace({5: 4})\n",
    "dataset['promedio_gracioso'] = dataset['promedio_gracioso'].replace({4: 3})\n",
    "\n",
    "# Crear una lista para almacenar las muestras balanceadas\n",
    "balanced_data = []\n",
    "\n",
    "# Iterar sobre cada clase única en la columna 'promedio_gracioso'\n",
    "for clase, datos_clase in dataset.groupby('promedio_gracioso'):\n",
    "    datos_balanceados = resample(\n",
    "        datos_clase,\n",
    "        replace=False,\n",
    "        n_samples=min(max_samples_per_class, len(datos_clase)),\n",
    "        random_state=2024\n",
    "    )\n",
    "    # Agregar los datos balanceados a la lista\n",
    "    balanced_data.append(datos_balanceados)\n",
    "\n",
    "# Combinar todas las muestras balanceadas en el DataFrame original\n",
    "dataset = pd.concat(balanced_data)\n",
    "\n",
    "# Distribución final de los datos de cada clase\n",
    "graficar_distribucion(dataset['promedio_gracioso'].value_counts())"
   ]
  },
  {
   "cell_type": "markdown",
   "metadata": {
    "id": "UsV4-J17Sxfb"
   },
   "source": [
    "Una vez verificado el correcto balanceo de las clase, se hace la partición de los datos dejando un 70% de los datos para entrenamiento, un 15% de los datos para validación y un 15% de los datos para prueba."
   ]
  },
  {
   "cell_type": "code",
   "execution_count": 76,
   "metadata": {
    "id": "OchsFeaEOLSa"
   },
   "outputs": [],
   "source": [
    "# Divide el dataset original en un cojunto entrenamiento y un conjunto auxliar\n",
    "X_train, X_aux, y_train, y_aux = train_test_split(\n",
    "    dataset['text'],\n",
    "    dataset['promedio_gracioso'],\n",
    "    random_state=2024,\n",
    "    test_size=0.3,\n",
    "    stratify=dataset['promedio_gracioso']\n",
    ")\n",
    "\n",
    "# Divide el conjunto auxiliar en un cojunto de prueba y un cojunto de validación\n",
    "X_val, X_test, y_val, y_test = train_test_split(\n",
    "    X_aux,\n",
    "    y_aux,\n",
    "    random_state=2024,\n",
    "    test_size=0.5,\n",
    "    stratify=y_aux\n",
    ")"
   ]
  },
  {
   "cell_type": "markdown",
   "metadata": {
    "id": "fleRenn-TSoA"
   },
   "source": [
    "Una vez que los datos han sido particionados en conjuntos de entrenamiento, validación y prueba, se procede a realizar la tokenización del texto. Durante esta etapa, cada chiste se convierte en una secuencia de índices numéricos, donde cada número representa una palabra o token específico del vocabulario construido a partir del conjunto de entrenamiento.\n",
    "\n",
    "Para garantizar que todas las secuencias tengan la misma longitud y puedan ser procesadas por el modelo LSTM, se aplica un paso adicional llamado padding, que rellena las secuencias más cortas con ceros hasta alcanzar una longitud fija (determinada por la longitud máxima en los datos de entrenamiento). Esto asegura que el modelo pueda procesar los datos de manera uniforme y eficiente."
   ]
  },
  {
   "cell_type": "code",
   "execution_count": 77,
   "metadata": {
    "colab": {
     "base_uri": "https://localhost:8080/"
    },
    "id": "13Z2TIAlTZMS",
    "outputId": "14b52102-4b73-44c2-c878-721a05e87090"
   },
   "outputs": [
    {
     "name": "stdout",
     "output_type": "stream",
     "text": [
      "Tamaño del vocabulario: 13714\n"
     ]
    }
   ],
   "source": [
    "\"\"\"\n",
    "Función para generar el padding para cada conjunto de datos\n",
    "\"\"\"\n",
    "def tokenize_texts(tokenizer, texts, maxlen):\n",
    "    # Convertir textos a secuencias de índices\n",
    "    sequences = tokenizer.texts_to_sequences(texts)\n",
    "\n",
    "    # Padding para asegurar longitud uniforme\n",
    "    padded_sequences = pad_sequences(sequences, maxlen=maxlen)\n",
    "\n",
    "    return padded_sequences\n",
    "\n",
    "# Crear y entrenar el tokenizador en el conjunto de entrenamiento\n",
    "tokenizer = Tokenizer()\n",
    "tokenizer.fit_on_texts(X_train)\n",
    "vocab_size = len(tokenizer.word_index) + 1\n",
    "print(\"Tamaño del vocabulario:\", vocab_size)\n",
    "\n",
    "# Define una longitud máxima, basada en las secuencias de entrenamiento\n",
    "MAX_LEN = max(len(seq) for seq in tokenizer.texts_to_sequences(X_train))\n",
    "\n",
    "# Tokenizar y aplicar padding\n",
    "X_train_seq = tokenize_texts(tokenizer, X_train, maxlen=MAX_LEN)\n",
    "X_val_seq = tokenize_texts(tokenizer, X_val, maxlen=MAX_LEN)\n",
    "X_test_seq = tokenize_texts(tokenizer, X_test, maxlen=MAX_LEN)"
   ]
  },
  {
   "cell_type": "markdown",
   "metadata": {
    "id": "j-K88PLCTq3W"
   },
   "source": [
    "## **4. Construcción y entrenamiento del modelo**"
   ]
  },
  {
   "cell_type": "markdown",
   "metadata": {
    "id": "dq9dqTQvT_KH"
   },
   "source": [
    "Cuarto, se convierte las etiquetas de las clases (que están en formato numérico) a formato categórico (también conocido como one-hot encoding) para que puedan ser utilizadas en el modelo de clasificación."
   ]
  },
  {
   "cell_type": "code",
   "execution_count": 78,
   "metadata": {
    "id": "QIVhZYhfVQLn"
   },
   "outputs": [],
   "source": [
    "# Convierte las etiquetas a formato categórico\n",
    "num_classes = len(set(y_train))\n",
    "y_train_cat = to_categorical(y_train, num_classes=num_classes)\n",
    "y_val_cat = to_categorical(y_val, num_classes=num_classes)\n",
    "y_test_cat = to_categorical(y_test, num_classes=num_classes)"
   ]
  },
  {
   "cell_type": "markdown",
   "metadata": {
    "id": "3-SuqHCKUexf"
   },
   "source": [
    "Leugo, se realiza la definición del modelo secuencial en Keras compuesto por tres capas principales:\n",
    "\n",
    "* **Capa de entrada (Input):** Define la forma de las entradas, que en este caso son secuencias de 20 enteros (representando palabras o tokens).\n",
    "\n",
    "* **Capa de embedding (Embedding):** Convierte las secuencias de enteros (índices de palabras) en vectores de 50 dimensiones, donde cada palabra se representa por un vector denso de 50 características.\n",
    "\n",
    "* **Capa LSTM:** Una capa recurrente LSTM (Long Short-Term Memory) con 100 unidades, que procesa las secuencias de entrada y captura las dependencias a largo plazo en los datos.\n",
    "\n",
    "* **Capa Profunda:** Una capa completamente conectada con 64 unidades y activación ReLU. Esta capa introduce no linealidades y permite al modelo aprender representaciones más complejas.\n",
    "\n",
    "* **Capa de salida (Dense):** Capa final con tantas unidades como clases de salida (num_classes), utilizando la activación softmax para realizar clasificación multi-clase, donde se asigna una probabilidad a cada clase."
   ]
  },
  {
   "cell_type": "code",
   "execution_count": 79,
   "metadata": {
    "id": "g3yv4acEV-Le"
   },
   "outputs": [],
   "source": [
    "model = Sequential([\n",
    "    # Capa de entrada\n",
    "    tf.keras.Input(shape=(20,), dtype=\"int64\"),\n",
    "\n",
    "    # Capa de embedding\n",
    "    Embedding(input_dim=vocab_size, output_dim=50),\n",
    "\n",
    "    # Capa LSTM\n",
    "    LSTM(100, return_sequences=False),\n",
    "\n",
    "    # Capa de Dropout\n",
    "    Dropout(0.3),\n",
    "\n",
    "    # Capa profunda\n",
    "    Dense(units=64, activation='relu'),\n",
    "\n",
    "    # Capa de Dropout\n",
    "    Dropout(0.5),\n",
    "\n",
    "    # Capa salida\n",
    "    Dense(units=num_classes, activation='softmax')\n",
    "])"
   ]
  },
  {
   "cell_type": "markdown",
   "metadata": {
    "id": "X4IlYC4aVJlT"
   },
   "source": [
    "El modelo se compila con el optimizador Adam, la función de pérdida binary_crossentropy (adecuada para clasificación binaria) y la métrica accuracy para evaluar el rendimiento."
   ]
  },
  {
   "cell_type": "code",
   "execution_count": 80,
   "metadata": {
    "colab": {
     "base_uri": "https://localhost:8080/",
     "height": 321
    },
    "id": "nZQgFlb_VKZM",
    "outputId": "45299ca8-f0a7-4230-b1bb-48a92ded9758"
   },
   "outputs": [
    {
     "data": {
      "text/html": [
       "<pre style=\"white-space:pre;overflow-x:auto;line-height:normal;font-family:Menlo,'DejaVu Sans Mono',consolas,'Courier New',monospace\"><span style=\"font-weight: bold\">Model: \"sequential_2\"</span>\n",
       "</pre>\n"
      ],
      "text/plain": [
       "\u001b[1mModel: \"sequential_2\"\u001b[0m\n"
      ]
     },
     "metadata": {},
     "output_type": "display_data"
    },
    {
     "data": {
      "text/html": [
       "<pre style=\"white-space:pre;overflow-x:auto;line-height:normal;font-family:Menlo,'DejaVu Sans Mono',consolas,'Courier New',monospace\">┏━━━━━━━━━━━━━━━━━━━━━━━━━━━━━━━━━━━━━━┳━━━━━━━━━━━━━━━━━━━━━━━━━━━━━┳━━━━━━━━━━━━━━━━━┓\n",
       "┃<span style=\"font-weight: bold\"> Layer (type)                         </span>┃<span style=\"font-weight: bold\"> Output Shape                </span>┃<span style=\"font-weight: bold\">         Param # </span>┃\n",
       "┡━━━━━━━━━━━━━━━━━━━━━━━━━━━━━━━━━━━━━━╇━━━━━━━━━━━━━━━━━━━━━━━━━━━━━╇━━━━━━━━━━━━━━━━━┩\n",
       "│ embedding_2 (<span style=\"color: #0087ff; text-decoration-color: #0087ff\">Embedding</span>)              │ (<span style=\"color: #00d7ff; text-decoration-color: #00d7ff\">None</span>, <span style=\"color: #00af00; text-decoration-color: #00af00\">20</span>, <span style=\"color: #00af00; text-decoration-color: #00af00\">50</span>)              │         <span style=\"color: #00af00; text-decoration-color: #00af00\">685,700</span> │\n",
       "├──────────────────────────────────────┼─────────────────────────────┼─────────────────┤\n",
       "│ lstm_2 (<span style=\"color: #0087ff; text-decoration-color: #0087ff\">LSTM</span>)                        │ (<span style=\"color: #00d7ff; text-decoration-color: #00d7ff\">None</span>, <span style=\"color: #00af00; text-decoration-color: #00af00\">100</span>)                 │          <span style=\"color: #00af00; text-decoration-color: #00af00\">60,400</span> │\n",
       "├──────────────────────────────────────┼─────────────────────────────┼─────────────────┤\n",
       "│ dropout_4 (<span style=\"color: #0087ff; text-decoration-color: #0087ff\">Dropout</span>)                  │ (<span style=\"color: #00d7ff; text-decoration-color: #00d7ff\">None</span>, <span style=\"color: #00af00; text-decoration-color: #00af00\">100</span>)                 │               <span style=\"color: #00af00; text-decoration-color: #00af00\">0</span> │\n",
       "├──────────────────────────────────────┼─────────────────────────────┼─────────────────┤\n",
       "│ dense_4 (<span style=\"color: #0087ff; text-decoration-color: #0087ff\">Dense</span>)                      │ (<span style=\"color: #00d7ff; text-decoration-color: #00d7ff\">None</span>, <span style=\"color: #00af00; text-decoration-color: #00af00\">64</span>)                  │           <span style=\"color: #00af00; text-decoration-color: #00af00\">6,464</span> │\n",
       "├──────────────────────────────────────┼─────────────────────────────┼─────────────────┤\n",
       "│ dropout_5 (<span style=\"color: #0087ff; text-decoration-color: #0087ff\">Dropout</span>)                  │ (<span style=\"color: #00d7ff; text-decoration-color: #00d7ff\">None</span>, <span style=\"color: #00af00; text-decoration-color: #00af00\">64</span>)                  │               <span style=\"color: #00af00; text-decoration-color: #00af00\">0</span> │\n",
       "├──────────────────────────────────────┼─────────────────────────────┼─────────────────┤\n",
       "│ dense_5 (<span style=\"color: #0087ff; text-decoration-color: #0087ff\">Dense</span>)                      │ (<span style=\"color: #00d7ff; text-decoration-color: #00d7ff\">None</span>, <span style=\"color: #00af00; text-decoration-color: #00af00\">4</span>)                   │             <span style=\"color: #00af00; text-decoration-color: #00af00\">260</span> │\n",
       "└──────────────────────────────────────┴─────────────────────────────┴─────────────────┘\n",
       "</pre>\n"
      ],
      "text/plain": [
       "┏━━━━━━━━━━━━━━━━━━━━━━━━━━━━━━━━━━━━━━┳━━━━━━━━━━━━━━━━━━━━━━━━━━━━━┳━━━━━━━━━━━━━━━━━┓\n",
       "┃\u001b[1m \u001b[0m\u001b[1mLayer (type)                        \u001b[0m\u001b[1m \u001b[0m┃\u001b[1m \u001b[0m\u001b[1mOutput Shape               \u001b[0m\u001b[1m \u001b[0m┃\u001b[1m \u001b[0m\u001b[1m        Param #\u001b[0m\u001b[1m \u001b[0m┃\n",
       "┡━━━━━━━━━━━━━━━━━━━━━━━━━━━━━━━━━━━━━━╇━━━━━━━━━━━━━━━━━━━━━━━━━━━━━╇━━━━━━━━━━━━━━━━━┩\n",
       "│ embedding_2 (\u001b[38;5;33mEmbedding\u001b[0m)              │ (\u001b[38;5;45mNone\u001b[0m, \u001b[38;5;34m20\u001b[0m, \u001b[38;5;34m50\u001b[0m)              │         \u001b[38;5;34m685,700\u001b[0m │\n",
       "├──────────────────────────────────────┼─────────────────────────────┼─────────────────┤\n",
       "│ lstm_2 (\u001b[38;5;33mLSTM\u001b[0m)                        │ (\u001b[38;5;45mNone\u001b[0m, \u001b[38;5;34m100\u001b[0m)                 │          \u001b[38;5;34m60,400\u001b[0m │\n",
       "├──────────────────────────────────────┼─────────────────────────────┼─────────────────┤\n",
       "│ dropout_4 (\u001b[38;5;33mDropout\u001b[0m)                  │ (\u001b[38;5;45mNone\u001b[0m, \u001b[38;5;34m100\u001b[0m)                 │               \u001b[38;5;34m0\u001b[0m │\n",
       "├──────────────────────────────────────┼─────────────────────────────┼─────────────────┤\n",
       "│ dense_4 (\u001b[38;5;33mDense\u001b[0m)                      │ (\u001b[38;5;45mNone\u001b[0m, \u001b[38;5;34m64\u001b[0m)                  │           \u001b[38;5;34m6,464\u001b[0m │\n",
       "├──────────────────────────────────────┼─────────────────────────────┼─────────────────┤\n",
       "│ dropout_5 (\u001b[38;5;33mDropout\u001b[0m)                  │ (\u001b[38;5;45mNone\u001b[0m, \u001b[38;5;34m64\u001b[0m)                  │               \u001b[38;5;34m0\u001b[0m │\n",
       "├──────────────────────────────────────┼─────────────────────────────┼─────────────────┤\n",
       "│ dense_5 (\u001b[38;5;33mDense\u001b[0m)                      │ (\u001b[38;5;45mNone\u001b[0m, \u001b[38;5;34m4\u001b[0m)                   │             \u001b[38;5;34m260\u001b[0m │\n",
       "└──────────────────────────────────────┴─────────────────────────────┴─────────────────┘\n"
      ]
     },
     "metadata": {},
     "output_type": "display_data"
    },
    {
     "data": {
      "text/html": [
       "<pre style=\"white-space:pre;overflow-x:auto;line-height:normal;font-family:Menlo,'DejaVu Sans Mono',consolas,'Courier New',monospace\"><span style=\"font-weight: bold\"> Total params: </span><span style=\"color: #00af00; text-decoration-color: #00af00\">752,824</span> (2.87 MB)\n",
       "</pre>\n"
      ],
      "text/plain": [
       "\u001b[1m Total params: \u001b[0m\u001b[38;5;34m752,824\u001b[0m (2.87 MB)\n"
      ]
     },
     "metadata": {},
     "output_type": "display_data"
    },
    {
     "data": {
      "text/html": [
       "<pre style=\"white-space:pre;overflow-x:auto;line-height:normal;font-family:Menlo,'DejaVu Sans Mono',consolas,'Courier New',monospace\"><span style=\"font-weight: bold\"> Trainable params: </span><span style=\"color: #00af00; text-decoration-color: #00af00\">752,824</span> (2.87 MB)\n",
       "</pre>\n"
      ],
      "text/plain": [
       "\u001b[1m Trainable params: \u001b[0m\u001b[38;5;34m752,824\u001b[0m (2.87 MB)\n"
      ]
     },
     "metadata": {},
     "output_type": "display_data"
    },
    {
     "data": {
      "text/html": [
       "<pre style=\"white-space:pre;overflow-x:auto;line-height:normal;font-family:Menlo,'DejaVu Sans Mono',consolas,'Courier New',monospace\"><span style=\"font-weight: bold\"> Non-trainable params: </span><span style=\"color: #00af00; text-decoration-color: #00af00\">0</span> (0.00 B)\n",
       "</pre>\n"
      ],
      "text/plain": [
       "\u001b[1m Non-trainable params: \u001b[0m\u001b[38;5;34m0\u001b[0m (0.00 B)\n"
      ]
     },
     "metadata": {},
     "output_type": "display_data"
    }
   ],
   "source": [
    "model.compile(optimizer='adam', loss='categorical_crossentropy', metrics=['accuracy'])\n",
    "model.summary()"
   ]
  },
  {
   "cell_type": "markdown",
   "metadata": {
    "id": "p-SYjkLqVaeM"
   },
   "source": [
    "Se definen los siguiente callbacks para el proceso de entrenamiento:\n",
    "\n",
    "* **EarlyStopping:** Detiene el entrenamiento si la pérdida en validación (val_loss) no mejora después de 10 épocas.\n",
    "\n",
    "* **ModelCheckpoint:** Guarda el mejor modelo basado en la pérdida mínima en validación (val_loss) en un archivo con el nombre especificado."
   ]
  },
  {
   "cell_type": "code",
   "execution_count": 81,
   "metadata": {
    "id": "94nyWJmoT73G"
   },
   "outputs": [],
   "source": [
    "\"\"\"\n",
    "Función para definir dos callbacks para el entranmiento (EarlyStopping y ModelCheckpoint)\n",
    "\"\"\"\n",
    "def callbacks_model():\n",
    "  my_callbacks = [\n",
    "      tf.keras.callbacks.EarlyStopping(patience=10, monitor=\"val_loss\"),\n",
    "      tf.keras.callbacks.ModelCheckpoint(\"model.keras\", monitor=\"val_loss\", mode=\"min\", save_best_only=True, verbose=1)\n",
    "  ]\n",
    "\n",
    "  return my_callbacks"
   ]
  },
  {
   "cell_type": "markdown",
   "metadata": {
    "id": "BVRLSvRkVjka"
   },
   "source": [
    "Una vez definido el modelo, se hace el proceso de entramiento con 20 epocas y un batch_size de 64."
   ]
  },
  {
   "cell_type": "code",
   "execution_count": 82,
   "metadata": {
    "colab": {
     "base_uri": "https://localhost:8080/"
    },
    "id": "cahlcZEtWcu7",
    "outputId": "2a075d6d-0507-4cb5-df48-6ac48ba065ac"
   },
   "outputs": [
    {
     "name": "stdout",
     "output_type": "stream",
     "text": [
      "Epoch 1/20\n",
      "\u001b[1m87/88\u001b[0m \u001b[32m━━━━━━━━━━━━━━━━━━━\u001b[0m\u001b[37m━\u001b[0m \u001b[1m0s\u001b[0m 90ms/step - accuracy: 0.3138 - loss: 1.3486\n",
      "Epoch 1: val_loss improved from inf to 1.21105, saving model to model.keras\n",
      "\u001b[1m88/88\u001b[0m \u001b[32m━━━━━━━━━━━━━━━━━━━━\u001b[0m\u001b[37m\u001b[0m \u001b[1m13s\u001b[0m 109ms/step - accuracy: 0.3145 - loss: 1.3476 - val_accuracy: 0.4012 - val_loss: 1.2110\n",
      "Epoch 2/20\n",
      "\u001b[1m87/88\u001b[0m \u001b[32m━━━━━━━━━━━━━━━━━━━\u001b[0m\u001b[37m━\u001b[0m \u001b[1m0s\u001b[0m 169ms/step - accuracy: 0.4081 - loss: 1.1867\n",
      "Epoch 2: val_loss improved from 1.21105 to 1.19055, saving model to model.keras\n",
      "\u001b[1m88/88\u001b[0m \u001b[32m━━━━━━━━━━━━━━━━━━━━\u001b[0m\u001b[37m\u001b[0m \u001b[1m16s\u001b[0m 175ms/step - accuracy: 0.4083 - loss: 1.1861 - val_accuracy: 0.3987 - val_loss: 1.1906\n",
      "Epoch 3/20\n",
      "\u001b[1m88/88\u001b[0m \u001b[32m━━━━━━━━━━━━━━━━━━━━\u001b[0m\u001b[37m\u001b[0m \u001b[1m0s\u001b[0m 107ms/step - accuracy: 0.4891 - loss: 0.9919\n",
      "Epoch 3: val_loss did not improve from 1.19055\n",
      "\u001b[1m88/88\u001b[0m \u001b[32m━━━━━━━━━━━━━━━━━━━━\u001b[0m\u001b[37m\u001b[0m \u001b[1m10s\u001b[0m 113ms/step - accuracy: 0.4891 - loss: 0.9919 - val_accuracy: 0.3978 - val_loss: 1.2781\n",
      "Epoch 4/20\n",
      "\u001b[1m88/88\u001b[0m \u001b[32m━━━━━━━━━━━━━━━━━━━━\u001b[0m\u001b[37m\u001b[0m \u001b[1m0s\u001b[0m 80ms/step - accuracy: 0.5227 - loss: 0.8820\n",
      "Epoch 4: val_loss did not improve from 1.19055\n",
      "\u001b[1m88/88\u001b[0m \u001b[32m━━━━━━━━━━━━━━━━━━━━\u001b[0m\u001b[37m\u001b[0m \u001b[1m8s\u001b[0m 86ms/step - accuracy: 0.5228 - loss: 0.8820 - val_accuracy: 0.3828 - val_loss: 1.3104\n",
      "Epoch 5/20\n",
      "\u001b[1m87/88\u001b[0m \u001b[32m━━━━━━━━━━━━━━━━━━━\u001b[0m\u001b[37m━\u001b[0m \u001b[1m0s\u001b[0m 80ms/step - accuracy: 0.6331 - loss: 0.7803\n",
      "Epoch 5: val_loss did not improve from 1.19055\n",
      "\u001b[1m88/88\u001b[0m \u001b[32m━━━━━━━━━━━━━━━━━━━━\u001b[0m\u001b[37m\u001b[0m \u001b[1m10s\u001b[0m 86ms/step - accuracy: 0.6333 - loss: 0.7801 - val_accuracy: 0.3978 - val_loss: 1.5373\n",
      "Epoch 6/20\n",
      "\u001b[1m87/88\u001b[0m \u001b[32m━━━━━━━━━━━━━━━━━━━\u001b[0m\u001b[37m━\u001b[0m \u001b[1m0s\u001b[0m 109ms/step - accuracy: 0.7651 - loss: 0.5884\n",
      "Epoch 6: val_loss did not improve from 1.19055\n",
      "\u001b[1m88/88\u001b[0m \u001b[32m━━━━━━━━━━━━━━━━━━━━\u001b[0m\u001b[37m\u001b[0m \u001b[1m13s\u001b[0m 114ms/step - accuracy: 0.7652 - loss: 0.5883 - val_accuracy: 0.4095 - val_loss: 1.7683\n",
      "Epoch 7/20\n",
      "\u001b[1m88/88\u001b[0m \u001b[32m━━━━━━━━━━━━━━━━━━━━\u001b[0m\u001b[37m\u001b[0m \u001b[1m0s\u001b[0m 94ms/step - accuracy: 0.8714 - loss: 0.3638\n",
      "Epoch 7: val_loss did not improve from 1.19055\n",
      "\u001b[1m88/88\u001b[0m \u001b[32m━━━━━━━━━━━━━━━━━━━━\u001b[0m\u001b[37m\u001b[0m \u001b[1m10s\u001b[0m 109ms/step - accuracy: 0.8713 - loss: 0.3639 - val_accuracy: 0.3878 - val_loss: 1.9274\n",
      "Epoch 8/20\n",
      "\u001b[1m87/88\u001b[0m \u001b[32m━━━━━━━━━━━━━━━━━━━\u001b[0m\u001b[37m━\u001b[0m \u001b[1m0s\u001b[0m 80ms/step - accuracy: 0.9327 - loss: 0.2334\n",
      "Epoch 8: val_loss did not improve from 1.19055\n",
      "\u001b[1m88/88\u001b[0m \u001b[32m━━━━━━━━━━━━━━━━━━━━\u001b[0m\u001b[37m\u001b[0m \u001b[1m8s\u001b[0m 86ms/step - accuracy: 0.9325 - loss: 0.2338 - val_accuracy: 0.3920 - val_loss: 2.2795\n",
      "Epoch 9/20\n",
      "\u001b[1m87/88\u001b[0m \u001b[32m━━━━━━━━━━━━━━━━━━━\u001b[0m\u001b[37m━\u001b[0m \u001b[1m0s\u001b[0m 100ms/step - accuracy: 0.9544 - loss: 0.1672\n",
      "Epoch 9: val_loss did not improve from 1.19055\n",
      "\u001b[1m88/88\u001b[0m \u001b[32m━━━━━━━━━━━━━━━━━━━━\u001b[0m\u001b[37m\u001b[0m \u001b[1m12s\u001b[0m 106ms/step - accuracy: 0.9543 - loss: 0.1674 - val_accuracy: 0.3812 - val_loss: 2.6163\n",
      "Epoch 10/20\n",
      "\u001b[1m88/88\u001b[0m \u001b[32m━━━━━━━━━━━━━━━━━━━━\u001b[0m\u001b[37m\u001b[0m \u001b[1m0s\u001b[0m 103ms/step - accuracy: 0.9661 - loss: 0.1228\n",
      "Epoch 10: val_loss did not improve from 1.19055\n",
      "\u001b[1m88/88\u001b[0m \u001b[32m━━━━━━━━━━━━━━━━━━━━\u001b[0m\u001b[37m\u001b[0m \u001b[1m10s\u001b[0m 112ms/step - accuracy: 0.9660 - loss: 0.1230 - val_accuracy: 0.3928 - val_loss: 2.6836\n",
      "Epoch 11/20\n",
      "\u001b[1m87/88\u001b[0m \u001b[32m━━━━━━━━━━━━━━━━━━━\u001b[0m\u001b[37m━\u001b[0m \u001b[1m0s\u001b[0m 84ms/step - accuracy: 0.9749 - loss: 0.0966\n",
      "Epoch 11: val_loss did not improve from 1.19055\n",
      "\u001b[1m88/88\u001b[0m \u001b[32m━━━━━━━━━━━━━━━━━━━━\u001b[0m\u001b[37m\u001b[0m \u001b[1m8s\u001b[0m 90ms/step - accuracy: 0.9748 - loss: 0.0969 - val_accuracy: 0.3978 - val_loss: 2.8407\n",
      "Epoch 12/20\n",
      "\u001b[1m87/88\u001b[0m \u001b[32m━━━━━━━━━━━━━━━━━━━\u001b[0m\u001b[37m━\u001b[0m \u001b[1m0s\u001b[0m 106ms/step - accuracy: 0.9795 - loss: 0.0708\n",
      "Epoch 12: val_loss did not improve from 1.19055\n",
      "\u001b[1m88/88\u001b[0m \u001b[32m━━━━━━━━━━━━━━━━━━━━\u001b[0m\u001b[37m\u001b[0m \u001b[1m10s\u001b[0m 111ms/step - accuracy: 0.9793 - loss: 0.0712 - val_accuracy: 0.3912 - val_loss: 2.9946\n"
     ]
    }
   ],
   "source": [
    "history = model.fit(\n",
    "    X_train_seq, np.array(y_train_cat),\n",
    "    validation_data=(X_val_seq, y_val_cat),\n",
    "    epochs=20,\n",
    "    batch_size=64,\n",
    "    callbacks=callbacks_model()\n",
    ")"
   ]
  },
  {
   "cell_type": "code",
   "execution_count": 86,
   "metadata": {
    "colab": {
     "base_uri": "https://localhost:8080/",
     "height": 487
    },
    "id": "aR5NW5slWvhq",
    "outputId": "2df0cdda-8bdf-4664-cb3e-dd6ba777c2ef"
   },
   "outputs": [
    {
     "data": {
      "image/png": "[encoded data removed]",
      "text/plain": [
       "<Figure size 1200x500 with 2 Axes>"
      ]
     },
     "metadata": {},
     "output_type": "display_data"
    }
   ],
   "source": [
    "\"\"\"\n",
    "Función para graficar los resultados del entramiento\n",
    "\"\"\"\n",
    "def plot_accuracy_and_loss(history):\n",
    "\n",
    "    # Extraer datos de la historia de entrenamiento\n",
    "    acc = history.history['accuracy']\n",
    "    val_acc = history.history['val_accuracy']\n",
    "    loss = history.history['loss']\n",
    "    val_loss = history.history['val_loss']\n",
    "\n",
    "    # Número de épocas\n",
    "    epochs = range(1, len(acc) + 1)\n",
    "\n",
    "    # Gráfica de accuracy\n",
    "    plt.figure(figsize=(12, 5))\n",
    "\n",
    "    plt.subplot(1, 2, 1)\n",
    "    plt.plot(epochs, acc, 'b', label='Training accuracy')\n",
    "    plt.plot(epochs, val_acc, 'r', label='Validation accuracy')\n",
    "    plt.title('Training and validation accuracy')\n",
    "    plt.xlabel('Epochs')\n",
    "    plt.ylabel('Accuracy')\n",
    "    plt.legend()\n",
    "\n",
    "    # Gráfica de loss\n",
    "    plt.subplot(1, 2, 2)\n",
    "    plt.plot(epochs, loss, 'b', label='Training loss')\n",
    "    plt.plot(epochs, val_loss, 'r', label='Validation loss')\n",
    "    plt.title('Training and validation loss')\n",
    "    plt.xlabel('Epochs')\n",
    "    plt.ylabel('Loss')\n",
    "    plt.legend()\n",
    "\n",
    "    plt.show()\n",
    "\n",
    "plot_accuracy_and_loss(history)"
   ]
  },
  {
   "cell_type": "markdown",
   "metadata": {
    "id": "5cLKHRp5YEmX"
   },
   "source": [
    "Una vez terminado el entrenamiento se carga el mejor modelo guardado por el callback de ModelCheckpoint."
   ]
  },
  {
   "cell_type": "code",
   "execution_count": 87,
   "metadata": {
    "id": "1t_l2ObJYMR9"
   },
   "outputs": [],
   "source": [
    "# Carga del mejor modelo\n",
    "model = load_model('model.keras')"
   ]
  },
  {
   "cell_type": "markdown",
   "metadata": {
    "id": "ElG7GjHlWq3D"
   },
   "source": [
    "## **5. Resultados del modelo**"
   ]
  },
  {
   "cell_type": "markdown",
   "metadata": {
    "id": "pU8bEXbIXrcE"
   },
   "source": [
    "Quinto, se procede a calcular la matriz de confusión que arroja del modelo con respecto al conjunto de prueba. A partir de esta matriz, se derivan tres métricas importantes: precisión, recall y F1."
   ]
  },
  {
   "cell_type": "code",
   "execution_count": 88,
   "metadata": {
    "colab": {
     "base_uri": "https://localhost:8080/",
     "height": 553
    },
    "id": "Bdbkab8ZW7WX",
    "outputId": "64d39a6b-f041-4a8c-dc59-9c39f5b4bad0"
   },
   "outputs": [
    {
     "name": "stdout",
     "output_type": "stream",
     "text": [
      "\u001b[1m38/38\u001b[0m \u001b[32m━━━━━━━━━━━━━━━━━━━━\u001b[0m\u001b[37m\u001b[0m \u001b[1m1s\u001b[0m 25ms/step\n",
      "\n",
      "Métricas derivadas de la matriz de confusión:\n",
      " - Precisión (Weighted): 0.3839\n",
      " - Recall (Weighted): 0.4225\n",
      " - F1 (Weighted): 0.3787\n"
     ]
    },
    {
     "data": {
      "image/png": "[encoded data removed]",
      "text/plain": [
       "<Figure size 640x480 with 2 Axes>"
      ]
     },
     "metadata": {},
     "output_type": "display_data"
    }
   ],
   "source": [
    "# Predecir etiquetas para el conjunto de prueba\n",
    "y_pred = np.argmax(model.predict(X_test_seq), axis=1)\n",
    "\n",
    "# Calcular la matriz de confusión\n",
    "cm = confusion_matrix(y_test, y_pred)\n",
    "\n",
    "# Mostrar la matriz de confusión\n",
    "disp = ConfusionMatrixDisplay(confusion_matrix=cm)\n",
    "disp.plot(cmap=\"Blues\")\n",
    "\n",
    "# Calcular métricas adicionales basadas en la matriz de confusión\n",
    "precision = precision_score(y_test, y_pred, average='weighted')\n",
    "recall = recall_score(y_test, y_pred, average='weighted')\n",
    "f1 = f1_score(y_test, y_pred, average='weighted')\n",
    "\n",
    "# Mostrar las métricas de la matriz de confusión\n",
    "print(\"\\nMétricas derivadas de la matriz de confusión:\")\n",
    "print(f\" - Precisión (Weighted): {precision:.4f}\")\n",
    "print(f\" - Recall (Weighted): {recall:.4f}\")\n",
    "print(f\" - F1 (Weighted): {f1:.4f}\")"
   ]
  },
  {
   "cell_type": "markdown",
   "metadata": {
    "id": "3vy3Z-L_nQLk"
   },
   "source": [
    "\n",
    "El modelo muestra un desempeño limitado, con una precisión ponderada de 0.3839, un recall de 0.4225 y un F1-score de 0.3787. La clase 0 tiene el mejor rendimiento, pero las demás presentan confusión significativa, especialmente en las clases 1 y 3. Esto sugiere problemas para diferenciar patrones entre clases, posiblemente debido a desbalance de datos o características insuficientes."
   ]
  }
 ],
 "metadata": {
  "colab": {
   "provenance": []
  },
  "kernelspec": {
   "display_name": "Python 3",
   "name": "python3"
  },
  "language_info": {
   "name": "python"
  }
 },
 "nbformat": 4,
 "nbformat_minor": 0
}
