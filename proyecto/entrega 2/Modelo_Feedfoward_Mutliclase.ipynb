{
  "nbformat": 4,
  "nbformat_minor": 0,
  "metadata": {
    "colab": {
      "provenance": []
    },
    "kernelspec": {
      "name": "python3",
      "display_name": "Python 3"
    },
    "language_info": {
      "name": "python"
    }
  },
  "cells": [
    {
      "cell_type": "markdown",
      "source": [
        "# **PROYECTO HUMOR** Modelo Mutliclase con Red Feedforward\n",
        "\n",
        "**Autores:**\n",
        "\n",
        "* Juan Camilo Acosta Rojas - 202324893\n",
        "* Samuel Goncalves Vergara - 202122595\n",
        "* Jefferson Hernández - 202120242\n",
        "* Juan Andrés Mendez - 201815808"
      ],
      "metadata": {
        "id": "dYsxDFCH61Cn"
      }
    },
    {
      "cell_type": "code",
      "source": [
        "# Importación de librerias de python\n",
        "import matplotlib.pyplot as plt\n",
        "import seaborn as sns\n",
        "import pandas as pd\n",
        "import numpy as np\n",
        "import re\n",
        "\n",
        "# NLTK (Natural Language Toolkit): Procesamiento de texto y tokenización\n",
        "import nltk\n",
        "from nltk.tokenize import word_tokenize\n",
        "from nltk.corpus import stopwords\n",
        "nltk.download('punkt_tab')\n",
        "nltk.download('stopwords')\n",
        "\n",
        "# Gensim: Modelos de aprendizaje profundo para texto (Word2Vec)\n",
        "from gensim.models import Word2Vec\n",
        "\n",
        "# Scikit-learn: División de datos y otras utilidades para machine learning\n",
        "from sklearn.utils import resample\n",
        "from sklearn.model_selection import train_test_split\n",
        "from sklearn.metrics import confusion_matrix, ConfusionMatrixDisplay, precision_score, recall_score, f1_score\n",
        "\n",
        "# TensorFlow / Keras: Construcción y entrenamiento de redes neuronales\n",
        "import tensorflow as tf\n",
        "from tensorflow.keras import utils\n",
        "from tensorflow.keras.utils import to_categorical\n",
        "from tensorflow.keras.models import Sequential\n",
        "from tensorflow.keras.layers import Dense, Dropout, BatchNormalization\n",
        "from tensorflow.keras.models import load_model\n",
        "\n",
        "# Conexión con drive para obtener el dataset\n",
        "from google.colab import drive\n",
        "drive.mount('/content/drive')"
      ],
      "metadata": {
        "colab": {
          "base_uri": "https://localhost:8080/"
        },
        "id": "xtW-e7Jh60xb",
        "outputId": "ba0283b8-86b2-48bc-c2f6-658ca239207c"
      },
      "execution_count": 1,
      "outputs": [
        {
          "output_type": "stream",
          "name": "stderr",
          "text": [
            "[nltk_data] Downloading package punkt_tab to /root/nltk_data...\n",
            "[nltk_data]   Unzipping tokenizers/punkt_tab.zip.\n",
            "[nltk_data] Downloading package stopwords to /root/nltk_data...\n",
            "[nltk_data]   Unzipping corpora/stopwords.zip.\n"
          ]
        },
        {
          "output_type": "stream",
          "name": "stdout",
          "text": [
            "Mounted at /content/drive\n"
          ]
        }
      ]
    },
    {
      "cell_type": "markdown",
      "source": [
        "## **1. Carga de los datos**"
      ],
      "metadata": {
        "id": "ODAtuNTRF6Rl"
      }
    },
    {
      "cell_type": "markdown",
      "source": [
        "Primero, se extraen los 10000 datos chistosos y los otros 10000 datos no chistosos. En total son 20000 registros."
      ],
      "metadata": {
        "id": "TvFwQlymF7-S"
      }
    },
    {
      "cell_type": "code",
      "source": [
        "url_graceful_dataset = \"/content/drive/MyDrive/proyecto NLP/humor_dataset.csv\"\n",
        "url_non_graceful_dataset = \"/content/drive/MyDrive/proyecto NLP/datosNochistosos.csv\"\n",
        "\n",
        "df_graceful = pd.read_csv(url_graceful_dataset)\n",
        "df_non_graceful = pd.read_csv(url_non_graceful_dataset)\n",
        "\n",
        "dataset = pd.concat([df_graceful, df_non_graceful])\n",
        "dataset['promedio_gracioso'] = dataset[['nivel_gracia_p1', 'nivel_gracia_p2', 'nivel_gracia_p3']].mean(axis=1).fillna(0).astype(int)\n",
        "dataset['Es_gracioso'] = dataset['Es_gracioso'].fillna(0)\n",
        "\n",
        "# Se muestra 5 ejemplos aleatorios del dataset donde la columna \"promedio_gracioso\" indica el nivel de chiste\n",
        "print(dataset.shape)\n",
        "dataset.sample(n=3)"
      ],
      "metadata": {
        "colab": {
          "base_uri": "https://localhost:8080/",
          "height": 453
        },
        "id": "F53ocan9GJcM",
        "outputId": "0e173c0e-c010-4d52-f8cb-5f2b181ddb93"
      },
      "execution_count": 2,
      "outputs": [
        {
          "output_type": "stream",
          "name": "stdout",
          "text": [
            "(20000, 21)\n"
          ]
        },
        {
          "output_type": "execute_result",
          "data": {
            "text/plain": [
              "              id                                               text  \\\n",
              "7261  tweet10936          Ahora sí ya estoy hasta la madre del SS 😞   \n",
              "6175        6176  ¿Qué culpa tiene la gota que colmó el vaso de ...   \n",
              "7209  tweet10854  Que ganas de morirme y arrastraros a todos con...   \n",
              "\n",
              "                Fuente  es_gracioso_p1  es_gracioso_p2  es_gracioso_p3  \\\n",
              "7261               NaN             NaN             NaN             NaN   \n",
              "6175  Internet/Twitter             1.0             1.0             1.0   \n",
              "7209               NaN             NaN             NaN             NaN   \n",
              "\n",
              "      Es_gracioso  nivel_gracia_p1  nivel_gracia_p2  nivel_gracia_p3  ...  \\\n",
              "7261          0.0              NaN              NaN              NaN  ...   \n",
              "6175          1.0              3.0              3.0              2.0  ...   \n",
              "7209          0.0              NaN              NaN              NaN  ...   \n",
              "\n",
              "      votes_no  votes_1  votes_2  votes_3  votes_4  votes_5  humor_rating  \\\n",
              "7261       3.0      0.0      0.0      0.0      0.0      0.0           NaN   \n",
              "6175       NaN      NaN      NaN      NaN      NaN      NaN           NaN   \n",
              "7209       3.0      0.0      0.0      0.0      0.0      0.0           NaN   \n",
              "\n",
              "      humor_mechanism  humor_target  promedio_gracioso  \n",
              "7261              NaN           NaN                  0  \n",
              "6175              NaN           NaN                  2  \n",
              "7209              NaN           NaN                  0  \n",
              "\n",
              "[3 rows x 21 columns]"
            ],
            "text/html": [
              "\n",
              "  <div id=\"df-1c5b37d2-5ca3-4c72-98c8-b949277be21a\" class=\"colab-df-container\">\n",
              "    <div>\n",
              "<style scoped>\n",
              "    .dataframe tbody tr th:only-of-type {\n",
              "        vertical-align: middle;\n",
              "    }\n",
              "\n",
              "    .dataframe tbody tr th {\n",
              "        vertical-align: top;\n",
              "    }\n",
              "\n",
              "    .dataframe thead th {\n",
              "        text-align: right;\n",
              "    }\n",
              "</style>\n",
              "<table border=\"1\" class=\"dataframe\">\n",
              "  <thead>\n",
              "    <tr style=\"text-align: right;\">\n",
              "      <th></th>\n",
              "      <th>id</th>\n",
              "      <th>text</th>\n",
              "      <th>Fuente</th>\n",
              "      <th>es_gracioso_p1</th>\n",
              "      <th>es_gracioso_p2</th>\n",
              "      <th>es_gracioso_p3</th>\n",
              "      <th>Es_gracioso</th>\n",
              "      <th>nivel_gracia_p1</th>\n",
              "      <th>nivel_gracia_p2</th>\n",
              "      <th>nivel_gracia_p3</th>\n",
              "      <th>...</th>\n",
              "      <th>votes_no</th>\n",
              "      <th>votes_1</th>\n",
              "      <th>votes_2</th>\n",
              "      <th>votes_3</th>\n",
              "      <th>votes_4</th>\n",
              "      <th>votes_5</th>\n",
              "      <th>humor_rating</th>\n",
              "      <th>humor_mechanism</th>\n",
              "      <th>humor_target</th>\n",
              "      <th>promedio_gracioso</th>\n",
              "    </tr>\n",
              "  </thead>\n",
              "  <tbody>\n",
              "    <tr>\n",
              "      <th>7261</th>\n",
              "      <td>tweet10936</td>\n",
              "      <td>Ahora sí ya estoy hasta la madre del SS 😞</td>\n",
              "      <td>NaN</td>\n",
              "      <td>NaN</td>\n",
              "      <td>NaN</td>\n",
              "      <td>NaN</td>\n",
              "      <td>0.0</td>\n",
              "      <td>NaN</td>\n",
              "      <td>NaN</td>\n",
              "      <td>NaN</td>\n",
              "      <td>...</td>\n",
              "      <td>3.0</td>\n",
              "      <td>0.0</td>\n",
              "      <td>0.0</td>\n",
              "      <td>0.0</td>\n",
              "      <td>0.0</td>\n",
              "      <td>0.0</td>\n",
              "      <td>NaN</td>\n",
              "      <td>NaN</td>\n",
              "      <td>NaN</td>\n",
              "      <td>0</td>\n",
              "    </tr>\n",
              "    <tr>\n",
              "      <th>6175</th>\n",
              "      <td>6176</td>\n",
              "      <td>¿Qué culpa tiene la gota que colmó el vaso de ...</td>\n",
              "      <td>Internet/Twitter</td>\n",
              "      <td>1.0</td>\n",
              "      <td>1.0</td>\n",
              "      <td>1.0</td>\n",
              "      <td>1.0</td>\n",
              "      <td>3.0</td>\n",
              "      <td>3.0</td>\n",
              "      <td>2.0</td>\n",
              "      <td>...</td>\n",
              "      <td>NaN</td>\n",
              "      <td>NaN</td>\n",
              "      <td>NaN</td>\n",
              "      <td>NaN</td>\n",
              "      <td>NaN</td>\n",
              "      <td>NaN</td>\n",
              "      <td>NaN</td>\n",
              "      <td>NaN</td>\n",
              "      <td>NaN</td>\n",
              "      <td>2</td>\n",
              "    </tr>\n",
              "    <tr>\n",
              "      <th>7209</th>\n",
              "      <td>tweet10854</td>\n",
              "      <td>Que ganas de morirme y arrastraros a todos con...</td>\n",
              "      <td>NaN</td>\n",
              "      <td>NaN</td>\n",
              "      <td>NaN</td>\n",
              "      <td>NaN</td>\n",
              "      <td>0.0</td>\n",
              "      <td>NaN</td>\n",
              "      <td>NaN</td>\n",
              "      <td>NaN</td>\n",
              "      <td>...</td>\n",
              "      <td>3.0</td>\n",
              "      <td>0.0</td>\n",
              "      <td>0.0</td>\n",
              "      <td>0.0</td>\n",
              "      <td>0.0</td>\n",
              "      <td>0.0</td>\n",
              "      <td>NaN</td>\n",
              "      <td>NaN</td>\n",
              "      <td>NaN</td>\n",
              "      <td>0</td>\n",
              "    </tr>\n",
              "  </tbody>\n",
              "</table>\n",
              "<p>3 rows × 21 columns</p>\n",
              "</div>\n",
              "    <div class=\"colab-df-buttons\">\n",
              "\n",
              "  <div class=\"colab-df-container\">\n",
              "    <button class=\"colab-df-convert\" onclick=\"convertToInteractive('df-1c5b37d2-5ca3-4c72-98c8-b949277be21a')\"\n",
              "            title=\"Convert this dataframe to an interactive table.\"\n",
              "            style=\"display:none;\">\n",
              "\n",
              "  <svg xmlns=\"http://www.w3.org/2000/svg\" height=\"24px\" viewBox=\"0 -960 960 960\">\n",
              "    <path d=\"M120-120v-720h720v720H120Zm60-500h600v-160H180v160Zm220 220h160v-160H400v160Zm0 220h160v-160H400v160ZM180-400h160v-160H180v160Zm440 0h160v-160H620v160ZM180-180h160v-160H180v160Zm440 0h160v-160H620v160Z\"/>\n",
              "  </svg>\n",
              "    </button>\n",
              "\n",
              "  <style>\n",
              "    .colab-df-container {\n",
              "      display:flex;\n",
              "      gap: 12px;\n",
              "    }\n",
              "\n",
              "    .colab-df-convert {\n",
              "      background-color: #E8F0FE;\n",
              "      border: none;\n",
              "      border-radius: 50%;\n",
              "      cursor: pointer;\n",
              "      display: none;\n",
              "      fill: #1967D2;\n",
              "      height: 32px;\n",
              "      padding: 0 0 0 0;\n",
              "      width: 32px;\n",
              "    }\n",
              "\n",
              "    .colab-df-convert:hover {\n",
              "      background-color: #E2EBFA;\n",
              "      box-shadow: 0px 1px 2px rgba(60, 64, 67, 0.3), 0px 1px 3px 1px rgba(60, 64, 67, 0.15);\n",
              "      fill: #174EA6;\n",
              "    }\n",
              "\n",
              "    .colab-df-buttons div {\n",
              "      margin-bottom: 4px;\n",
              "    }\n",
              "\n",
              "    [theme=dark] .colab-df-convert {\n",
              "      background-color: #3B4455;\n",
              "      fill: #D2E3FC;\n",
              "    }\n",
              "\n",
              "    [theme=dark] .colab-df-convert:hover {\n",
              "      background-color: #434B5C;\n",
              "      box-shadow: 0px 1px 3px 1px rgba(0, 0, 0, 0.15);\n",
              "      filter: drop-shadow(0px 1px 2px rgba(0, 0, 0, 0.3));\n",
              "      fill: #FFFFFF;\n",
              "    }\n",
              "  </style>\n",
              "\n",
              "    <script>\n",
              "      const buttonEl =\n",
              "        document.querySelector('#df-1c5b37d2-5ca3-4c72-98c8-b949277be21a button.colab-df-convert');\n",
              "      buttonEl.style.display =\n",
              "        google.colab.kernel.accessAllowed ? 'block' : 'none';\n",
              "\n",
              "      async function convertToInteractive(key) {\n",
              "        const element = document.querySelector('#df-1c5b37d2-5ca3-4c72-98c8-b949277be21a');\n",
              "        const dataTable =\n",
              "          await google.colab.kernel.invokeFunction('convertToInteractive',\n",
              "                                                    [key], {});\n",
              "        if (!dataTable) return;\n",
              "\n",
              "        const docLinkHtml = 'Like what you see? Visit the ' +\n",
              "          '<a target=\"_blank\" href=https://colab.research.google.com/notebooks/data_table.ipynb>data table notebook</a>'\n",
              "          + ' to learn more about interactive tables.';\n",
              "        element.innerHTML = '';\n",
              "        dataTable['output_type'] = 'display_data';\n",
              "        await google.colab.output.renderOutput(dataTable, element);\n",
              "        const docLink = document.createElement('div');\n",
              "        docLink.innerHTML = docLinkHtml;\n",
              "        element.appendChild(docLink);\n",
              "      }\n",
              "    </script>\n",
              "  </div>\n",
              "\n",
              "\n",
              "<div id=\"df-9ffb6a20-a1e5-4fd4-ac0c-046c23c42d58\">\n",
              "  <button class=\"colab-df-quickchart\" onclick=\"quickchart('df-9ffb6a20-a1e5-4fd4-ac0c-046c23c42d58')\"\n",
              "            title=\"Suggest charts\"\n",
              "            style=\"display:none;\">\n",
              "\n",
              "<svg xmlns=\"http://www.w3.org/2000/svg\" height=\"24px\"viewBox=\"0 0 24 24\"\n",
              "     width=\"24px\">\n",
              "    <g>\n",
              "        <path d=\"M19 3H5c-1.1 0-2 .9-2 2v14c0 1.1.9 2 2 2h14c1.1 0 2-.9 2-2V5c0-1.1-.9-2-2-2zM9 17H7v-7h2v7zm4 0h-2V7h2v10zm4 0h-2v-4h2v4z\"/>\n",
              "    </g>\n",
              "</svg>\n",
              "  </button>\n",
              "\n",
              "<style>\n",
              "  .colab-df-quickchart {\n",
              "      --bg-color: #E8F0FE;\n",
              "      --fill-color: #1967D2;\n",
              "      --hover-bg-color: #E2EBFA;\n",
              "      --hover-fill-color: #174EA6;\n",
              "      --disabled-fill-color: #AAA;\n",
              "      --disabled-bg-color: #DDD;\n",
              "  }\n",
              "\n",
              "  [theme=dark] .colab-df-quickchart {\n",
              "      --bg-color: #3B4455;\n",
              "      --fill-color: #D2E3FC;\n",
              "      --hover-bg-color: #434B5C;\n",
              "      --hover-fill-color: #FFFFFF;\n",
              "      --disabled-bg-color: #3B4455;\n",
              "      --disabled-fill-color: #666;\n",
              "  }\n",
              "\n",
              "  .colab-df-quickchart {\n",
              "    background-color: var(--bg-color);\n",
              "    border: none;\n",
              "    border-radius: 50%;\n",
              "    cursor: pointer;\n",
              "    display: none;\n",
              "    fill: var(--fill-color);\n",
              "    height: 32px;\n",
              "    padding: 0;\n",
              "    width: 32px;\n",
              "  }\n",
              "\n",
              "  .colab-df-quickchart:hover {\n",
              "    background-color: var(--hover-bg-color);\n",
              "    box-shadow: 0 1px 2px rgba(60, 64, 67, 0.3), 0 1px 3px 1px rgba(60, 64, 67, 0.15);\n",
              "    fill: var(--button-hover-fill-color);\n",
              "  }\n",
              "\n",
              "  .colab-df-quickchart-complete:disabled,\n",
              "  .colab-df-quickchart-complete:disabled:hover {\n",
              "    background-color: var(--disabled-bg-color);\n",
              "    fill: var(--disabled-fill-color);\n",
              "    box-shadow: none;\n",
              "  }\n",
              "\n",
              "  .colab-df-spinner {\n",
              "    border: 2px solid var(--fill-color);\n",
              "    border-color: transparent;\n",
              "    border-bottom-color: var(--fill-color);\n",
              "    animation:\n",
              "      spin 1s steps(1) infinite;\n",
              "  }\n",
              "\n",
              "  @keyframes spin {\n",
              "    0% {\n",
              "      border-color: transparent;\n",
              "      border-bottom-color: var(--fill-color);\n",
              "      border-left-color: var(--fill-color);\n",
              "    }\n",
              "    20% {\n",
              "      border-color: transparent;\n",
              "      border-left-color: var(--fill-color);\n",
              "      border-top-color: var(--fill-color);\n",
              "    }\n",
              "    30% {\n",
              "      border-color: transparent;\n",
              "      border-left-color: var(--fill-color);\n",
              "      border-top-color: var(--fill-color);\n",
              "      border-right-color: var(--fill-color);\n",
              "    }\n",
              "    40% {\n",
              "      border-color: transparent;\n",
              "      border-right-color: var(--fill-color);\n",
              "      border-top-color: var(--fill-color);\n",
              "    }\n",
              "    60% {\n",
              "      border-color: transparent;\n",
              "      border-right-color: var(--fill-color);\n",
              "    }\n",
              "    80% {\n",
              "      border-color: transparent;\n",
              "      border-right-color: var(--fill-color);\n",
              "      border-bottom-color: var(--fill-color);\n",
              "    }\n",
              "    90% {\n",
              "      border-color: transparent;\n",
              "      border-bottom-color: var(--fill-color);\n",
              "    }\n",
              "  }\n",
              "</style>\n",
              "\n",
              "  <script>\n",
              "    async function quickchart(key) {\n",
              "      const quickchartButtonEl =\n",
              "        document.querySelector('#' + key + ' button');\n",
              "      quickchartButtonEl.disabled = true;  // To prevent multiple clicks.\n",
              "      quickchartButtonEl.classList.add('colab-df-spinner');\n",
              "      try {\n",
              "        const charts = await google.colab.kernel.invokeFunction(\n",
              "            'suggestCharts', [key], {});\n",
              "      } catch (error) {\n",
              "        console.error('Error during call to suggestCharts:', error);\n",
              "      }\n",
              "      quickchartButtonEl.classList.remove('colab-df-spinner');\n",
              "      quickchartButtonEl.classList.add('colab-df-quickchart-complete');\n",
              "    }\n",
              "    (() => {\n",
              "      let quickchartButtonEl =\n",
              "        document.querySelector('#df-9ffb6a20-a1e5-4fd4-ac0c-046c23c42d58 button');\n",
              "      quickchartButtonEl.style.display =\n",
              "        google.colab.kernel.accessAllowed ? 'block' : 'none';\n",
              "    })();\n",
              "  </script>\n",
              "</div>\n",
              "\n",
              "    </div>\n",
              "  </div>\n"
            ],
            "application/vnd.google.colaboratory.intrinsic+json": {
              "type": "dataframe"
            }
          },
          "metadata": {},
          "execution_count": 2
        }
      ]
    },
    {
      "cell_type": "markdown",
      "source": [
        "## **2. Preprocesamiento de los datos**"
      ],
      "metadata": {
        "id": "ggX_T3ayGaYX"
      }
    },
    {
      "cell_type": "markdown",
      "source": [
        "Segundo, para el preprocesamiento usamos varios pasos. Primero se reemplazan URLs, menciones de usuarios, hashtags y emojis por tokens genéricos (<URL'>, <USUARIO'>, <HASH_TAG'>, <EMOJI'>), lo que reduce la dimensionalidad del texto sin perder contexto. Además, se convierte todo a minúsculas para uniformidad, se eliminan signos de puntuación y nombres de archivos irrelevantes, y se tokeniza el texto en palabras individuales.\n",
        "\n",
        "Por último, se eliminan stopwords (palabras comunes como \"y\" o \"el\") para reducir ruido y mantener solo términos relevantes. El resultado es una lista de palabras procesadas, lista para ser vectorizada y usada en el modelo, garantizando mayor consistencia y eficiencia."
      ],
      "metadata": {
        "id": "b8801JhnGcJ2"
      }
    },
    {
      "cell_type": "code",
      "source": [
        "def preprocess_text(text):\n",
        "    # Transformación de las URLs a su token <URL>\n",
        "    text = re.sub(r'http\\S+', '<URL>', text)\n",
        "\n",
        "    # Transformación de las menciones de usaurio a su token <USUARIO>\n",
        "    text = re.sub(r'@\\w+', '<USUARIO>', text)\n",
        "\n",
        "    # Dejar en miniscula el texto\n",
        "    text = text.lower()\n",
        "\n",
        "    # Eliminar emojis\n",
        "    text = re.sub(r'[\\U0001F600-\\U0001F64F\\U0001F300-\\U0001F5FF\\U0001F680-\\U0001F6FF\\U0001F700-\\U0001F77F'\n",
        "                  r'\\U0001F780-\\U0001F7FF\\U0001F800-\\U0001F8FF\\U0001F900-\\U0001F9FF\\U0001FA00-\\U0001FA6F'\n",
        "                  r'\\U0001FA70-\\U0001FAFF\\U00002702-\\U000027B0\\U000024C2-\\U0001F251]', '<EMOJI>', text)\n",
        "    text = re.sub(r':\\)|;\\)|:-\\)|:-\\(|:-\\(|:-\\*|:-\\)|:P|:D|:<|:-P', '<EMOJI>', text)\n",
        "\n",
        "    # Transformación de los hashtags a su token <HASH_TAG>\n",
        "    text = re.sub(r'#\\w+', '<HASH_TAG>', text)\n",
        "\n",
        "    # Eliminar puntuación\n",
        "    text = re.sub(r'[^\\w\\s]', '', text)\n",
        "\n",
        "    # Transformación de las imagenes a su token <IMAGE>\n",
        "    text = re.sub(r\"[\\w-]+\\.(jpg|jpeg|png|gif):\", \"<IMAGE>:\", text)\n",
        "\n",
        "    # Tokenizar texto en palabras\n",
        "    tokens = word_tokenize(text)\n",
        "\n",
        "    # Remover palabras de parada\n",
        "    spanish_stopwords = set(stopwords.words('spanish'))\n",
        "    tokens = [word for word in tokens if word not in spanish_stopwords]\n",
        "\n",
        "    return tokens\n",
        "\n",
        "dataset['text'] = dataset['text'].apply(preprocess_text)\n",
        "dataset = dataset[['text', 'Es_gracioso', 'promedio_gracioso']]\n",
        "dataset.sample(n=3)"
      ],
      "metadata": {
        "colab": {
          "base_uri": "https://localhost:8080/",
          "height": 143
        },
        "id": "4QPwoPJlGc3C",
        "outputId": "053b0780-d426-4415-d2f0-5d41eaf598d8"
      },
      "execution_count": 3,
      "outputs": [
        {
          "output_type": "execute_result",
          "data": {
            "text/plain": [
              "                                                   text  Es_gracioso  \\\n",
              "6282  [cojones, haces, tirando, portátiles, río, mir...          1.0   \n",
              "5066  [decides, ver, solo, video, youtube, terminas,...          1.0   \n",
              "504   [capitán, capitán, 10, barcos, vienen, hacia, ...          1.0   \n",
              "\n",
              "      promedio_gracioso  \n",
              "6282                  3  \n",
              "5066                  2  \n",
              "504                   3  "
            ],
            "text/html": [
              "\n",
              "  <div id=\"df-52780d3d-038a-4b39-a040-c9d3aed5502c\" class=\"colab-df-container\">\n",
              "    <div>\n",
              "<style scoped>\n",
              "    .dataframe tbody tr th:only-of-type {\n",
              "        vertical-align: middle;\n",
              "    }\n",
              "\n",
              "    .dataframe tbody tr th {\n",
              "        vertical-align: top;\n",
              "    }\n",
              "\n",
              "    .dataframe thead th {\n",
              "        text-align: right;\n",
              "    }\n",
              "</style>\n",
              "<table border=\"1\" class=\"dataframe\">\n",
              "  <thead>\n",
              "    <tr style=\"text-align: right;\">\n",
              "      <th></th>\n",
              "      <th>text</th>\n",
              "      <th>Es_gracioso</th>\n",
              "      <th>promedio_gracioso</th>\n",
              "    </tr>\n",
              "  </thead>\n",
              "  <tbody>\n",
              "    <tr>\n",
              "      <th>6282</th>\n",
              "      <td>[cojones, haces, tirando, portátiles, río, mir...</td>\n",
              "      <td>1.0</td>\n",
              "      <td>3</td>\n",
              "    </tr>\n",
              "    <tr>\n",
              "      <th>5066</th>\n",
              "      <td>[decides, ver, solo, video, youtube, terminas,...</td>\n",
              "      <td>1.0</td>\n",
              "      <td>2</td>\n",
              "    </tr>\n",
              "    <tr>\n",
              "      <th>504</th>\n",
              "      <td>[capitán, capitán, 10, barcos, vienen, hacia, ...</td>\n",
              "      <td>1.0</td>\n",
              "      <td>3</td>\n",
              "    </tr>\n",
              "  </tbody>\n",
              "</table>\n",
              "</div>\n",
              "    <div class=\"colab-df-buttons\">\n",
              "\n",
              "  <div class=\"colab-df-container\">\n",
              "    <button class=\"colab-df-convert\" onclick=\"convertToInteractive('df-52780d3d-038a-4b39-a040-c9d3aed5502c')\"\n",
              "            title=\"Convert this dataframe to an interactive table.\"\n",
              "            style=\"display:none;\">\n",
              "\n",
              "  <svg xmlns=\"http://www.w3.org/2000/svg\" height=\"24px\" viewBox=\"0 -960 960 960\">\n",
              "    <path d=\"M120-120v-720h720v720H120Zm60-500h600v-160H180v160Zm220 220h160v-160H400v160Zm0 220h160v-160H400v160ZM180-400h160v-160H180v160Zm440 0h160v-160H620v160ZM180-180h160v-160H180v160Zm440 0h160v-160H620v160Z\"/>\n",
              "  </svg>\n",
              "    </button>\n",
              "\n",
              "  <style>\n",
              "    .colab-df-container {\n",
              "      display:flex;\n",
              "      gap: 12px;\n",
              "    }\n",
              "\n",
              "    .colab-df-convert {\n",
              "      background-color: #E8F0FE;\n",
              "      border: none;\n",
              "      border-radius: 50%;\n",
              "      cursor: pointer;\n",
              "      display: none;\n",
              "      fill: #1967D2;\n",
              "      height: 32px;\n",
              "      padding: 0 0 0 0;\n",
              "      width: 32px;\n",
              "    }\n",
              "\n",
              "    .colab-df-convert:hover {\n",
              "      background-color: #E2EBFA;\n",
              "      box-shadow: 0px 1px 2px rgba(60, 64, 67, 0.3), 0px 1px 3px 1px rgba(60, 64, 67, 0.15);\n",
              "      fill: #174EA6;\n",
              "    }\n",
              "\n",
              "    .colab-df-buttons div {\n",
              "      margin-bottom: 4px;\n",
              "    }\n",
              "\n",
              "    [theme=dark] .colab-df-convert {\n",
              "      background-color: #3B4455;\n",
              "      fill: #D2E3FC;\n",
              "    }\n",
              "\n",
              "    [theme=dark] .colab-df-convert:hover {\n",
              "      background-color: #434B5C;\n",
              "      box-shadow: 0px 1px 3px 1px rgba(0, 0, 0, 0.15);\n",
              "      filter: drop-shadow(0px 1px 2px rgba(0, 0, 0, 0.3));\n",
              "      fill: #FFFFFF;\n",
              "    }\n",
              "  </style>\n",
              "\n",
              "    <script>\n",
              "      const buttonEl =\n",
              "        document.querySelector('#df-52780d3d-038a-4b39-a040-c9d3aed5502c button.colab-df-convert');\n",
              "      buttonEl.style.display =\n",
              "        google.colab.kernel.accessAllowed ? 'block' : 'none';\n",
              "\n",
              "      async function convertToInteractive(key) {\n",
              "        const element = document.querySelector('#df-52780d3d-038a-4b39-a040-c9d3aed5502c');\n",
              "        const dataTable =\n",
              "          await google.colab.kernel.invokeFunction('convertToInteractive',\n",
              "                                                    [key], {});\n",
              "        if (!dataTable) return;\n",
              "\n",
              "        const docLinkHtml = 'Like what you see? Visit the ' +\n",
              "          '<a target=\"_blank\" href=https://colab.research.google.com/notebooks/data_table.ipynb>data table notebook</a>'\n",
              "          + ' to learn more about interactive tables.';\n",
              "        element.innerHTML = '';\n",
              "        dataTable['output_type'] = 'display_data';\n",
              "        await google.colab.output.renderOutput(dataTable, element);\n",
              "        const docLink = document.createElement('div');\n",
              "        docLink.innerHTML = docLinkHtml;\n",
              "        element.appendChild(docLink);\n",
              "      }\n",
              "    </script>\n",
              "  </div>\n",
              "\n",
              "\n",
              "<div id=\"df-33de44bf-08cf-48cb-9a71-de0a998d9849\">\n",
              "  <button class=\"colab-df-quickchart\" onclick=\"quickchart('df-33de44bf-08cf-48cb-9a71-de0a998d9849')\"\n",
              "            title=\"Suggest charts\"\n",
              "            style=\"display:none;\">\n",
              "\n",
              "<svg xmlns=\"http://www.w3.org/2000/svg\" height=\"24px\"viewBox=\"0 0 24 24\"\n",
              "     width=\"24px\">\n",
              "    <g>\n",
              "        <path d=\"M19 3H5c-1.1 0-2 .9-2 2v14c0 1.1.9 2 2 2h14c1.1 0 2-.9 2-2V5c0-1.1-.9-2-2-2zM9 17H7v-7h2v7zm4 0h-2V7h2v10zm4 0h-2v-4h2v4z\"/>\n",
              "    </g>\n",
              "</svg>\n",
              "  </button>\n",
              "\n",
              "<style>\n",
              "  .colab-df-quickchart {\n",
              "      --bg-color: #E8F0FE;\n",
              "      --fill-color: #1967D2;\n",
              "      --hover-bg-color: #E2EBFA;\n",
              "      --hover-fill-color: #174EA6;\n",
              "      --disabled-fill-color: #AAA;\n",
              "      --disabled-bg-color: #DDD;\n",
              "  }\n",
              "\n",
              "  [theme=dark] .colab-df-quickchart {\n",
              "      --bg-color: #3B4455;\n",
              "      --fill-color: #D2E3FC;\n",
              "      --hover-bg-color: #434B5C;\n",
              "      --hover-fill-color: #FFFFFF;\n",
              "      --disabled-bg-color: #3B4455;\n",
              "      --disabled-fill-color: #666;\n",
              "  }\n",
              "\n",
              "  .colab-df-quickchart {\n",
              "    background-color: var(--bg-color);\n",
              "    border: none;\n",
              "    border-radius: 50%;\n",
              "    cursor: pointer;\n",
              "    display: none;\n",
              "    fill: var(--fill-color);\n",
              "    height: 32px;\n",
              "    padding: 0;\n",
              "    width: 32px;\n",
              "  }\n",
              "\n",
              "  .colab-df-quickchart:hover {\n",
              "    background-color: var(--hover-bg-color);\n",
              "    box-shadow: 0 1px 2px rgba(60, 64, 67, 0.3), 0 1px 3px 1px rgba(60, 64, 67, 0.15);\n",
              "    fill: var(--button-hover-fill-color);\n",
              "  }\n",
              "\n",
              "  .colab-df-quickchart-complete:disabled,\n",
              "  .colab-df-quickchart-complete:disabled:hover {\n",
              "    background-color: var(--disabled-bg-color);\n",
              "    fill: var(--disabled-fill-color);\n",
              "    box-shadow: none;\n",
              "  }\n",
              "\n",
              "  .colab-df-spinner {\n",
              "    border: 2px solid var(--fill-color);\n",
              "    border-color: transparent;\n",
              "    border-bottom-color: var(--fill-color);\n",
              "    animation:\n",
              "      spin 1s steps(1) infinite;\n",
              "  }\n",
              "\n",
              "  @keyframes spin {\n",
              "    0% {\n",
              "      border-color: transparent;\n",
              "      border-bottom-color: var(--fill-color);\n",
              "      border-left-color: var(--fill-color);\n",
              "    }\n",
              "    20% {\n",
              "      border-color: transparent;\n",
              "      border-left-color: var(--fill-color);\n",
              "      border-top-color: var(--fill-color);\n",
              "    }\n",
              "    30% {\n",
              "      border-color: transparent;\n",
              "      border-left-color: var(--fill-color);\n",
              "      border-top-color: var(--fill-color);\n",
              "      border-right-color: var(--fill-color);\n",
              "    }\n",
              "    40% {\n",
              "      border-color: transparent;\n",
              "      border-right-color: var(--fill-color);\n",
              "      border-top-color: var(--fill-color);\n",
              "    }\n",
              "    60% {\n",
              "      border-color: transparent;\n",
              "      border-right-color: var(--fill-color);\n",
              "    }\n",
              "    80% {\n",
              "      border-color: transparent;\n",
              "      border-right-color: var(--fill-color);\n",
              "      border-bottom-color: var(--fill-color);\n",
              "    }\n",
              "    90% {\n",
              "      border-color: transparent;\n",
              "      border-bottom-color: var(--fill-color);\n",
              "    }\n",
              "  }\n",
              "</style>\n",
              "\n",
              "  <script>\n",
              "    async function quickchart(key) {\n",
              "      const quickchartButtonEl =\n",
              "        document.querySelector('#' + key + ' button');\n",
              "      quickchartButtonEl.disabled = true;  // To prevent multiple clicks.\n",
              "      quickchartButtonEl.classList.add('colab-df-spinner');\n",
              "      try {\n",
              "        const charts = await google.colab.kernel.invokeFunction(\n",
              "            'suggestCharts', [key], {});\n",
              "      } catch (error) {\n",
              "        console.error('Error during call to suggestCharts:', error);\n",
              "      }\n",
              "      quickchartButtonEl.classList.remove('colab-df-spinner');\n",
              "      quickchartButtonEl.classList.add('colab-df-quickchart-complete');\n",
              "    }\n",
              "    (() => {\n",
              "      let quickchartButtonEl =\n",
              "        document.querySelector('#df-33de44bf-08cf-48cb-9a71-de0a998d9849 button');\n",
              "      quickchartButtonEl.style.display =\n",
              "        google.colab.kernel.accessAllowed ? 'block' : 'none';\n",
              "    })();\n",
              "  </script>\n",
              "</div>\n",
              "\n",
              "    </div>\n",
              "  </div>\n"
            ],
            "application/vnd.google.colaboratory.intrinsic+json": {
              "type": "dataframe",
              "summary": "{\n  \"name\": \"dataset\",\n  \"rows\": 3,\n  \"fields\": [\n    {\n      \"column\": \"text\",\n      \"properties\": {\n        \"dtype\": \"object\",\n        \"semantic_type\": \"\",\n        \"description\": \"\"\n      }\n    },\n    {\n      \"column\": \"Es_gracioso\",\n      \"properties\": {\n        \"dtype\": \"number\",\n        \"std\": 0.0,\n        \"min\": 1.0,\n        \"max\": 1.0,\n        \"num_unique_values\": 1,\n        \"samples\": [\n          1.0\n        ],\n        \"semantic_type\": \"\",\n        \"description\": \"\"\n      }\n    },\n    {\n      \"column\": \"promedio_gracioso\",\n      \"properties\": {\n        \"dtype\": \"number\",\n        \"std\": 0,\n        \"min\": 2,\n        \"max\": 3,\n        \"num_unique_values\": 2,\n        \"samples\": [\n          2\n        ],\n        \"semantic_type\": \"\",\n        \"description\": \"\"\n      }\n    }\n  ]\n}"
            }
          },
          "metadata": {},
          "execution_count": 3
        }
      ]
    },
    {
      "cell_type": "markdown",
      "source": [
        "## **3. Partición de los datos**"
      ],
      "metadata": {
        "id": "e6lV04_CGoYt"
      }
    },
    {
      "cell_type": "markdown",
      "source": [
        "Tercero, se realiza una revisión de la distribuión de los datos para verificar un correcto balanceo de las clases."
      ],
      "metadata": {
        "id": "XEMxzJmeGtAT"
      }
    },
    {
      "cell_type": "code",
      "source": [
        "\"\"\"\n",
        "Función para graficar la distribución de los datos\n",
        "\"\"\"\n",
        "def graficar_distribucion(class_counts):\n",
        "    plt.figure(figsize=(6, 4))\n",
        "    ax = sns.barplot(x=class_counts.index, y=class_counts.values, palette=\"Blues_d\", hue=class_counts.index)\n",
        "\n",
        "    # Añadir los números sobre las barras\n",
        "    for p in ax.patches:\n",
        "        ax.annotate(f'{p.get_height():.0f}',\n",
        "                    (p.get_x() + p.get_width() / 2., p.get_height()),\n",
        "                    ha='center', va='center',\n",
        "                    fontsize=12, color='black',\n",
        "                    xytext=(0, 5), textcoords='offset points')\n",
        "\n",
        "    plt.title(\"Distribución de Clases en el Conjunto de Datos\")\n",
        "    plt.xlabel(\"Clase\")\n",
        "    plt.ylabel(\"Número de Muestras\")\n",
        "    plt.xticks(rotation=0)\n",
        "    plt.legend([], [], frameon=False)\n",
        "    plt.show()"
      ],
      "metadata": {
        "id": "zC3FPfITGyG1"
      },
      "execution_count": 4,
      "outputs": []
    },
    {
      "cell_type": "code",
      "source": [
        "# Distribución inicial de los datos de cada clase\n",
        "graficar_distribucion(dataset['promedio_gracioso'].value_counts())"
      ],
      "metadata": {
        "colab": {
          "base_uri": "https://localhost:8080/",
          "height": 411
        },
        "id": "hSAC03x0G0et",
        "outputId": "77ad0d14-05e9-4e6f-caba-7993bffd6fc1"
      },
      "execution_count": 5,
      "outputs": [
        {
          "output_type": "display_data",
          "data": {
            "text/plain": [
              "<Figure size 600x400 with 1 Axes>"
            ],
            "image/png": "[encoded data removed]"
          },
          "metadata": {}
        }
      ]
    },
    {
      "cell_type": "markdown",
      "source": [
        "Se puede observar que hay un gran desbalanceo en las clases, para evitar este desbalanceo, se decidió limitar todas las clases a 2000 datos. Por otro lado, al tener la clase 4 y 5 pocos datos también se decidió por unificarlo con la clase 3, por ende, la clase 3, 4 y 5 corresponden a la misma clase."
      ],
      "metadata": {
        "id": "2Rheb3jYG4mZ"
      }
    },
    {
      "cell_type": "code",
      "source": [
        "# Variable para definir el número máximo de datos en cada clase\n",
        "max_samples_per_class = 2000\n",
        "\n",
        "# Combinar las clases 4 y 5 en la clase 3\n",
        "dataset['promedio_gracioso'] = dataset['promedio_gracioso'].replace({5: 4})\n",
        "dataset['promedio_gracioso'] = dataset['promedio_gracioso'].replace({4: 3})\n",
        "\n",
        "# Crear una lista para almacenar las muestras balanceadas\n",
        "balanced_data = []\n",
        "\n",
        "# Iterar sobre cada clase única en la columna 'promedio_gracioso'\n",
        "for clase, datos_clase in dataset.groupby('promedio_gracioso'):\n",
        "    datos_balanceados = resample(\n",
        "        datos_clase,\n",
        "        replace=False,\n",
        "        n_samples=min(max_samples_per_class, len(datos_clase)),\n",
        "        random_state=2024\n",
        "    )\n",
        "    # Agregar los datos balanceados a la lista\n",
        "    balanced_data.append(datos_balanceados)\n",
        "\n",
        "# Combinar todas las muestras balanceadas en el DataFrame original\n",
        "dataset = pd.concat(balanced_data)\n",
        "\n",
        "# Distribución final de los datos de cada clase\n",
        "graficar_distribucion(dataset['promedio_gracioso'].value_counts())"
      ],
      "metadata": {
        "colab": {
          "base_uri": "https://localhost:8080/",
          "height": 411
        },
        "id": "HB5LsaKOG6ao",
        "outputId": "ccdb4739-9781-4d4d-da10-4009f0939ff4"
      },
      "execution_count": 6,
      "outputs": [
        {
          "output_type": "display_data",
          "data": {
            "text/plain": [
              "<Figure size 600x400 with 1 Axes>"
            ],
            "image/png": "[encoded data removed]"
          },
          "metadata": {}
        }
      ]
    },
    {
      "cell_type": "markdown",
      "source": [
        "Una vez verificado el correcto balanceo de las clase, se hace la partición de los datos dejando un 70% de los datos para entrenamiento, un 15% de los datos para validación y un 15% de los datos para prueba."
      ],
      "metadata": {
        "id": "newCwvPWHDmZ"
      }
    },
    {
      "cell_type": "code",
      "source": [
        "# Divide el dataset original en un cojunto entrenamiento y un conjunto auxliar\n",
        "X_train, X_aux, y_train, y_aux = train_test_split(\n",
        "    dataset['text'],\n",
        "    dataset['promedio_gracioso'],\n",
        "    random_state=2024,\n",
        "    test_size=0.3,\n",
        "    stratify=dataset['promedio_gracioso']\n",
        ")\n",
        "\n",
        "# Divide el conjunto auxiliar en un cojunto de prueba y un cojunto de validación\n",
        "X_val, X_test, y_val, y_test = train_test_split(\n",
        "    X_aux,\n",
        "    y_aux,\n",
        "    random_state=2024,\n",
        "    test_size=0.5,\n",
        "    stratify=y_aux\n",
        ")"
      ],
      "metadata": {
        "id": "MiI8ozMtHHWO"
      },
      "execution_count": 7,
      "outputs": []
    },
    {
      "cell_type": "markdown",
      "source": [
        "Ahora se entrena un modelo Word2Vec con las frases tokenizadas de X_train, generando vectores de 100 dimensiones para cada palabra, considerando un contexto de 5 palabras (window=5) y excluyendo términos con menos de 2 apariciones (min_count=2).\n",
        "\n",
        "Luego, most_similar('gracioso') verifica qué palabras tienen una representación vectorial cercana a \"gracioso\", mostrando relaciones semánticas aprendidas y permitiendo evaluar la calidad del modelo."
      ],
      "metadata": {
        "id": "YJ6K5CBDHLOV"
      }
    },
    {
      "cell_type": "code",
      "source": [
        "# Entrenar el modelo Word2Vec\n",
        "w2v_model = Word2Vec(sentences=X_train, vector_size=100, window=5, min_count=2, workers=4)\n",
        "print(w2v_model.wv.most_similar('gracioso'))"
      ],
      "metadata": {
        "colab": {
          "base_uri": "https://localhost:8080/"
        },
        "id": "jjfdqfF6HO8T",
        "outputId": "24b8d5ce-4026-41cb-870b-c108502d7f96"
      },
      "execution_count": 8,
      "outputs": [
        {
          "output_type": "stream",
          "name": "stdout",
          "text": [
            "[('seguro', 0.9175588488578796), ('comer', 0.9175401329994202), ('siendo', 0.9171186685562134), ('primo', 0.9171159267425537), ('empiezas', 0.9165742993354797), ('tarde', 0.9160284399986267), ('rápida', 0.9156720638275146), ('sos', 0.9156666398048401), ('grande', 0.915579617023468), ('dinero', 0.9154543876647949)]\n"
          ]
        }
      ]
    },
    {
      "cell_type": "markdown",
      "source": [
        "Después creamos una función que transforma textos en vectores promediados utilizando el modelo Word2Vec. La función text_to_vector toma los tokens de un texto y calcula el promedio de sus vectores generados por Word2Vec. Si no hay palabras conocidas en el texto, devuelve un vector de ceros.\n",
        "\n",
        "Luego, aplica esta función a los conjuntos de datos X_train, X_val y X_test, convirtiendo cada texto en un vector de tamaño fijo (100 dimensiones), listo para ser utilizado por el modelo de aprendizaje automático."
      ],
      "metadata": {
        "id": "Un428nTNHR2T"
      }
    },
    {
      "cell_type": "code",
      "source": [
        "\"\"\"\n",
        "Función para generar vectores promediados\n",
        "\"\"\"\n",
        "def text_to_vector(tokens, model, vector_size):\n",
        "    vectors = [model.wv[word] for word in tokens if word in model.wv]\n",
        "    if len(vectors) > 0:\n",
        "        return np.mean(vectors, axis=0)\n",
        "    else:\n",
        "        return np.zeros(vector_size)\n",
        "\n",
        "# Convertir textos a vectores\n",
        "X_train_vec = np.array([text_to_vector(tokens, w2v_model, 100) for tokens in X_train])\n",
        "X_val_vec = np.array([text_to_vector(tokens, w2v_model, 100) for tokens in X_val])\n",
        "X_test_vec = np.array([text_to_vector(tokens, w2v_model, 100) for tokens in X_test])"
      ],
      "metadata": {
        "id": "ExtG1oQMHT99"
      },
      "execution_count": 9,
      "outputs": []
    },
    {
      "cell_type": "markdown",
      "source": [
        "## **4. Construcción y entrenamiento del modelo**"
      ],
      "metadata": {
        "id": "pPInxvblHWG1"
      }
    },
    {
      "cell_type": "markdown",
      "source": [
        "Cuarto, se convierte las etiquetas de las clases (que están en formato numérico) a formato categórico (también conocido como one-hot encoding) para que puedan ser utilizadas en el modelo de clasificación."
      ],
      "metadata": {
        "id": "4pw81zyQIdbt"
      }
    },
    {
      "cell_type": "code",
      "source": [
        "# Convierte las etiquetas a formato categórico\n",
        "num_classes = len(set(y_train))\n",
        "y_train_cat = to_categorical(y_train, num_classes=num_classes)\n",
        "y_val_cat = to_categorical(y_val, num_classes=num_classes)\n",
        "y_test_cat = to_categorical(y_test, num_classes=num_classes)"
      ],
      "metadata": {
        "id": "8JvpcG43IbQv"
      },
      "execution_count": 10,
      "outputs": []
    },
    {
      "cell_type": "markdown",
      "source": [
        "Luego, se realiza la definición del modelo feedforward diseñado para clasificación binaria, priorizando simplicidad y generalización.\n",
        "\n",
        "* **Capa oculta 1:**  Tiene 128 neuronas con activación ReLU y un `Dropout` del 40% para prevenir sobreajuste, aprendiendo patrones iniciales de los datos.\n",
        "\n",
        "* **Capa oculta 2:** Contiene 64 neuronas con ReLU y un `Dropout` del 30%, reduciendo la dimensionalidad y regularizando el aprendizaje.\n",
        "\n",
        "* **Capa de salida:** Una neurona con activación sigmoidal que genera probabilidades para decidir entre las dos clases."
      ],
      "metadata": {
        "id": "2tt-9YYFHYHn"
      }
    },
    {
      "cell_type": "code",
      "source": [
        "model = Sequential([\n",
        "    # Capa oculta 1\n",
        "    Dense(128, input_dim=100, activation='relu'),\n",
        "\n",
        "    # Capa de Dropout\n",
        "    Dropout(0.4),\n",
        "\n",
        "    # Capa oculta 2\n",
        "    Dense(64, activation='relu'),\n",
        "\n",
        "    # Capa de Dropout\n",
        "    Dropout(0.3),\n",
        "\n",
        "    # Capa de salida\n",
        "    Dense(num_classes, activation='softmax')\n",
        "])"
      ],
      "metadata": {
        "id": "P4kZJQj_HYqv",
        "colab": {
          "base_uri": "https://localhost:8080/"
        },
        "outputId": "1b5b9e17-550d-4fdc-8c7b-ce0e4213194d"
      },
      "execution_count": 11,
      "outputs": [
        {
          "output_type": "stream",
          "name": "stderr",
          "text": [
            "/usr/local/lib/python3.10/dist-packages/keras/src/layers/core/dense.py:87: UserWarning: Do not pass an `input_shape`/`input_dim` argument to a layer. When using Sequential models, prefer using an `Input(shape)` object as the first layer in the model instead.\n",
            "  super().__init__(activity_regularizer=activity_regularizer, **kwargs)\n"
          ]
        }
      ]
    },
    {
      "cell_type": "markdown",
      "source": [
        "El modelo se compila con el optimizador Adam, la función de pérdida binary_crossentropy (adecuada para clasificación binaria) y la métrica accuracy para evaluar el rendimiento."
      ],
      "metadata": {
        "id": "fnZM9wHPH8eN"
      }
    },
    {
      "cell_type": "code",
      "source": [
        "model.compile(optimizer=\"adam\", loss=\"binary_crossentropy\", metrics=[\"accuracy\"])\n",
        "model.summary()"
      ],
      "metadata": {
        "colab": {
          "base_uri": "https://localhost:8080/",
          "height": 289
        },
        "id": "CEf1lefiH90_",
        "outputId": "ab402e9c-77a9-4f3c-bb08-0026feaa2078"
      },
      "execution_count": 12,
      "outputs": [
        {
          "output_type": "display_data",
          "data": {
            "text/plain": [
              "\u001b[1mModel: \"sequential\"\u001b[0m\n"
            ],
            "text/html": [
              "<pre style=\"white-space:pre;overflow-x:auto;line-height:normal;font-family:Menlo,'DejaVu Sans Mono',consolas,'Courier New',monospace\"><span style=\"font-weight: bold\">Model: \"sequential\"</span>\n",
              "</pre>\n"
            ]
          },
          "metadata": {}
        },
        {
          "output_type": "display_data",
          "data": {
            "text/plain": [
              "┏━━━━━━━━━━━━━━━━━━━━━━━━━━━━━━━━━━━━━━┳━━━━━━━━━━━━━━━━━━━━━━━━━━━━━┳━━━━━━━━━━━━━━━━━┓\n",
              "┃\u001b[1m \u001b[0m\u001b[1mLayer (type)                        \u001b[0m\u001b[1m \u001b[0m┃\u001b[1m \u001b[0m\u001b[1mOutput Shape               \u001b[0m\u001b[1m \u001b[0m┃\u001b[1m \u001b[0m\u001b[1m        Param #\u001b[0m\u001b[1m \u001b[0m┃\n",
              "┡━━━━━━━━━━━━━━━━━━━━━━━━━━━━━━━━━━━━━━╇━━━━━━━━━━━━━━━━━━━━━━━━━━━━━╇━━━━━━━━━━━━━━━━━┩\n",
              "│ dense (\u001b[38;5;33mDense\u001b[0m)                        │ (\u001b[38;5;45mNone\u001b[0m, \u001b[38;5;34m128\u001b[0m)                 │          \u001b[38;5;34m12,928\u001b[0m │\n",
              "├──────────────────────────────────────┼─────────────────────────────┼─────────────────┤\n",
              "│ dropout (\u001b[38;5;33mDropout\u001b[0m)                    │ (\u001b[38;5;45mNone\u001b[0m, \u001b[38;5;34m128\u001b[0m)                 │               \u001b[38;5;34m0\u001b[0m │\n",
              "├──────────────────────────────────────┼─────────────────────────────┼─────────────────┤\n",
              "│ dense_1 (\u001b[38;5;33mDense\u001b[0m)                      │ (\u001b[38;5;45mNone\u001b[0m, \u001b[38;5;34m64\u001b[0m)                  │           \u001b[38;5;34m8,256\u001b[0m │\n",
              "├──────────────────────────────────────┼─────────────────────────────┼─────────────────┤\n",
              "│ dropout_1 (\u001b[38;5;33mDropout\u001b[0m)                  │ (\u001b[38;5;45mNone\u001b[0m, \u001b[38;5;34m64\u001b[0m)                  │               \u001b[38;5;34m0\u001b[0m │\n",
              "├──────────────────────────────────────┼─────────────────────────────┼─────────────────┤\n",
              "│ dense_2 (\u001b[38;5;33mDense\u001b[0m)                      │ (\u001b[38;5;45mNone\u001b[0m, \u001b[38;5;34m4\u001b[0m)                   │             \u001b[38;5;34m260\u001b[0m │\n",
              "└──────────────────────────────────────┴─────────────────────────────┴─────────────────┘\n"
            ],
            "text/html": [
              "<pre style=\"white-space:pre;overflow-x:auto;line-height:normal;font-family:Menlo,'DejaVu Sans Mono',consolas,'Courier New',monospace\">┏━━━━━━━━━━━━━━━━━━━━━━━━━━━━━━━━━━━━━━┳━━━━━━━━━━━━━━━━━━━━━━━━━━━━━┳━━━━━━━━━━━━━━━━━┓\n",
              "┃<span style=\"font-weight: bold\"> Layer (type)                         </span>┃<span style=\"font-weight: bold\"> Output Shape                </span>┃<span style=\"font-weight: bold\">         Param # </span>┃\n",
              "┡━━━━━━━━━━━━━━━━━━━━━━━━━━━━━━━━━━━━━━╇━━━━━━━━━━━━━━━━━━━━━━━━━━━━━╇━━━━━━━━━━━━━━━━━┩\n",
              "│ dense (<span style=\"color: #0087ff; text-decoration-color: #0087ff\">Dense</span>)                        │ (<span style=\"color: #00d7ff; text-decoration-color: #00d7ff\">None</span>, <span style=\"color: #00af00; text-decoration-color: #00af00\">128</span>)                 │          <span style=\"color: #00af00; text-decoration-color: #00af00\">12,928</span> │\n",
              "├──────────────────────────────────────┼─────────────────────────────┼─────────────────┤\n",
              "│ dropout (<span style=\"color: #0087ff; text-decoration-color: #0087ff\">Dropout</span>)                    │ (<span style=\"color: #00d7ff; text-decoration-color: #00d7ff\">None</span>, <span style=\"color: #00af00; text-decoration-color: #00af00\">128</span>)                 │               <span style=\"color: #00af00; text-decoration-color: #00af00\">0</span> │\n",
              "├──────────────────────────────────────┼─────────────────────────────┼─────────────────┤\n",
              "│ dense_1 (<span style=\"color: #0087ff; text-decoration-color: #0087ff\">Dense</span>)                      │ (<span style=\"color: #00d7ff; text-decoration-color: #00d7ff\">None</span>, <span style=\"color: #00af00; text-decoration-color: #00af00\">64</span>)                  │           <span style=\"color: #00af00; text-decoration-color: #00af00\">8,256</span> │\n",
              "├──────────────────────────────────────┼─────────────────────────────┼─────────────────┤\n",
              "│ dropout_1 (<span style=\"color: #0087ff; text-decoration-color: #0087ff\">Dropout</span>)                  │ (<span style=\"color: #00d7ff; text-decoration-color: #00d7ff\">None</span>, <span style=\"color: #00af00; text-decoration-color: #00af00\">64</span>)                  │               <span style=\"color: #00af00; text-decoration-color: #00af00\">0</span> │\n",
              "├──────────────────────────────────────┼─────────────────────────────┼─────────────────┤\n",
              "│ dense_2 (<span style=\"color: #0087ff; text-decoration-color: #0087ff\">Dense</span>)                      │ (<span style=\"color: #00d7ff; text-decoration-color: #00d7ff\">None</span>, <span style=\"color: #00af00; text-decoration-color: #00af00\">4</span>)                   │             <span style=\"color: #00af00; text-decoration-color: #00af00\">260</span> │\n",
              "└──────────────────────────────────────┴─────────────────────────────┴─────────────────┘\n",
              "</pre>\n"
            ]
          },
          "metadata": {}
        },
        {
          "output_type": "display_data",
          "data": {
            "text/plain": [
              "\u001b[1m Total params: \u001b[0m\u001b[38;5;34m21,444\u001b[0m (83.77 KB)\n"
            ],
            "text/html": [
              "<pre style=\"white-space:pre;overflow-x:auto;line-height:normal;font-family:Menlo,'DejaVu Sans Mono',consolas,'Courier New',monospace\"><span style=\"font-weight: bold\"> Total params: </span><span style=\"color: #00af00; text-decoration-color: #00af00\">21,444</span> (83.77 KB)\n",
              "</pre>\n"
            ]
          },
          "metadata": {}
        },
        {
          "output_type": "display_data",
          "data": {
            "text/plain": [
              "\u001b[1m Trainable params: \u001b[0m\u001b[38;5;34m21,444\u001b[0m (83.77 KB)\n"
            ],
            "text/html": [
              "<pre style=\"white-space:pre;overflow-x:auto;line-height:normal;font-family:Menlo,'DejaVu Sans Mono',consolas,'Courier New',monospace\"><span style=\"font-weight: bold\"> Trainable params: </span><span style=\"color: #00af00; text-decoration-color: #00af00\">21,444</span> (83.77 KB)\n",
              "</pre>\n"
            ]
          },
          "metadata": {}
        },
        {
          "output_type": "display_data",
          "data": {
            "text/plain": [
              "\u001b[1m Non-trainable params: \u001b[0m\u001b[38;5;34m0\u001b[0m (0.00 B)\n"
            ],
            "text/html": [
              "<pre style=\"white-space:pre;overflow-x:auto;line-height:normal;font-family:Menlo,'DejaVu Sans Mono',consolas,'Courier New',monospace\"><span style=\"font-weight: bold\"> Non-trainable params: </span><span style=\"color: #00af00; text-decoration-color: #00af00\">0</span> (0.00 B)\n",
              "</pre>\n"
            ]
          },
          "metadata": {}
        }
      ]
    },
    {
      "cell_type": "markdown",
      "source": [
        "Se definen los siguiente callbacks para el proceso de entrenamiento:\n",
        "\n",
        "* **EarlyStopping:** Detiene el entrenamiento si la pérdida en validación (val_loss) no mejora después de 20 épocas.\n",
        "\n",
        "* **ModelCheckpoint:** Guarda el mejor modelo basado en la pérdida mínima en validación (val_loss) en un archivo con el nombre especificado."
      ],
      "metadata": {
        "id": "0D3VxOj6IBjJ"
      }
    },
    {
      "cell_type": "code",
      "source": [
        "\"\"\"\n",
        "Función para definir dos callbacks para el entranmiento (EarlyStopping y ModelCheckpoint)\n",
        "\"\"\"\n",
        "def callbacks_model():\n",
        "  my_callbacks = [\n",
        "      tf.keras.callbacks.EarlyStopping(patience=20, monitor=\"val_loss\"),\n",
        "      tf.keras.callbacks.ModelCheckpoint(\"model.keras\", monitor=\"val_loss\", mode=\"min\", save_best_only=True, verbose=1)\n",
        "  ]\n",
        "\n",
        "  return my_callbacks"
      ],
      "metadata": {
        "id": "8EvGeY8jIC4Y"
      },
      "execution_count": 13,
      "outputs": []
    },
    {
      "cell_type": "markdown",
      "source": [
        "Procedemos con el entrenamiento del modelo, definimos 100 epochs, un batch size de 32 y usamos la función de callback que definimos anteriormente."
      ],
      "metadata": {
        "id": "_k8Oh5WpIEQN"
      }
    },
    {
      "cell_type": "code",
      "source": [
        "history = model.fit(\n",
        "    X_train_vec, np.array(y_train_cat),\n",
        "    validation_data=(X_val_vec, y_val_cat),\n",
        "    epochs=100,\n",
        "    batch_size=32,\n",
        "    callbacks=callbacks_model()\n",
        ")"
      ],
      "metadata": {
        "colab": {
          "base_uri": "https://localhost:8080/"
        },
        "id": "RVpsl_riIFb1",
        "outputId": "43597737-5c55-4653-c893-c7a9c6a4750d"
      },
      "execution_count": 14,
      "outputs": [
        {
          "output_type": "stream",
          "name": "stdout",
          "text": [
            "Epoch 1/100\n",
            "\u001b[1m154/175\u001b[0m \u001b[32m━━━━━━━━━━━━━━━━━\u001b[0m\u001b[37m━━━\u001b[0m \u001b[1m0s\u001b[0m 2ms/step - accuracy: 0.2479 - loss: 0.6041\n",
            "Epoch 1: val_loss improved from inf to 0.56272, saving model to model.keras\n",
            "\u001b[1m175/175\u001b[0m \u001b[32m━━━━━━━━━━━━━━━━━━━━\u001b[0m\u001b[37m\u001b[0m \u001b[1m2s\u001b[0m 3ms/step - accuracy: 0.2482 - loss: 0.6017 - val_accuracy: 0.2911 - val_loss: 0.5627\n",
            "Epoch 2/100\n",
            "\u001b[1m145/175\u001b[0m \u001b[32m━━━━━━━━━━━━━━━━\u001b[0m\u001b[37m━━━━\u001b[0m \u001b[1m0s\u001b[0m 2ms/step - accuracy: 0.2598 - loss: 0.5680\n",
            "Epoch 2: val_loss improved from 0.56272 to 0.56008, saving model to model.keras\n",
            "\u001b[1m175/175\u001b[0m \u001b[32m━━━━━━━━━━━━━━━━━━━━\u001b[0m\u001b[37m\u001b[0m \u001b[1m0s\u001b[0m 2ms/step - accuracy: 0.2606 - loss: 0.5679 - val_accuracy: 0.2836 - val_loss: 0.5601\n",
            "Epoch 3/100\n",
            "\u001b[1m170/175\u001b[0m \u001b[32m━━━━━━━━━━━━━━━━━━━\u001b[0m\u001b[37m━\u001b[0m \u001b[1m0s\u001b[0m 2ms/step - accuracy: 0.2753 - loss: 0.5650\n",
            "Epoch 3: val_loss improved from 0.56008 to 0.55788, saving model to model.keras\n",
            "\u001b[1m175/175\u001b[0m \u001b[32m━━━━━━━━━━━━━━━━━━━━\u001b[0m\u001b[37m\u001b[0m \u001b[1m0s\u001b[0m 2ms/step - accuracy: 0.2753 - loss: 0.5650 - val_accuracy: 0.2794 - val_loss: 0.5579\n",
            "Epoch 4/100\n",
            "\u001b[1m172/175\u001b[0m \u001b[32m━━━━━━━━━━━━━━━━━━━\u001b[0m\u001b[37m━\u001b[0m \u001b[1m0s\u001b[0m 2ms/step - accuracy: 0.2714 - loss: 0.5633\n",
            "Epoch 4: val_loss improved from 0.55788 to 0.55609, saving model to model.keras\n",
            "\u001b[1m175/175\u001b[0m \u001b[32m━━━━━━━━━━━━━━━━━━━━\u001b[0m\u001b[37m\u001b[0m \u001b[1m1s\u001b[0m 2ms/step - accuracy: 0.2714 - loss: 0.5633 - val_accuracy: 0.2669 - val_loss: 0.5561\n",
            "Epoch 5/100\n",
            "\u001b[1m144/175\u001b[0m \u001b[32m━━━━━━━━━━━━━━━━\u001b[0m\u001b[37m━━━━\u001b[0m \u001b[1m0s\u001b[0m 2ms/step - accuracy: 0.2754 - loss: 0.5604\n",
            "Epoch 5: val_loss did not improve from 0.55609\n",
            "\u001b[1m175/175\u001b[0m \u001b[32m━━━━━━━━━━━━━━━━━━━━\u001b[0m\u001b[37m\u001b[0m \u001b[1m0s\u001b[0m 2ms/step - accuracy: 0.2750 - loss: 0.5605 - val_accuracy: 0.2636 - val_loss: 0.5567\n",
            "Epoch 6/100\n",
            "\u001b[1m145/175\u001b[0m \u001b[32m━━━━━━━━━━━━━━━━\u001b[0m\u001b[37m━━━━\u001b[0m \u001b[1m0s\u001b[0m 2ms/step - accuracy: 0.2740 - loss: 0.5609\n",
            "Epoch 6: val_loss improved from 0.55609 to 0.55491, saving model to model.keras\n",
            "\u001b[1m175/175\u001b[0m \u001b[32m━━━━━━━━━━━━━━━━━━━━\u001b[0m\u001b[37m\u001b[0m \u001b[1m1s\u001b[0m 2ms/step - accuracy: 0.2738 - loss: 0.5609 - val_accuracy: 0.2836 - val_loss: 0.5549\n",
            "Epoch 7/100\n",
            "\u001b[1m155/175\u001b[0m \u001b[32m━━━━━━━━━━━━━━━━━\u001b[0m\u001b[37m━━━\u001b[0m \u001b[1m0s\u001b[0m 2ms/step - accuracy: 0.2681 - loss: 0.5613\n",
            "Epoch 7: val_loss improved from 0.55491 to 0.55415, saving model to model.keras\n",
            "\u001b[1m175/175\u001b[0m \u001b[32m━━━━━━━━━━━━━━━━━━━━\u001b[0m\u001b[37m\u001b[0m \u001b[1m1s\u001b[0m 2ms/step - accuracy: 0.2684 - loss: 0.5611 - val_accuracy: 0.2786 - val_loss: 0.5541\n",
            "Epoch 8/100\n",
            "\u001b[1m158/175\u001b[0m \u001b[32m━━━━━━━━━━━━━━━━━━\u001b[0m\u001b[37m━━\u001b[0m \u001b[1m0s\u001b[0m 2ms/step - accuracy: 0.2756 - loss: 0.5592\n",
            "Epoch 8: val_loss improved from 0.55415 to 0.55268, saving model to model.keras\n",
            "\u001b[1m175/175\u001b[0m \u001b[32m━━━━━━━━━━━━━━━━━━━━\u001b[0m\u001b[37m\u001b[0m \u001b[1m1s\u001b[0m 3ms/step - accuracy: 0.2759 - loss: 0.5592 - val_accuracy: 0.3194 - val_loss: 0.5527\n",
            "Epoch 9/100\n",
            "\u001b[1m162/175\u001b[0m \u001b[32m━━━━━━━━━━━━━━━━━━\u001b[0m\u001b[37m━━\u001b[0m \u001b[1m0s\u001b[0m 3ms/step - accuracy: 0.2753 - loss: 0.5573\n",
            "Epoch 9: val_loss improved from 0.55268 to 0.55176, saving model to model.keras\n",
            "\u001b[1m175/175\u001b[0m \u001b[32m━━━━━━━━━━━━━━━━━━━━\u001b[0m\u001b[37m\u001b[0m \u001b[1m1s\u001b[0m 4ms/step - accuracy: 0.2756 - loss: 0.5574 - val_accuracy: 0.3044 - val_loss: 0.5518\n",
            "Epoch 10/100\n",
            "\u001b[1m166/175\u001b[0m \u001b[32m━━━━━━━━━━━━━━━━━━\u001b[0m\u001b[37m━━\u001b[0m \u001b[1m0s\u001b[0m 2ms/step - accuracy: 0.2837 - loss: 0.5565\n",
            "Epoch 10: val_loss improved from 0.55176 to 0.55068, saving model to model.keras\n",
            "\u001b[1m175/175\u001b[0m \u001b[32m━━━━━━━━━━━━━━━━━━━━\u001b[0m\u001b[37m\u001b[0m \u001b[1m1s\u001b[0m 3ms/step - accuracy: 0.2834 - loss: 0.5566 - val_accuracy: 0.3044 - val_loss: 0.5507\n",
            "Epoch 11/100\n",
            "\u001b[1m160/175\u001b[0m \u001b[32m━━━━━━━━━━━━━━━━━━\u001b[0m\u001b[37m━━\u001b[0m \u001b[1m0s\u001b[0m 3ms/step - accuracy: 0.2868 - loss: 0.5550\n",
            "Epoch 11: val_loss did not improve from 0.55068\n",
            "\u001b[1m175/175\u001b[0m \u001b[32m━━━━━━━━━━━━━━━━━━━━\u001b[0m\u001b[37m\u001b[0m \u001b[1m1s\u001b[0m 4ms/step - accuracy: 0.2870 - loss: 0.5551 - val_accuracy: 0.2794 - val_loss: 0.5516\n",
            "Epoch 12/100\n",
            "\u001b[1m168/175\u001b[0m \u001b[32m━━━━━━━━━━━━━━━━━━━\u001b[0m\u001b[37m━\u001b[0m \u001b[1m0s\u001b[0m 3ms/step - accuracy: 0.2908 - loss: 0.5528\n",
            "Epoch 12: val_loss improved from 0.55068 to 0.54812, saving model to model.keras\n",
            "\u001b[1m175/175\u001b[0m \u001b[32m━━━━━━━━━━━━━━━━━━━━\u001b[0m\u001b[37m\u001b[0m \u001b[1m1s\u001b[0m 4ms/step - accuracy: 0.2907 - loss: 0.5529 - val_accuracy: 0.3386 - val_loss: 0.5481\n",
            "Epoch 13/100\n",
            "\u001b[1m171/175\u001b[0m \u001b[32m━━━━━━━━━━━━━━━━━━━\u001b[0m\u001b[37m━\u001b[0m \u001b[1m0s\u001b[0m 2ms/step - accuracy: 0.2869 - loss: 0.5554\n",
            "Epoch 13: val_loss improved from 0.54812 to 0.54767, saving model to model.keras\n",
            "\u001b[1m175/175\u001b[0m \u001b[32m━━━━━━━━━━━━━━━━━━━━\u001b[0m\u001b[37m\u001b[0m \u001b[1m1s\u001b[0m 3ms/step - accuracy: 0.2870 - loss: 0.5554 - val_accuracy: 0.3028 - val_loss: 0.5477\n",
            "Epoch 14/100\n",
            "\u001b[1m152/175\u001b[0m \u001b[32m━━━━━━━━━━━━━━━━━\u001b[0m\u001b[37m━━━\u001b[0m \u001b[1m0s\u001b[0m 2ms/step - accuracy: 0.3089 - loss: 0.5502\n",
            "Epoch 14: val_loss improved from 0.54767 to 0.54640, saving model to model.keras\n",
            "\u001b[1m175/175\u001b[0m \u001b[32m━━━━━━━━━━━━━━━━━━━━\u001b[0m\u001b[37m\u001b[0m \u001b[1m1s\u001b[0m 2ms/step - accuracy: 0.3076 - loss: 0.5505 - val_accuracy: 0.3328 - val_loss: 0.5464\n",
            "Epoch 15/100\n",
            "\u001b[1m153/175\u001b[0m \u001b[32m━━━━━━━━━━━━━━━━━\u001b[0m\u001b[37m━━━\u001b[0m \u001b[1m0s\u001b[0m 2ms/step - accuracy: 0.2971 - loss: 0.5523\n",
            "Epoch 15: val_loss did not improve from 0.54640\n",
            "\u001b[1m175/175\u001b[0m \u001b[32m━━━━━━━━━━━━━━━━━━━━\u001b[0m\u001b[37m\u001b[0m \u001b[1m1s\u001b[0m 2ms/step - accuracy: 0.2973 - loss: 0.5524 - val_accuracy: 0.2944 - val_loss: 0.5469\n",
            "Epoch 16/100\n",
            "\u001b[1m168/175\u001b[0m \u001b[32m━━━━━━━━━━━━━━━━━━━\u001b[0m\u001b[37m━\u001b[0m \u001b[1m0s\u001b[0m 2ms/step - accuracy: 0.2834 - loss: 0.5561\n",
            "Epoch 16: val_loss improved from 0.54640 to 0.54469, saving model to model.keras\n",
            "\u001b[1m175/175\u001b[0m \u001b[32m━━━━━━━━━━━━━━━━━━━━\u001b[0m\u001b[37m\u001b[0m \u001b[1m1s\u001b[0m 2ms/step - accuracy: 0.2835 - loss: 0.5560 - val_accuracy: 0.3261 - val_loss: 0.5447\n",
            "Epoch 17/100\n",
            "\u001b[1m149/175\u001b[0m \u001b[32m━━━━━━━━━━━━━━━━━\u001b[0m\u001b[37m━━━\u001b[0m \u001b[1m0s\u001b[0m 2ms/step - accuracy: 0.2844 - loss: 0.5540\n",
            "Epoch 17: val_loss improved from 0.54469 to 0.54322, saving model to model.keras\n",
            "\u001b[1m175/175\u001b[0m \u001b[32m━━━━━━━━━━━━━━━━━━━━\u001b[0m\u001b[37m\u001b[0m \u001b[1m1s\u001b[0m 2ms/step - accuracy: 0.2859 - loss: 0.5538 - val_accuracy: 0.3219 - val_loss: 0.5432\n",
            "Epoch 18/100\n",
            "\u001b[1m151/175\u001b[0m \u001b[32m━━━━━━━━━━━━━━━━━\u001b[0m\u001b[37m━━━\u001b[0m \u001b[1m0s\u001b[0m 2ms/step - accuracy: 0.2992 - loss: 0.5494\n",
            "Epoch 18: val_loss improved from 0.54322 to 0.54220, saving model to model.keras\n",
            "\u001b[1m175/175\u001b[0m \u001b[32m━━━━━━━━━━━━━━━━━━━━\u001b[0m\u001b[37m\u001b[0m \u001b[1m1s\u001b[0m 2ms/step - accuracy: 0.2988 - loss: 0.5495 - val_accuracy: 0.3269 - val_loss: 0.5422\n",
            "Epoch 19/100\n",
            "\u001b[1m151/175\u001b[0m \u001b[32m━━━━━━━━━━━━━━━━━\u001b[0m\u001b[37m━━━\u001b[0m \u001b[1m0s\u001b[0m 2ms/step - accuracy: 0.2870 - loss: 0.5508\n",
            "Epoch 19: val_loss did not improve from 0.54220\n",
            "\u001b[1m175/175\u001b[0m \u001b[32m━━━━━━━━━━━━━━━━━━━━\u001b[0m\u001b[37m\u001b[0m \u001b[1m0s\u001b[0m 2ms/step - accuracy: 0.2881 - loss: 0.5510 - val_accuracy: 0.3203 - val_loss: 0.5424\n",
            "Epoch 20/100\n",
            "\u001b[1m165/175\u001b[0m \u001b[32m━━━━━━━━━━━━━━━━━━\u001b[0m\u001b[37m━━\u001b[0m \u001b[1m0s\u001b[0m 2ms/step - accuracy: 0.3130 - loss: 0.5505\n",
            "Epoch 20: val_loss improved from 0.54220 to 0.54204, saving model to model.keras\n",
            "\u001b[1m175/175\u001b[0m \u001b[32m━━━━━━━━━━━━━━━━━━━━\u001b[0m\u001b[37m\u001b[0m \u001b[1m0s\u001b[0m 2ms/step - accuracy: 0.3125 - loss: 0.5505 - val_accuracy: 0.3111 - val_loss: 0.5420\n",
            "Epoch 21/100\n",
            "\u001b[1m152/175\u001b[0m \u001b[32m━━━━━━━━━━━━━━━━━\u001b[0m\u001b[37m━━━\u001b[0m \u001b[1m0s\u001b[0m 2ms/step - accuracy: 0.3114 - loss: 0.5502\n",
            "Epoch 21: val_loss improved from 0.54204 to 0.54153, saving model to model.keras\n",
            "\u001b[1m175/175\u001b[0m \u001b[32m━━━━━━━━━━━━━━━━━━━━\u001b[0m\u001b[37m\u001b[0m \u001b[1m0s\u001b[0m 2ms/step - accuracy: 0.3115 - loss: 0.5502 - val_accuracy: 0.3328 - val_loss: 0.5415\n",
            "Epoch 22/100\n",
            "\u001b[1m164/175\u001b[0m \u001b[32m━━━━━━━━━━━━━━━━━━\u001b[0m\u001b[37m━━\u001b[0m \u001b[1m0s\u001b[0m 2ms/step - accuracy: 0.2956 - loss: 0.5492\n",
            "Epoch 22: val_loss did not improve from 0.54153\n",
            "\u001b[1m175/175\u001b[0m \u001b[32m━━━━━━━━━━━━━━━━━━━━\u001b[0m\u001b[37m\u001b[0m \u001b[1m0s\u001b[0m 2ms/step - accuracy: 0.2962 - loss: 0.5493 - val_accuracy: 0.3161 - val_loss: 0.5416\n",
            "Epoch 23/100\n",
            "\u001b[1m153/175\u001b[0m \u001b[32m━━━━━━━━━━━━━━━━━\u001b[0m\u001b[37m━━━\u001b[0m \u001b[1m0s\u001b[0m 2ms/step - accuracy: 0.3082 - loss: 0.5467\n",
            "Epoch 23: val_loss improved from 0.54153 to 0.54071, saving model to model.keras\n",
            "\u001b[1m175/175\u001b[0m \u001b[32m━━━━━━━━━━━━━━━━━━━━\u001b[0m\u001b[37m\u001b[0m \u001b[1m1s\u001b[0m 2ms/step - accuracy: 0.3081 - loss: 0.5469 - val_accuracy: 0.3203 - val_loss: 0.5407\n",
            "Epoch 24/100\n",
            "\u001b[1m161/175\u001b[0m \u001b[32m━━━━━━━━━━━━━━━━━━\u001b[0m\u001b[37m━━\u001b[0m \u001b[1m0s\u001b[0m 2ms/step - accuracy: 0.2944 - loss: 0.5479\n",
            "Epoch 24: val_loss did not improve from 0.54071\n",
            "\u001b[1m175/175\u001b[0m \u001b[32m━━━━━━━━━━━━━━━━━━━━\u001b[0m\u001b[37m\u001b[0m \u001b[1m0s\u001b[0m 2ms/step - accuracy: 0.2947 - loss: 0.5479 - val_accuracy: 0.3153 - val_loss: 0.5421\n",
            "Epoch 25/100\n",
            "\u001b[1m151/175\u001b[0m \u001b[32m━━━━━━━━━━━━━━━━━\u001b[0m\u001b[37m━━━\u001b[0m \u001b[1m0s\u001b[0m 2ms/step - accuracy: 0.3112 - loss: 0.5481\n",
            "Epoch 25: val_loss did not improve from 0.54071\n",
            "\u001b[1m175/175\u001b[0m \u001b[32m━━━━━━━━━━━━━━━━━━━━\u001b[0m\u001b[37m\u001b[0m \u001b[1m1s\u001b[0m 2ms/step - accuracy: 0.3108 - loss: 0.5482 - val_accuracy: 0.3228 - val_loss: 0.5411\n",
            "Epoch 26/100\n",
            "\u001b[1m150/175\u001b[0m \u001b[32m━━━━━━━━━━━━━━━━━\u001b[0m\u001b[37m━━━\u001b[0m \u001b[1m0s\u001b[0m 2ms/step - accuracy: 0.2976 - loss: 0.5483\n",
            "Epoch 26: val_loss improved from 0.54071 to 0.53946, saving model to model.keras\n",
            "\u001b[1m175/175\u001b[0m \u001b[32m━━━━━━━━━━━━━━━━━━━━\u001b[0m\u001b[37m\u001b[0m \u001b[1m1s\u001b[0m 2ms/step - accuracy: 0.2977 - loss: 0.5483 - val_accuracy: 0.3253 - val_loss: 0.5395\n",
            "Epoch 27/100\n",
            "\u001b[1m155/175\u001b[0m \u001b[32m━━━━━━━━━━━━━━━━━\u001b[0m\u001b[37m━━━\u001b[0m \u001b[1m0s\u001b[0m 2ms/step - accuracy: 0.2974 - loss: 0.5486\n",
            "Epoch 27: val_loss improved from 0.53946 to 0.53844, saving model to model.keras\n",
            "\u001b[1m175/175\u001b[0m \u001b[32m━━━━━━━━━━━━━━━━━━━━\u001b[0m\u001b[37m\u001b[0m \u001b[1m0s\u001b[0m 2ms/step - accuracy: 0.2984 - loss: 0.5485 - val_accuracy: 0.3369 - val_loss: 0.5384\n",
            "Epoch 28/100\n",
            "\u001b[1m161/175\u001b[0m \u001b[32m━━━━━━━━━━━━━━━━━━\u001b[0m\u001b[37m━━\u001b[0m \u001b[1m0s\u001b[0m 2ms/step - accuracy: 0.3166 - loss: 0.5455\n",
            "Epoch 28: val_loss did not improve from 0.53844\n",
            "\u001b[1m175/175\u001b[0m \u001b[32m━━━━━━━━━━━━━━━━━━━━\u001b[0m\u001b[37m\u001b[0m \u001b[1m0s\u001b[0m 2ms/step - accuracy: 0.3157 - loss: 0.5456 - val_accuracy: 0.3044 - val_loss: 0.5406\n",
            "Epoch 29/100\n",
            "\u001b[1m160/175\u001b[0m \u001b[32m━━━━━━━━━━━━━━━━━━\u001b[0m\u001b[37m━━\u001b[0m \u001b[1m0s\u001b[0m 2ms/step - accuracy: 0.3178 - loss: 0.5466\n",
            "Epoch 29: val_loss did not improve from 0.53844\n",
            "\u001b[1m175/175\u001b[0m \u001b[32m━━━━━━━━━━━━━━━━━━━━\u001b[0m\u001b[37m\u001b[0m \u001b[1m0s\u001b[0m 2ms/step - accuracy: 0.3169 - loss: 0.5466 - val_accuracy: 0.3161 - val_loss: 0.5411\n",
            "Epoch 30/100\n",
            "\u001b[1m173/175\u001b[0m \u001b[32m━━━━━━━━━━━━━━━━━━━\u001b[0m\u001b[37m━\u001b[0m \u001b[1m0s\u001b[0m 2ms/step - accuracy: 0.3068 - loss: 0.5489\n",
            "Epoch 30: val_loss did not improve from 0.53844\n",
            "\u001b[1m175/175\u001b[0m \u001b[32m━━━━━━━━━━━━━━━━━━━━\u001b[0m\u001b[37m\u001b[0m \u001b[1m1s\u001b[0m 2ms/step - accuracy: 0.3068 - loss: 0.5489 - val_accuracy: 0.3278 - val_loss: 0.5390\n",
            "Epoch 31/100\n",
            "\u001b[1m153/175\u001b[0m \u001b[32m━━━━━━━━━━━━━━━━━\u001b[0m\u001b[37m━━━\u001b[0m \u001b[1m0s\u001b[0m 2ms/step - accuracy: 0.3053 - loss: 0.5466\n",
            "Epoch 31: val_loss improved from 0.53844 to 0.53808, saving model to model.keras\n",
            "\u001b[1m175/175\u001b[0m \u001b[32m━━━━━━━━━━━━━━━━━━━━\u001b[0m\u001b[37m\u001b[0m \u001b[1m0s\u001b[0m 2ms/step - accuracy: 0.3067 - loss: 0.5465 - val_accuracy: 0.3436 - val_loss: 0.5381\n",
            "Epoch 32/100\n",
            "\u001b[1m158/175\u001b[0m \u001b[32m━━━━━━━━━━━━━━━━━━\u001b[0m\u001b[37m━━\u001b[0m \u001b[1m0s\u001b[0m 2ms/step - accuracy: 0.3144 - loss: 0.5487\n",
            "Epoch 32: val_loss improved from 0.53808 to 0.53772, saving model to model.keras\n",
            "\u001b[1m175/175\u001b[0m \u001b[32m━━━━━━━━━━━━━━━━━━━━\u001b[0m\u001b[37m\u001b[0m \u001b[1m1s\u001b[0m 3ms/step - accuracy: 0.3135 - loss: 0.5486 - val_accuracy: 0.3420 - val_loss: 0.5377\n",
            "Epoch 33/100\n",
            "\u001b[1m162/175\u001b[0m \u001b[32m━━━━━━━━━━━━━━━━━━\u001b[0m\u001b[37m━━\u001b[0m \u001b[1m0s\u001b[0m 3ms/step - accuracy: 0.2993 - loss: 0.5447\n",
            "Epoch 33: val_loss did not improve from 0.53772\n",
            "\u001b[1m175/175\u001b[0m \u001b[32m━━━━━━━━━━━━━━━━━━━━\u001b[0m\u001b[37m\u001b[0m \u001b[1m1s\u001b[0m 3ms/step - accuracy: 0.2997 - loss: 0.5448 - val_accuracy: 0.3194 - val_loss: 0.5389\n",
            "Epoch 34/100\n",
            "\u001b[1m172/175\u001b[0m \u001b[32m━━━━━━━━━━━━━━━━━━━\u001b[0m\u001b[37m━\u001b[0m \u001b[1m0s\u001b[0m 3ms/step - accuracy: 0.3107 - loss: 0.5455\n",
            "Epoch 34: val_loss did not improve from 0.53772\n",
            "\u001b[1m175/175\u001b[0m \u001b[32m━━━━━━━━━━━━━━━━━━━━\u001b[0m\u001b[37m\u001b[0m \u001b[1m1s\u001b[0m 3ms/step - accuracy: 0.3106 - loss: 0.5456 - val_accuracy: 0.3311 - val_loss: 0.5394\n",
            "Epoch 35/100\n",
            "\u001b[1m169/175\u001b[0m \u001b[32m━━━━━━━━━━━━━━━━━━━\u001b[0m\u001b[37m━\u001b[0m \u001b[1m0s\u001b[0m 3ms/step - accuracy: 0.3158 - loss: 0.5467\n",
            "Epoch 35: val_loss improved from 0.53772 to 0.53731, saving model to model.keras\n",
            "\u001b[1m175/175\u001b[0m \u001b[32m━━━━━━━━━━━━━━━━━━━━\u001b[0m\u001b[37m\u001b[0m \u001b[1m1s\u001b[0m 4ms/step - accuracy: 0.3158 - loss: 0.5467 - val_accuracy: 0.3394 - val_loss: 0.5373\n",
            "Epoch 36/100\n",
            "\u001b[1m156/175\u001b[0m \u001b[32m━━━━━━━━━━━━━━━━━\u001b[0m\u001b[37m━━━\u001b[0m \u001b[1m0s\u001b[0m 2ms/step - accuracy: 0.2942 - loss: 0.5489\n",
            "Epoch 36: val_loss did not improve from 0.53731\n",
            "\u001b[1m175/175\u001b[0m \u001b[32m━━━━━━━━━━━━━━━━━━━━\u001b[0m\u001b[37m\u001b[0m \u001b[1m1s\u001b[0m 3ms/step - accuracy: 0.2954 - loss: 0.5486 - val_accuracy: 0.3128 - val_loss: 0.5395\n",
            "Epoch 37/100\n",
            "\u001b[1m174/175\u001b[0m \u001b[32m━━━━━━━━━━━━━━━━━━━\u001b[0m\u001b[37m━\u001b[0m \u001b[1m0s\u001b[0m 2ms/step - accuracy: 0.3043 - loss: 0.5454\n",
            "Epoch 37: val_loss did not improve from 0.53731\n",
            "\u001b[1m175/175\u001b[0m \u001b[32m━━━━━━━━━━━━━━━━━━━━\u001b[0m\u001b[37m\u001b[0m \u001b[1m1s\u001b[0m 2ms/step - accuracy: 0.3042 - loss: 0.5454 - val_accuracy: 0.3244 - val_loss: 0.5389\n",
            "Epoch 38/100\n",
            "\u001b[1m158/175\u001b[0m \u001b[32m━━━━━━━━━━━━━━━━━━\u001b[0m\u001b[37m━━\u001b[0m \u001b[1m0s\u001b[0m 2ms/step - accuracy: 0.3143 - loss: 0.5451\n",
            "Epoch 38: val_loss did not improve from 0.53731\n",
            "\u001b[1m175/175\u001b[0m \u001b[32m━━━━━━━━━━━━━━━━━━━━\u001b[0m\u001b[37m\u001b[0m \u001b[1m1s\u001b[0m 2ms/step - accuracy: 0.3136 - loss: 0.5452 - val_accuracy: 0.3144 - val_loss: 0.5404\n",
            "Epoch 39/100\n",
            "\u001b[1m151/175\u001b[0m \u001b[32m━━━━━━━━━━━━━━━━━\u001b[0m\u001b[37m━━━\u001b[0m \u001b[1m0s\u001b[0m 2ms/step - accuracy: 0.3155 - loss: 0.5477\n",
            "Epoch 39: val_loss improved from 0.53731 to 0.53719, saving model to model.keras\n",
            "\u001b[1m175/175\u001b[0m \u001b[32m━━━━━━━━━━━━━━━━━━━━\u001b[0m\u001b[37m\u001b[0m \u001b[1m1s\u001b[0m 2ms/step - accuracy: 0.3151 - loss: 0.5474 - val_accuracy: 0.3261 - val_loss: 0.5372\n",
            "Epoch 40/100\n",
            "\u001b[1m152/175\u001b[0m \u001b[32m━━━━━━━━━━━━━━━━━\u001b[0m\u001b[37m━━━\u001b[0m \u001b[1m0s\u001b[0m 2ms/step - accuracy: 0.3033 - loss: 0.5468\n",
            "Epoch 40: val_loss did not improve from 0.53719\n",
            "\u001b[1m175/175\u001b[0m \u001b[32m━━━━━━━━━━━━━━━━━━━━\u001b[0m\u001b[37m\u001b[0m \u001b[1m0s\u001b[0m 2ms/step - accuracy: 0.3035 - loss: 0.5466 - val_accuracy: 0.3344 - val_loss: 0.5373\n",
            "Epoch 41/100\n",
            "\u001b[1m151/175\u001b[0m \u001b[32m━━━━━━━━━━━━━━━━━\u001b[0m\u001b[37m━━━\u001b[0m \u001b[1m0s\u001b[0m 2ms/step - accuracy: 0.3108 - loss: 0.5444\n",
            "Epoch 41: val_loss improved from 0.53719 to 0.53590, saving model to model.keras\n",
            "\u001b[1m175/175\u001b[0m \u001b[32m━━━━━━━━━━━━━━━━━━━━\u001b[0m\u001b[37m\u001b[0m \u001b[1m0s\u001b[0m 2ms/step - accuracy: 0.3105 - loss: 0.5445 - val_accuracy: 0.3495 - val_loss: 0.5359\n",
            "Epoch 42/100\n",
            "\u001b[1m150/175\u001b[0m \u001b[32m━━━━━━━━━━━━━━━━━\u001b[0m\u001b[37m━━━\u001b[0m \u001b[1m0s\u001b[0m 2ms/step - accuracy: 0.3060 - loss: 0.5453\n",
            "Epoch 42: val_loss did not improve from 0.53590\n",
            "\u001b[1m175/175\u001b[0m \u001b[32m━━━━━━━━━━━━━━━━━━━━\u001b[0m\u001b[37m\u001b[0m \u001b[1m1s\u001b[0m 2ms/step - accuracy: 0.3066 - loss: 0.5453 - val_accuracy: 0.3403 - val_loss: 0.5361\n",
            "Epoch 43/100\n",
            "\u001b[1m172/175\u001b[0m \u001b[32m━━━━━━━━━━━━━━━━━━━\u001b[0m\u001b[37m━\u001b[0m \u001b[1m0s\u001b[0m 2ms/step - accuracy: 0.3143 - loss: 0.5438\n",
            "Epoch 43: val_loss did not improve from 0.53590\n",
            "\u001b[1m175/175\u001b[0m \u001b[32m━━━━━━━━━━━━━━━━━━━━\u001b[0m\u001b[37m\u001b[0m \u001b[1m1s\u001b[0m 2ms/step - accuracy: 0.3143 - loss: 0.5438 - val_accuracy: 0.3286 - val_loss: 0.5361\n",
            "Epoch 44/100\n",
            "\u001b[1m173/175\u001b[0m \u001b[32m━━━━━━━━━━━━━━━━━━━\u001b[0m\u001b[37m━\u001b[0m \u001b[1m0s\u001b[0m 2ms/step - accuracy: 0.3123 - loss: 0.5428\n",
            "Epoch 44: val_loss did not improve from 0.53590\n",
            "\u001b[1m175/175\u001b[0m \u001b[32m━━━━━━━━━━━━━━━━━━━━\u001b[0m\u001b[37m\u001b[0m \u001b[1m1s\u001b[0m 2ms/step - accuracy: 0.3123 - loss: 0.5428 - val_accuracy: 0.3361 - val_loss: 0.5398\n",
            "Epoch 45/100\n",
            "\u001b[1m172/175\u001b[0m \u001b[32m━━━━━━━━━━━━━━━━━━━\u001b[0m\u001b[37m━\u001b[0m \u001b[1m0s\u001b[0m 2ms/step - accuracy: 0.3005 - loss: 0.5459\n",
            "Epoch 45: val_loss improved from 0.53590 to 0.53567, saving model to model.keras\n",
            "\u001b[1m175/175\u001b[0m \u001b[32m━━━━━━━━━━━━━━━━━━━━\u001b[0m\u001b[37m\u001b[0m \u001b[1m0s\u001b[0m 2ms/step - accuracy: 0.3009 - loss: 0.5459 - val_accuracy: 0.3303 - val_loss: 0.5357\n",
            "Epoch 46/100\n",
            "\u001b[1m157/175\u001b[0m \u001b[32m━━━━━━━━━━━━━━━━━\u001b[0m\u001b[37m━━━\u001b[0m \u001b[1m0s\u001b[0m 2ms/step - accuracy: 0.3088 - loss: 0.5444\n",
            "Epoch 46: val_loss did not improve from 0.53567\n",
            "\u001b[1m175/175\u001b[0m \u001b[32m━━━━━━━━━━━━━━━━━━━━\u001b[0m\u001b[37m\u001b[0m \u001b[1m0s\u001b[0m 2ms/step - accuracy: 0.3085 - loss: 0.5447 - val_accuracy: 0.3319 - val_loss: 0.5367\n",
            "Epoch 47/100\n",
            "\u001b[1m172/175\u001b[0m \u001b[32m━━━━━━━━━━━━━━━━━━━\u001b[0m\u001b[37m━\u001b[0m \u001b[1m0s\u001b[0m 2ms/step - accuracy: 0.3113 - loss: 0.5467\n",
            "Epoch 47: val_loss did not improve from 0.53567\n",
            "\u001b[1m175/175\u001b[0m \u001b[32m━━━━━━━━━━━━━━━━━━━━\u001b[0m\u001b[37m\u001b[0m \u001b[1m1s\u001b[0m 2ms/step - accuracy: 0.3115 - loss: 0.5467 - val_accuracy: 0.3336 - val_loss: 0.5368\n",
            "Epoch 48/100\n",
            "\u001b[1m172/175\u001b[0m \u001b[32m━━━━━━━━━━━━━━━━━━━\u001b[0m\u001b[37m━\u001b[0m \u001b[1m0s\u001b[0m 4ms/step - accuracy: 0.3070 - loss: 0.5443\n",
            "Epoch 48: val_loss did not improve from 0.53567\n",
            "\u001b[1m175/175\u001b[0m \u001b[32m━━━━━━━━━━━━━━━━━━━━\u001b[0m\u001b[37m\u001b[0m \u001b[1m1s\u001b[0m 5ms/step - accuracy: 0.3071 - loss: 0.5443 - val_accuracy: 0.3169 - val_loss: 0.5407\n",
            "Epoch 49/100\n",
            "\u001b[1m173/175\u001b[0m \u001b[32m━━━━━━━━━━━━━━━━━━━\u001b[0m\u001b[37m━\u001b[0m \u001b[1m0s\u001b[0m 3ms/step - accuracy: 0.2940 - loss: 0.5480\n",
            "Epoch 49: val_loss did not improve from 0.53567\n",
            "\u001b[1m175/175\u001b[0m \u001b[32m━━━━━━━━━━━━━━━━━━━━\u001b[0m\u001b[37m\u001b[0m \u001b[1m1s\u001b[0m 4ms/step - accuracy: 0.2941 - loss: 0.5480 - val_accuracy: 0.3453 - val_loss: 0.5371\n",
            "Epoch 50/100\n",
            "\u001b[1m148/175\u001b[0m \u001b[32m━━━━━━━━━━━━━━━━\u001b[0m\u001b[37m━━━━\u001b[0m \u001b[1m0s\u001b[0m 2ms/step - accuracy: 0.3038 - loss: 0.5459\n",
            "Epoch 50: val_loss improved from 0.53567 to 0.53543, saving model to model.keras\n",
            "\u001b[1m175/175\u001b[0m \u001b[32m━━━━━━━━━━━━━━━━━━━━\u001b[0m\u001b[37m\u001b[0m \u001b[1m0s\u001b[0m 2ms/step - accuracy: 0.3034 - loss: 0.5458 - val_accuracy: 0.3453 - val_loss: 0.5354\n",
            "Epoch 51/100\n",
            "\u001b[1m170/175\u001b[0m \u001b[32m━━━━━━━━━━━━━━━━━━━\u001b[0m\u001b[37m━\u001b[0m \u001b[1m0s\u001b[0m 2ms/step - accuracy: 0.3062 - loss: 0.5470\n",
            "Epoch 51: val_loss did not improve from 0.53543\n",
            "\u001b[1m175/175\u001b[0m \u001b[32m━━━━━━━━━━━━━━━━━━━━\u001b[0m\u001b[37m\u001b[0m \u001b[1m1s\u001b[0m 3ms/step - accuracy: 0.3061 - loss: 0.5469 - val_accuracy: 0.3094 - val_loss: 0.5429\n",
            "Epoch 52/100\n",
            "\u001b[1m168/175\u001b[0m \u001b[32m━━━━━━━━━━━━━━━━━━━\u001b[0m\u001b[37m━\u001b[0m \u001b[1m0s\u001b[0m 2ms/step - accuracy: 0.3196 - loss: 0.5408\n",
            "Epoch 52: val_loss did not improve from 0.53543\n",
            "\u001b[1m175/175\u001b[0m \u001b[32m━━━━━━━━━━━━━━━━━━━━\u001b[0m\u001b[37m\u001b[0m \u001b[1m0s\u001b[0m 2ms/step - accuracy: 0.3190 - loss: 0.5410 - val_accuracy: 0.3269 - val_loss: 0.5374\n",
            "Epoch 53/100\n",
            "\u001b[1m160/175\u001b[0m \u001b[32m━━━━━━━━━━━━━━━━━━\u001b[0m\u001b[37m━━\u001b[0m \u001b[1m0s\u001b[0m 3ms/step - accuracy: 0.3017 - loss: 0.5448\n",
            "Epoch 53: val_loss did not improve from 0.53543\n",
            "\u001b[1m175/175\u001b[0m \u001b[32m━━━━━━━━━━━━━━━━━━━━\u001b[0m\u001b[37m\u001b[0m \u001b[1m1s\u001b[0m 3ms/step - accuracy: 0.3024 - loss: 0.5447 - val_accuracy: 0.3086 - val_loss: 0.5433\n",
            "Epoch 54/100\n",
            "\u001b[1m157/175\u001b[0m \u001b[32m━━━━━━━━━━━━━━━━━\u001b[0m\u001b[37m━━━\u001b[0m \u001b[1m0s\u001b[0m 3ms/step - accuracy: 0.3024 - loss: 0.5451\n",
            "Epoch 54: val_loss did not improve from 0.53543\n",
            "\u001b[1m175/175\u001b[0m \u001b[32m━━━━━━━━━━━━━━━━━━━━\u001b[0m\u001b[37m\u001b[0m \u001b[1m1s\u001b[0m 3ms/step - accuracy: 0.3031 - loss: 0.5451 - val_accuracy: 0.3203 - val_loss: 0.5402\n",
            "Epoch 55/100\n",
            "\u001b[1m162/175\u001b[0m \u001b[32m━━━━━━━━━━━━━━━━━━\u001b[0m\u001b[37m━━\u001b[0m \u001b[1m0s\u001b[0m 3ms/step - accuracy: 0.3169 - loss: 0.5393\n",
            "Epoch 55: val_loss did not improve from 0.53543\n",
            "\u001b[1m175/175\u001b[0m \u001b[32m━━━━━━━━━━━━━━━━━━━━\u001b[0m\u001b[37m\u001b[0m \u001b[1m1s\u001b[0m 3ms/step - accuracy: 0.3163 - loss: 0.5396 - val_accuracy: 0.3286 - val_loss: 0.5370\n",
            "Epoch 56/100\n",
            "\u001b[1m169/175\u001b[0m \u001b[32m━━━━━━━━━━━━━━━━━━━\u001b[0m\u001b[37m━\u001b[0m \u001b[1m0s\u001b[0m 3ms/step - accuracy: 0.3033 - loss: 0.5449\n",
            "Epoch 56: val_loss did not improve from 0.53543\n",
            "\u001b[1m175/175\u001b[0m \u001b[32m━━━━━━━━━━━━━━━━━━━━\u001b[0m\u001b[37m\u001b[0m \u001b[1m1s\u001b[0m 3ms/step - accuracy: 0.3033 - loss: 0.5449 - val_accuracy: 0.3219 - val_loss: 0.5378\n",
            "Epoch 57/100\n",
            "\u001b[1m167/175\u001b[0m \u001b[32m━━━━━━━━━━━━━━━━━━━\u001b[0m\u001b[37m━\u001b[0m \u001b[1m0s\u001b[0m 2ms/step - accuracy: 0.3034 - loss: 0.5441\n",
            "Epoch 57: val_loss did not improve from 0.53543\n",
            "\u001b[1m175/175\u001b[0m \u001b[32m━━━━━━━━━━━━━━━━━━━━\u001b[0m\u001b[37m\u001b[0m \u001b[1m1s\u001b[0m 4ms/step - accuracy: 0.3038 - loss: 0.5441 - val_accuracy: 0.3311 - val_loss: 0.5368\n",
            "Epoch 58/100\n",
            "\u001b[1m172/175\u001b[0m \u001b[32m━━━━━━━━━━━━━━━━━━━\u001b[0m\u001b[37m━\u001b[0m \u001b[1m0s\u001b[0m 3ms/step - accuracy: 0.3103 - loss: 0.5445\n",
            "Epoch 58: val_loss did not improve from 0.53543\n",
            "\u001b[1m175/175\u001b[0m \u001b[32m━━━━━━━━━━━━━━━━━━━━\u001b[0m\u001b[37m\u001b[0m \u001b[1m1s\u001b[0m 3ms/step - accuracy: 0.3104 - loss: 0.5445 - val_accuracy: 0.3470 - val_loss: 0.5368\n",
            "Epoch 59/100\n",
            "\u001b[1m157/175\u001b[0m \u001b[32m━━━━━━━━━━━━━━━━━\u001b[0m\u001b[37m━━━\u001b[0m \u001b[1m0s\u001b[0m 3ms/step - accuracy: 0.3124 - loss: 0.5430\n",
            "Epoch 59: val_loss did not improve from 0.53543\n",
            "\u001b[1m175/175\u001b[0m \u001b[32m━━━━━━━━━━━━━━━━━━━━\u001b[0m\u001b[37m\u001b[0m \u001b[1m1s\u001b[0m 3ms/step - accuracy: 0.3120 - loss: 0.5431 - val_accuracy: 0.3344 - val_loss: 0.5373\n",
            "Epoch 60/100\n",
            "\u001b[1m170/175\u001b[0m \u001b[32m━━━━━━━━━━━━━━━━━━━\u001b[0m\u001b[37m━\u001b[0m \u001b[1m0s\u001b[0m 2ms/step - accuracy: 0.3236 - loss: 0.5425\n",
            "Epoch 60: val_loss did not improve from 0.53543\n",
            "\u001b[1m175/175\u001b[0m \u001b[32m━━━━━━━━━━━━━━━━━━━━\u001b[0m\u001b[37m\u001b[0m \u001b[1m1s\u001b[0m 2ms/step - accuracy: 0.3233 - loss: 0.5425 - val_accuracy: 0.3294 - val_loss: 0.5355\n",
            "Epoch 61/100\n",
            "\u001b[1m152/175\u001b[0m \u001b[32m━━━━━━━━━━━━━━━━━\u001b[0m\u001b[37m━━━\u001b[0m \u001b[1m0s\u001b[0m 2ms/step - accuracy: 0.3152 - loss: 0.5440\n",
            "Epoch 61: val_loss did not improve from 0.53543\n",
            "\u001b[1m175/175\u001b[0m \u001b[32m━━━━━━━━━━━━━━━━━━━━\u001b[0m\u001b[37m\u001b[0m \u001b[1m1s\u001b[0m 2ms/step - accuracy: 0.3151 - loss: 0.5440 - val_accuracy: 0.3203 - val_loss: 0.5386\n",
            "Epoch 62/100\n",
            "\u001b[1m149/175\u001b[0m \u001b[32m━━━━━━━━━━━━━━━━━\u001b[0m\u001b[37m━━━\u001b[0m \u001b[1m0s\u001b[0m 2ms/step - accuracy: 0.3207 - loss: 0.5418\n",
            "Epoch 62: val_loss did not improve from 0.53543\n",
            "\u001b[1m175/175\u001b[0m \u001b[32m━━━━━━━━━━━━━━━━━━━━\u001b[0m\u001b[37m\u001b[0m \u001b[1m1s\u001b[0m 2ms/step - accuracy: 0.3194 - loss: 0.5419 - val_accuracy: 0.3186 - val_loss: 0.5389\n",
            "Epoch 63/100\n",
            "\u001b[1m161/175\u001b[0m \u001b[32m━━━━━━━━━━━━━━━━━━\u001b[0m\u001b[37m━━\u001b[0m \u001b[1m0s\u001b[0m 2ms/step - accuracy: 0.3230 - loss: 0.5420\n",
            "Epoch 63: val_loss improved from 0.53543 to 0.53517, saving model to model.keras\n",
            "\u001b[1m175/175\u001b[0m \u001b[32m━━━━━━━━━━━━━━━━━━━━\u001b[0m\u001b[37m\u001b[0m \u001b[1m1s\u001b[0m 2ms/step - accuracy: 0.3221 - loss: 0.5420 - val_accuracy: 0.3470 - val_loss: 0.5352\n",
            "Epoch 64/100\n",
            "\u001b[1m155/175\u001b[0m \u001b[32m━━━━━━━━━━━━━━━━━\u001b[0m\u001b[37m━━━\u001b[0m \u001b[1m0s\u001b[0m 2ms/step - accuracy: 0.2951 - loss: 0.5424\n",
            "Epoch 64: val_loss did not improve from 0.53517\n",
            "\u001b[1m175/175\u001b[0m \u001b[32m━━━━━━━━━━━━━━━━━━━━\u001b[0m\u001b[37m\u001b[0m \u001b[1m0s\u001b[0m 2ms/step - accuracy: 0.2960 - loss: 0.5426 - val_accuracy: 0.3461 - val_loss: 0.5353\n",
            "Epoch 65/100\n",
            "\u001b[1m160/175\u001b[0m \u001b[32m━━━━━━━━━━━━━━━━━━\u001b[0m\u001b[37m━━\u001b[0m \u001b[1m0s\u001b[0m 2ms/step - accuracy: 0.3221 - loss: 0.5418\n",
            "Epoch 65: val_loss improved from 0.53517 to 0.53437, saving model to model.keras\n",
            "\u001b[1m175/175\u001b[0m \u001b[32m━━━━━━━━━━━━━━━━━━━━\u001b[0m\u001b[37m\u001b[0m \u001b[1m1s\u001b[0m 3ms/step - accuracy: 0.3220 - loss: 0.5418 - val_accuracy: 0.3378 - val_loss: 0.5344\n",
            "Epoch 66/100\n",
            "\u001b[1m152/175\u001b[0m \u001b[32m━━━━━━━━━━━━━━━━━\u001b[0m\u001b[37m━━━\u001b[0m \u001b[1m0s\u001b[0m 2ms/step - accuracy: 0.3233 - loss: 0.5391\n",
            "Epoch 66: val_loss did not improve from 0.53437\n",
            "\u001b[1m175/175\u001b[0m \u001b[32m━━━━━━━━━━━━━━━━━━━━\u001b[0m\u001b[37m\u001b[0m \u001b[1m1s\u001b[0m 2ms/step - accuracy: 0.3221 - loss: 0.5395 - val_accuracy: 0.3328 - val_loss: 0.5347\n",
            "Epoch 67/100\n",
            "\u001b[1m165/175\u001b[0m \u001b[32m━━━━━━━━━━━━━━━━━━\u001b[0m\u001b[37m━━\u001b[0m \u001b[1m0s\u001b[0m 2ms/step - accuracy: 0.3049 - loss: 0.5448\n",
            "Epoch 67: val_loss did not improve from 0.53437\n",
            "\u001b[1m175/175\u001b[0m \u001b[32m━━━━━━━━━━━━━━━━━━━━\u001b[0m\u001b[37m\u001b[0m \u001b[1m0s\u001b[0m 2ms/step - accuracy: 0.3049 - loss: 0.5448 - val_accuracy: 0.3420 - val_loss: 0.5355\n",
            "Epoch 68/100\n",
            "\u001b[1m148/175\u001b[0m \u001b[32m━━━━━━━━━━━━━━━━\u001b[0m\u001b[37m━━━━\u001b[0m \u001b[1m0s\u001b[0m 2ms/step - accuracy: 0.3044 - loss: 0.5449\n",
            "Epoch 68: val_loss did not improve from 0.53437\n",
            "\u001b[1m175/175\u001b[0m \u001b[32m━━━━━━━━━━━━━━━━━━━━\u001b[0m\u001b[37m\u001b[0m \u001b[1m1s\u001b[0m 2ms/step - accuracy: 0.3054 - loss: 0.5447 - val_accuracy: 0.3378 - val_loss: 0.5364\n",
            "Epoch 69/100\n",
            "\u001b[1m173/175\u001b[0m \u001b[32m━━━━━━━━━━━━━━━━━━━\u001b[0m\u001b[37m━\u001b[0m \u001b[1m0s\u001b[0m 2ms/step - accuracy: 0.3226 - loss: 0.5421\n",
            "Epoch 69: val_loss did not improve from 0.53437\n",
            "\u001b[1m175/175\u001b[0m \u001b[32m━━━━━━━━━━━━━━━━━━━━\u001b[0m\u001b[37m\u001b[0m \u001b[1m0s\u001b[0m 2ms/step - accuracy: 0.3226 - loss: 0.5421 - val_accuracy: 0.3453 - val_loss: 0.5349\n",
            "Epoch 70/100\n",
            "\u001b[1m155/175\u001b[0m \u001b[32m━━━━━━━━━━━━━━━━━\u001b[0m\u001b[37m━━━\u001b[0m \u001b[1m0s\u001b[0m 2ms/step - accuracy: 0.3238 - loss: 0.5417\n",
            "Epoch 70: val_loss did not improve from 0.53437\n",
            "\u001b[1m175/175\u001b[0m \u001b[32m━━━━━━━━━━━━━━━━━━━━\u001b[0m\u001b[37m\u001b[0m \u001b[1m0s\u001b[0m 2ms/step - accuracy: 0.3237 - loss: 0.5417 - val_accuracy: 0.3436 - val_loss: 0.5352\n",
            "Epoch 71/100\n",
            "\u001b[1m168/175\u001b[0m \u001b[32m━━━━━━━━━━━━━━━━━━━\u001b[0m\u001b[37m━\u001b[0m \u001b[1m0s\u001b[0m 2ms/step - accuracy: 0.3256 - loss: 0.5438\n",
            "Epoch 71: val_loss did not improve from 0.53437\n",
            "\u001b[1m175/175\u001b[0m \u001b[32m━━━━━━━━━━━━━━━━━━━━\u001b[0m\u001b[37m\u001b[0m \u001b[1m0s\u001b[0m 2ms/step - accuracy: 0.3251 - loss: 0.5437 - val_accuracy: 0.3386 - val_loss: 0.5344\n",
            "Epoch 72/100\n",
            "\u001b[1m153/175\u001b[0m \u001b[32m━━━━━━━━━━━━━━━━━\u001b[0m\u001b[37m━━━\u001b[0m \u001b[1m0s\u001b[0m 2ms/step - accuracy: 0.3110 - loss: 0.5423\n",
            "Epoch 72: val_loss did not improve from 0.53437\n",
            "\u001b[1m175/175\u001b[0m \u001b[32m━━━━━━━━━━━━━━━━━━━━\u001b[0m\u001b[37m\u001b[0m \u001b[1m0s\u001b[0m 2ms/step - accuracy: 0.3112 - loss: 0.5423 - val_accuracy: 0.3228 - val_loss: 0.5351\n",
            "Epoch 73/100\n",
            "\u001b[1m169/175\u001b[0m \u001b[32m━━━━━━━━━━━━━━━━━━━\u001b[0m\u001b[37m━\u001b[0m \u001b[1m0s\u001b[0m 2ms/step - accuracy: 0.3236 - loss: 0.5409\n",
            "Epoch 73: val_loss did not improve from 0.53437\n",
            "\u001b[1m175/175\u001b[0m \u001b[32m━━━━━━━━━━━━━━━━━━━━\u001b[0m\u001b[37m\u001b[0m \u001b[1m1s\u001b[0m 2ms/step - accuracy: 0.3231 - loss: 0.5409 - val_accuracy: 0.3311 - val_loss: 0.5345\n",
            "Epoch 74/100\n",
            "\u001b[1m146/175\u001b[0m \u001b[32m━━━━━━━━━━━━━━━━\u001b[0m\u001b[37m━━━━\u001b[0m \u001b[1m0s\u001b[0m 2ms/step - accuracy: 0.3164 - loss: 0.5422\n",
            "Epoch 74: val_loss did not improve from 0.53437\n",
            "\u001b[1m175/175\u001b[0m \u001b[32m━━━━━━━━━━━━━━━━━━━━\u001b[0m\u001b[37m\u001b[0m \u001b[1m1s\u001b[0m 2ms/step - accuracy: 0.3175 - loss: 0.5421 - val_accuracy: 0.3436 - val_loss: 0.5349\n",
            "Epoch 75/100\n",
            "\u001b[1m172/175\u001b[0m \u001b[32m━━━━━━━━━━━━━━━━━━━\u001b[0m\u001b[37m━\u001b[0m \u001b[1m0s\u001b[0m 2ms/step - accuracy: 0.3192 - loss: 0.5381\n",
            "Epoch 75: val_loss did not improve from 0.53437\n",
            "\u001b[1m175/175\u001b[0m \u001b[32m━━━━━━━━━━━━━━━━━━━━\u001b[0m\u001b[37m\u001b[0m \u001b[1m1s\u001b[0m 2ms/step - accuracy: 0.3191 - loss: 0.5382 - val_accuracy: 0.3394 - val_loss: 0.5347\n",
            "Epoch 76/100\n",
            "\u001b[1m169/175\u001b[0m \u001b[32m━━━━━━━━━━━━━━━━━━━\u001b[0m\u001b[37m━\u001b[0m \u001b[1m0s\u001b[0m 4ms/step - accuracy: 0.3137 - loss: 0.5428\n",
            "Epoch 76: val_loss did not improve from 0.53437\n",
            "\u001b[1m175/175\u001b[0m \u001b[32m━━━━━━━━━━━━━━━━━━━━\u001b[0m\u001b[37m\u001b[0m \u001b[1m1s\u001b[0m 4ms/step - accuracy: 0.3138 - loss: 0.5428 - val_accuracy: 0.3119 - val_loss: 0.5373\n",
            "Epoch 77/100\n",
            "\u001b[1m171/175\u001b[0m \u001b[32m━━━━━━━━━━━━━━━━━━━\u001b[0m\u001b[37m━\u001b[0m \u001b[1m0s\u001b[0m 3ms/step - accuracy: 0.3170 - loss: 0.5424\n",
            "Epoch 77: val_loss did not improve from 0.53437\n",
            "\u001b[1m175/175\u001b[0m \u001b[32m━━━━━━━━━━━━━━━━━━━━\u001b[0m\u001b[37m\u001b[0m \u001b[1m1s\u001b[0m 6ms/step - accuracy: 0.3170 - loss: 0.5424 - val_accuracy: 0.3311 - val_loss: 0.5363\n",
            "Epoch 78/100\n",
            "\u001b[1m153/175\u001b[0m \u001b[32m━━━━━━━━━━━━━━━━━\u001b[0m\u001b[37m━━━\u001b[0m \u001b[1m0s\u001b[0m 3ms/step - accuracy: 0.3085 - loss: 0.5410\n",
            "Epoch 78: val_loss improved from 0.53437 to 0.53429, saving model to model.keras\n",
            "\u001b[1m175/175\u001b[0m \u001b[32m━━━━━━━━━━━━━━━━━━━━\u001b[0m\u001b[37m\u001b[0m \u001b[1m1s\u001b[0m 4ms/step - accuracy: 0.3085 - loss: 0.5411 - val_accuracy: 0.3261 - val_loss: 0.5343\n",
            "Epoch 79/100\n",
            "\u001b[1m170/175\u001b[0m \u001b[32m━━━━━━━━━━━━━━━━━━━\u001b[0m\u001b[37m━\u001b[0m \u001b[1m0s\u001b[0m 2ms/step - accuracy: 0.3077 - loss: 0.5440\n",
            "Epoch 79: val_loss did not improve from 0.53429\n",
            "\u001b[1m175/175\u001b[0m \u001b[32m━━━━━━━━━━━━━━━━━━━━\u001b[0m\u001b[37m\u001b[0m \u001b[1m1s\u001b[0m 3ms/step - accuracy: 0.3081 - loss: 0.5440 - val_accuracy: 0.3495 - val_loss: 0.5348\n",
            "Epoch 80/100\n",
            "\u001b[1m174/175\u001b[0m \u001b[32m━━━━━━━━━━━━━━━━━━━\u001b[0m\u001b[37m━\u001b[0m \u001b[1m0s\u001b[0m 3ms/step - accuracy: 0.3110 - loss: 0.5428\n",
            "Epoch 80: val_loss did not improve from 0.53429\n",
            "\u001b[1m175/175\u001b[0m \u001b[32m━━━━━━━━━━━━━━━━━━━━\u001b[0m\u001b[37m\u001b[0m \u001b[1m1s\u001b[0m 3ms/step - accuracy: 0.3110 - loss: 0.5428 - val_accuracy: 0.3353 - val_loss: 0.5352\n",
            "Epoch 81/100\n",
            "\u001b[1m157/175\u001b[0m \u001b[32m━━━━━━━━━━━━━━━━━\u001b[0m\u001b[37m━━━\u001b[0m \u001b[1m0s\u001b[0m 3ms/step - accuracy: 0.3208 - loss: 0.5426\n",
            "Epoch 81: val_loss did not improve from 0.53429\n",
            "\u001b[1m175/175\u001b[0m \u001b[32m━━━━━━━━━━━━━━━━━━━━\u001b[0m\u001b[37m\u001b[0m \u001b[1m1s\u001b[0m 3ms/step - accuracy: 0.3202 - loss: 0.5426 - val_accuracy: 0.3436 - val_loss: 0.5345\n",
            "Epoch 82/100\n",
            "\u001b[1m164/175\u001b[0m \u001b[32m━━━━━━━━━━━━━━━━━━\u001b[0m\u001b[37m━━\u001b[0m \u001b[1m0s\u001b[0m 3ms/step - accuracy: 0.3215 - loss: 0.5427\n",
            "Epoch 82: val_loss did not improve from 0.53429\n",
            "\u001b[1m175/175\u001b[0m \u001b[32m━━━━━━━━━━━━━━━━━━━━\u001b[0m\u001b[37m\u001b[0m \u001b[1m1s\u001b[0m 3ms/step - accuracy: 0.3213 - loss: 0.5426 - val_accuracy: 0.3253 - val_loss: 0.5351\n",
            "Epoch 83/100\n",
            "\u001b[1m173/175\u001b[0m \u001b[32m━━━━━━━━━━━━━━━━━━━\u001b[0m\u001b[37m━\u001b[0m \u001b[1m0s\u001b[0m 2ms/step - accuracy: 0.3298 - loss: 0.5405\n",
            "Epoch 83: val_loss improved from 0.53429 to 0.53396, saving model to model.keras\n",
            "\u001b[1m175/175\u001b[0m \u001b[32m━━━━━━━━━━━━━━━━━━━━\u001b[0m\u001b[37m\u001b[0m \u001b[1m0s\u001b[0m 2ms/step - accuracy: 0.3297 - loss: 0.5405 - val_accuracy: 0.3378 - val_loss: 0.5340\n",
            "Epoch 84/100\n",
            "\u001b[1m153/175\u001b[0m \u001b[32m━━━━━━━━━━━━━━━━━\u001b[0m\u001b[37m━━━\u001b[0m \u001b[1m0s\u001b[0m 2ms/step - accuracy: 0.3255 - loss: 0.5384\n",
            "Epoch 84: val_loss did not improve from 0.53396\n",
            "\u001b[1m175/175\u001b[0m \u001b[32m━━━━━━━━━━━━━━━━━━━━\u001b[0m\u001b[37m\u001b[0m \u001b[1m1s\u001b[0m 2ms/step - accuracy: 0.3241 - loss: 0.5388 - val_accuracy: 0.3369 - val_loss: 0.5363\n",
            "Epoch 85/100\n",
            "\u001b[1m147/175\u001b[0m \u001b[32m━━━━━━━━━━━━━━━━\u001b[0m\u001b[37m━━━━\u001b[0m \u001b[1m0s\u001b[0m 2ms/step - accuracy: 0.3306 - loss: 0.5385\n",
            "Epoch 85: val_loss did not improve from 0.53396\n",
            "\u001b[1m175/175\u001b[0m \u001b[32m━━━━━━━━━━━━━━━━━━━━\u001b[0m\u001b[37m\u001b[0m \u001b[1m1s\u001b[0m 2ms/step - accuracy: 0.3297 - loss: 0.5388 - val_accuracy: 0.3278 - val_loss: 0.5345\n",
            "Epoch 86/100\n",
            "\u001b[1m151/175\u001b[0m \u001b[32m━━━━━━━━━━━━━━━━━\u001b[0m\u001b[37m━━━\u001b[0m \u001b[1m0s\u001b[0m 2ms/step - accuracy: 0.3189 - loss: 0.5413\n",
            "Epoch 86: val_loss did not improve from 0.53396\n",
            "\u001b[1m175/175\u001b[0m \u001b[32m━━━━━━━━━━━━━━━━━━━━\u001b[0m\u001b[37m\u001b[0m \u001b[1m0s\u001b[0m 2ms/step - accuracy: 0.3190 - loss: 0.5414 - val_accuracy: 0.3436 - val_loss: 0.5361\n",
            "Epoch 87/100\n",
            "\u001b[1m169/175\u001b[0m \u001b[32m━━━━━━━━━━━━━━━━━━━\u001b[0m\u001b[37m━\u001b[0m \u001b[1m0s\u001b[0m 2ms/step - accuracy: 0.3263 - loss: 0.5401\n",
            "Epoch 87: val_loss did not improve from 0.53396\n",
            "\u001b[1m175/175\u001b[0m \u001b[32m━━━━━━━━━━━━━━━━━━━━\u001b[0m\u001b[37m\u001b[0m \u001b[1m0s\u001b[0m 2ms/step - accuracy: 0.3258 - loss: 0.5402 - val_accuracy: 0.3386 - val_loss: 0.5349\n",
            "Epoch 88/100\n",
            "\u001b[1m154/175\u001b[0m \u001b[32m━━━━━━━━━━━━━━━━━\u001b[0m\u001b[37m━━━\u001b[0m \u001b[1m0s\u001b[0m 2ms/step - accuracy: 0.3115 - loss: 0.5388\n",
            "Epoch 88: val_loss did not improve from 0.53396\n",
            "\u001b[1m175/175\u001b[0m \u001b[32m━━━━━━━━━━━━━━━━━━━━\u001b[0m\u001b[37m\u001b[0m \u001b[1m0s\u001b[0m 2ms/step - accuracy: 0.3114 - loss: 0.5391 - val_accuracy: 0.3319 - val_loss: 0.5363\n",
            "Epoch 89/100\n",
            "\u001b[1m172/175\u001b[0m \u001b[32m━━━━━━━━━━━━━━━━━━━\u001b[0m\u001b[37m━\u001b[0m \u001b[1m0s\u001b[0m 2ms/step - accuracy: 0.3173 - loss: 0.5401\n",
            "Epoch 89: val_loss improved from 0.53396 to 0.53396, saving model to model.keras\n",
            "\u001b[1m175/175\u001b[0m \u001b[32m━━━━━━━━━━━━━━━━━━━━\u001b[0m\u001b[37m\u001b[0m \u001b[1m1s\u001b[0m 2ms/step - accuracy: 0.3172 - loss: 0.5401 - val_accuracy: 0.3269 - val_loss: 0.5340\n",
            "Epoch 90/100\n",
            "\u001b[1m148/175\u001b[0m \u001b[32m━━━━━━━━━━━━━━━━\u001b[0m\u001b[37m━━━━\u001b[0m \u001b[1m0s\u001b[0m 2ms/step - accuracy: 0.3075 - loss: 0.5395\n",
            "Epoch 90: val_loss did not improve from 0.53396\n",
            "\u001b[1m175/175\u001b[0m \u001b[32m━━━━━━━━━━━━━━━━━━━━\u001b[0m\u001b[37m\u001b[0m \u001b[1m0s\u001b[0m 2ms/step - accuracy: 0.3079 - loss: 0.5399 - val_accuracy: 0.3436 - val_loss: 0.5349\n",
            "Epoch 91/100\n",
            "\u001b[1m173/175\u001b[0m \u001b[32m━━━━━━━━━━━━━━━━━━━\u001b[0m\u001b[37m━\u001b[0m \u001b[1m0s\u001b[0m 2ms/step - accuracy: 0.3133 - loss: 0.5406\n",
            "Epoch 91: val_loss did not improve from 0.53396\n",
            "\u001b[1m175/175\u001b[0m \u001b[32m━━━━━━━━━━━━━━━━━━━━\u001b[0m\u001b[37m\u001b[0m \u001b[1m0s\u001b[0m 2ms/step - accuracy: 0.3132 - loss: 0.5406 - val_accuracy: 0.3236 - val_loss: 0.5355\n",
            "Epoch 92/100\n",
            "\u001b[1m148/175\u001b[0m \u001b[32m━━━━━━━━━━━━━━━━\u001b[0m\u001b[37m━━━━\u001b[0m \u001b[1m0s\u001b[0m 2ms/step - accuracy: 0.3000 - loss: 0.5432\n",
            "Epoch 92: val_loss did not improve from 0.53396\n",
            "\u001b[1m175/175\u001b[0m \u001b[32m━━━━━━━━━━━━━━━━━━━━\u001b[0m\u001b[37m\u001b[0m \u001b[1m0s\u001b[0m 2ms/step - accuracy: 0.3016 - loss: 0.5430 - val_accuracy: 0.3328 - val_loss: 0.5348\n",
            "Epoch 93/100\n",
            "\u001b[1m150/175\u001b[0m \u001b[32m━━━━━━━━━━━━━━━━━\u001b[0m\u001b[37m━━━\u001b[0m \u001b[1m0s\u001b[0m 2ms/step - accuracy: 0.3116 - loss: 0.5413\n",
            "Epoch 93: val_loss did not improve from 0.53396\n",
            "\u001b[1m175/175\u001b[0m \u001b[32m━━━━━━━━━━━━━━━━━━━━\u001b[0m\u001b[37m\u001b[0m \u001b[1m0s\u001b[0m 2ms/step - accuracy: 0.3121 - loss: 0.5413 - val_accuracy: 0.3403 - val_loss: 0.5368\n",
            "Epoch 94/100\n",
            "\u001b[1m169/175\u001b[0m \u001b[32m━━━━━━━━━━━━━━━━━━━\u001b[0m\u001b[37m━\u001b[0m \u001b[1m0s\u001b[0m 2ms/step - accuracy: 0.3237 - loss: 0.5430\n",
            "Epoch 94: val_loss did not improve from 0.53396\n",
            "\u001b[1m175/175\u001b[0m \u001b[32m━━━━━━━━━━━━━━━━━━━━\u001b[0m\u001b[37m\u001b[0m \u001b[1m0s\u001b[0m 2ms/step - accuracy: 0.3233 - loss: 0.5430 - val_accuracy: 0.3378 - val_loss: 0.5353\n",
            "Epoch 95/100\n",
            "\u001b[1m155/175\u001b[0m \u001b[32m━━━━━━━━━━━━━━━━━\u001b[0m\u001b[37m━━━\u001b[0m \u001b[1m0s\u001b[0m 2ms/step - accuracy: 0.3350 - loss: 0.5391\n",
            "Epoch 95: val_loss did not improve from 0.53396\n",
            "\u001b[1m175/175\u001b[0m \u001b[32m━━━━━━━━━━━━━━━━━━━━\u001b[0m\u001b[37m\u001b[0m \u001b[1m1s\u001b[0m 2ms/step - accuracy: 0.3338 - loss: 0.5391 - val_accuracy: 0.3244 - val_loss: 0.5369\n",
            "Epoch 96/100\n",
            "\u001b[1m150/175\u001b[0m \u001b[32m━━━━━━━━━━━━━━━━━\u001b[0m\u001b[37m━━━\u001b[0m \u001b[1m0s\u001b[0m 2ms/step - accuracy: 0.3132 - loss: 0.5429\n",
            "Epoch 96: val_loss did not improve from 0.53396\n",
            "\u001b[1m175/175\u001b[0m \u001b[32m━━━━━━━━━━━━━━━━━━━━\u001b[0m\u001b[37m\u001b[0m \u001b[1m1s\u001b[0m 2ms/step - accuracy: 0.3134 - loss: 0.5427 - val_accuracy: 0.3328 - val_loss: 0.5343\n",
            "Epoch 97/100\n",
            "\u001b[1m161/175\u001b[0m \u001b[32m━━━━━━━━━━━━━━━━━━\u001b[0m\u001b[37m━━\u001b[0m \u001b[1m0s\u001b[0m 2ms/step - accuracy: 0.3217 - loss: 0.5412\n",
            "Epoch 97: val_loss did not improve from 0.53396\n",
            "\u001b[1m175/175\u001b[0m \u001b[32m━━━━━━━━━━━━━━━━━━━━\u001b[0m\u001b[37m\u001b[0m \u001b[1m1s\u001b[0m 2ms/step - accuracy: 0.3214 - loss: 0.5411 - val_accuracy: 0.3369 - val_loss: 0.5345\n",
            "Epoch 98/100\n",
            "\u001b[1m151/175\u001b[0m \u001b[32m━━━━━━━━━━━━━━━━━\u001b[0m\u001b[37m━━━\u001b[0m \u001b[1m0s\u001b[0m 2ms/step - accuracy: 0.3127 - loss: 0.5399\n",
            "Epoch 98: val_loss did not improve from 0.53396\n",
            "\u001b[1m175/175\u001b[0m \u001b[32m━━━━━━━━━━━━━━━━━━━━\u001b[0m\u001b[37m\u001b[0m \u001b[1m0s\u001b[0m 2ms/step - accuracy: 0.3128 - loss: 0.5398 - val_accuracy: 0.3294 - val_loss: 0.5351\n",
            "Epoch 99/100\n",
            "\u001b[1m149/175\u001b[0m \u001b[32m━━━━━━━━━━━━━━━━━\u001b[0m\u001b[37m━━━\u001b[0m \u001b[1m0s\u001b[0m 2ms/step - accuracy: 0.3253 - loss: 0.5409\n",
            "Epoch 99: val_loss did not improve from 0.53396\n",
            "\u001b[1m175/175\u001b[0m \u001b[32m━━━━━━━━━━━━━━━━━━━━\u001b[0m\u001b[37m\u001b[0m \u001b[1m0s\u001b[0m 2ms/step - accuracy: 0.3241 - loss: 0.5406 - val_accuracy: 0.3369 - val_loss: 0.5359\n",
            "Epoch 100/100\n",
            "\u001b[1m169/175\u001b[0m \u001b[32m━━━━━━━━━━━━━━━━━━━\u001b[0m\u001b[37m━\u001b[0m \u001b[1m0s\u001b[0m 2ms/step - accuracy: 0.3075 - loss: 0.5402\n",
            "Epoch 100: val_loss did not improve from 0.53396\n",
            "\u001b[1m175/175\u001b[0m \u001b[32m━━━━━━━━━━━━━━━━━━━━\u001b[0m\u001b[37m\u001b[0m \u001b[1m0s\u001b[0m 2ms/step - accuracy: 0.3077 - loss: 0.5402 - val_accuracy: 0.3453 - val_loss: 0.5354\n"
          ]
        }
      ]
    },
    {
      "cell_type": "code",
      "source": [
        "\"\"\"\n",
        "Función para graficar los resultados del entramiento\n",
        "\"\"\"\n",
        "def plot_accuracy_and_loss(history):\n",
        "\n",
        "    # Extraer datos de la historia de entrenamiento\n",
        "    acc = history.history['accuracy']\n",
        "    val_acc = history.history['val_accuracy']\n",
        "    loss = history.history['loss']\n",
        "    val_loss = history.history['val_loss']\n",
        "\n",
        "    # Número de épocas\n",
        "    epochs = range(1, len(acc) + 1)\n",
        "\n",
        "    # Gráfica de accuracy\n",
        "    plt.figure(figsize=(12, 5))\n",
        "\n",
        "    plt.subplot(1, 2, 1)\n",
        "    plt.plot(epochs, acc, 'b', label='Training accuracy')\n",
        "    plt.plot(epochs, val_acc, 'r', label='Validation accuracy')\n",
        "    plt.title('Training and validation accuracy')\n",
        "    plt.xlabel('Epochs')\n",
        "    plt.ylabel('Accuracy')\n",
        "    plt.legend()\n",
        "\n",
        "    # Gráfica de loss\n",
        "    plt.subplot(1, 2, 2)\n",
        "    plt.plot(epochs, loss, 'b', label='Training loss')\n",
        "    plt.plot(epochs, val_loss, 'r', label='Validation loss')\n",
        "    plt.title('Training and validation loss')\n",
        "    plt.xlabel('Epochs')\n",
        "    plt.ylabel('Loss')\n",
        "    plt.legend()\n",
        "\n",
        "    plt.show()\n",
        "\n",
        "plot_accuracy_and_loss(history)"
      ],
      "metadata": {
        "colab": {
          "base_uri": "https://localhost:8080/",
          "height": 487
        },
        "id": "7NctQuGdI2qd",
        "outputId": "07a2f186-f257-4c27-8019-7f8152a80ab3"
      },
      "execution_count": 15,
      "outputs": [
        {
          "output_type": "display_data",
          "data": {
            "text/plain": [
              "<Figure size 1200x500 with 2 Axes>"
            ],
            "image/png": "[encoded data removed]"
          },
          "metadata": {}
        }
      ]
    },
    {
      "cell_type": "markdown",
      "source": [
        "Una vez terminado el entrenamiento se carga el mejor modelo guardado por el callback de ModelCheckpoint."
      ],
      "metadata": {
        "id": "SHYvEjHwI4PO"
      }
    },
    {
      "cell_type": "code",
      "source": [
        "# Carga del mejor modelo\n",
        "model = load_model('model.keras')"
      ],
      "metadata": {
        "id": "YaS_oY0VI5cH"
      },
      "execution_count": 16,
      "outputs": []
    },
    {
      "cell_type": "markdown",
      "source": [
        "## **5. Resultados del modelo**"
      ],
      "metadata": {
        "id": "OCEsfk3JI7Mi"
      }
    },
    {
      "cell_type": "markdown",
      "source": [
        "Quinto, se procede a calcular la matriz de confusión que arroja del modelo con respecto al conjunto de prueba. A partir de esta matriz, se derivan tres métricas importantes: precisión, recall y F1."
      ],
      "metadata": {
        "id": "sKPcyZq6I8uV"
      }
    },
    {
      "cell_type": "code",
      "source": [
        "# Predecir etiquetas para el conjunto de prueba\n",
        "y_pred = np.argmax(model.predict(X_test_vec), axis=1)\n",
        "\n",
        "# Calcular la matriz de confusión\n",
        "cm = confusion_matrix(y_test, y_pred)\n",
        "\n",
        "# Mostrar la matriz de confusión\n",
        "disp = ConfusionMatrixDisplay(confusion_matrix=cm)\n",
        "disp.plot(cmap=\"Blues\")\n",
        "\n",
        "# Calcular métricas adicionales basadas en la matriz de confusión\n",
        "precision = precision_score(y_test, y_pred, average='weighted')\n",
        "recall = recall_score(y_test, y_pred, average='weighted')\n",
        "f1 = f1_score(y_test, y_pred, average='weighted')\n",
        "\n",
        "# Mostrar las métricas de la matriz de confusión\n",
        "print(\"\\nMétricas derivadas de la matriz de confusión:\")\n",
        "print(f\" - Precisión (Weighted): {precision:.4f}\")\n",
        "print(f\" - Recall (Weighted): {recall:.4f}\")\n",
        "print(f\" - F1 (Weighted): {f1:.4f}\")"
      ],
      "metadata": {
        "colab": {
          "base_uri": "https://localhost:8080/",
          "height": 553
        },
        "id": "vOhy1sD8I-nP",
        "outputId": "ca4c380e-ce89-40cb-d5bb-7a07df025dde"
      },
      "execution_count": 17,
      "outputs": [
        {
          "output_type": "stream",
          "name": "stdout",
          "text": [
            "\u001b[1m38/38\u001b[0m \u001b[32m━━━━━━━━━━━━━━━━━━━━\u001b[0m\u001b[37m\u001b[0m \u001b[1m0s\u001b[0m 3ms/step\n",
            "\n",
            "Métricas derivadas de la matriz de confusión:\n",
            " - Precisión (Weighted): 0.2643\n",
            " - Recall (Weighted): 0.3033\n",
            " - F1 (Weighted): 0.2455\n"
          ]
        },
        {
          "output_type": "display_data",
          "data": {
            "text/plain": [
              "<Figure size 640x480 with 2 Axes>"
            ],
            "image/png": "[encoded data removed]"
          },
          "metadata": {}
        }
      ]
    },
    {
      "cell_type": "markdown",
      "source": [
        "El modelo muestra un desempeño limitado, con una precisión ponderada de 26.43%, un recall ponderado de 30.33% y un F1-score ponderado de 24.55%. Estos resultados reflejan que el modelo tiene una capacidad reducida para clasificar correctamente las clases en el conjunto de datos, lo cual puede estar relacionado con dificultades para identificar patrones claros en los datos. La matriz de confusión tambien muestra que el modelo tiene un sesgo hacia ciertas clases (por ejemplo, la clase 1), mientras que las demás reciben predicciones más dispersas, lo que afecta negativamente su rendimiento global."
      ],
      "metadata": {
        "id": "PCeMlAcoJF6-"
      }
    }
  ]
}